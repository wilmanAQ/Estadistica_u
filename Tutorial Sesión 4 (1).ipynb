{
 "cells": [
  {
   "cell_type": "markdown",
   "id": "86ba156a",
   "metadata": {},
   "source": [
    "# Nivelatorio II: Estadística para la Ciencia de Datos"
   ]
  },
  {
   "cell_type": "markdown",
   "id": "9947fda3",
   "metadata": {},
   "source": [
    "## Tutorial en Pyhton - Sesión 4"
   ]
  },
  {
   "cell_type": "code",
   "execution_count": 174,
   "id": "b6872662",
   "metadata": {},
   "outputs": [],
   "source": [
    "import pandas as pd   ## Libreria para manipular y analizar datos\n",
    "import matplotlib.pyplot as plt  ## Libreria para visualizar\n",
    "import seaborn as sns   ## Libreria para visualizar\n",
    "import numpy as np  ## Libreria para operaciones numéricas\n",
    "import plotly  ## Libreria para visualizaciones interactivas\n",
    "import matplotlib.ticker as mtick  ## función para formatear en visualizaciones\n",
    "from scipy.stats import norm ## distribución normal\n",
    "from scipy.stats import poisson ## distribución Poisson\n",
    "from scipy.stats import t ## distribución t\n",
    "from scipy.stats import ttest_1samp  ## Prueba t\n",
    "import statsmodels.stats as sm  ## estadísticas\n",
    "import statsmodels.api as sm1  ## estadísticas"
   ]
  },
  {
   "cell_type": "markdown",
   "id": "a165c97d",
   "metadata": {},
   "source": [
    "## Distribución muestral de la media y TLC"
   ]
  },
  {
   "cell_type": "markdown",
   "id": "44c68097",
   "metadata": {},
   "source": [
    "Primero, trabajemos con unos datos que siguen una distribución normal (media 5 y desviación estándar 1)"
   ]
  },
  {
   "cell_type": "code",
   "execution_count": 175,
   "id": "304ab5eb",
   "metadata": {},
   "outputs": [
    {
     "data": {
      "text/html": [
       "<div>\n",
       "<style scoped>\n",
       "    .dataframe tbody tr th:only-of-type {\n",
       "        vertical-align: middle;\n",
       "    }\n",
       "\n",
       "    .dataframe tbody tr th {\n",
       "        vertical-align: top;\n",
       "    }\n",
       "\n",
       "    .dataframe thead th {\n",
       "        text-align: right;\n",
       "    }\n",
       "</style>\n",
       "<table border=\"1\" class=\"dataframe\">\n",
       "  <thead>\n",
       "    <tr style=\"text-align: right;\">\n",
       "      <th></th>\n",
       "      <th>M1</th>\n",
       "    </tr>\n",
       "  </thead>\n",
       "  <tbody>\n",
       "    <tr>\n",
       "      <th>0</th>\n",
       "      <td>4.927919</td>\n",
       "    </tr>\n",
       "    <tr>\n",
       "      <th>1</th>\n",
       "      <td>5.159671</td>\n",
       "    </tr>\n",
       "    <tr>\n",
       "      <th>2</th>\n",
       "      <td>4.794075</td>\n",
       "    </tr>\n",
       "    <tr>\n",
       "      <th>3</th>\n",
       "      <td>5.818767</td>\n",
       "    </tr>\n",
       "    <tr>\n",
       "      <th>4</th>\n",
       "      <td>5.142621</td>\n",
       "    </tr>\n",
       "    <tr>\n",
       "      <th>5</th>\n",
       "      <td>5.274359</td>\n",
       "    </tr>\n",
       "    <tr>\n",
       "      <th>6</th>\n",
       "      <td>3.837313</td>\n",
       "    </tr>\n",
       "    <tr>\n",
       "      <th>7</th>\n",
       "      <td>3.139172</td>\n",
       "    </tr>\n",
       "    <tr>\n",
       "      <th>8</th>\n",
       "      <td>5.803337</td>\n",
       "    </tr>\n",
       "    <tr>\n",
       "      <th>9</th>\n",
       "      <td>5.292850</td>\n",
       "    </tr>\n",
       "  </tbody>\n",
       "</table>\n",
       "</div>"
      ],
      "text/plain": [
       "         M1\n",
       "0  4.927919\n",
       "1  5.159671\n",
       "2  4.794075\n",
       "3  5.818767\n",
       "4  5.142621\n",
       "5  5.274359\n",
       "6  3.837313\n",
       "7  3.139172\n",
       "8  5.803337\n",
       "9  5.292850"
      ]
     },
     "execution_count": 175,
     "metadata": {},
     "output_type": "execute_result"
    }
   ],
   "source": [
    "df = pd.DataFrame(data={'M1':norm.rvs(loc=5,scale=1,size=10)})\n",
    "df"
   ]
  },
  {
   "cell_type": "code",
   "execution_count": 176,
   "id": "4eaa0015",
   "metadata": {},
   "outputs": [
    {
     "data": {
      "text/html": [
       "<div>\n",
       "<style scoped>\n",
       "    .dataframe tbody tr th:only-of-type {\n",
       "        vertical-align: middle;\n",
       "    }\n",
       "\n",
       "    .dataframe tbody tr th {\n",
       "        vertical-align: top;\n",
       "    }\n",
       "\n",
       "    .dataframe thead th {\n",
       "        text-align: right;\n",
       "    }\n",
       "</style>\n",
       "<table border=\"1\" class=\"dataframe\">\n",
       "  <thead>\n",
       "    <tr style=\"text-align: right;\">\n",
       "      <th></th>\n",
       "      <th>M1</th>\n",
       "      <th>M2</th>\n",
       "      <th>M3</th>\n",
       "      <th>M4</th>\n",
       "      <th>M5</th>\n",
       "      <th>M6</th>\n",
       "      <th>M7</th>\n",
       "      <th>M8</th>\n",
       "      <th>M9</th>\n",
       "      <th>M10</th>\n",
       "      <th>...</th>\n",
       "      <th>M491</th>\n",
       "      <th>M492</th>\n",
       "      <th>M493</th>\n",
       "      <th>M494</th>\n",
       "      <th>M495</th>\n",
       "      <th>M496</th>\n",
       "      <th>M497</th>\n",
       "      <th>M498</th>\n",
       "      <th>M499</th>\n",
       "      <th>M500</th>\n",
       "    </tr>\n",
       "  </thead>\n",
       "  <tbody>\n",
       "    <tr>\n",
       "      <th>0</th>\n",
       "      <td>4.927919</td>\n",
       "      <td>6.327043</td>\n",
       "      <td>6.681601</td>\n",
       "      <td>4.550809</td>\n",
       "      <td>5.177106</td>\n",
       "      <td>4.823532</td>\n",
       "      <td>5.515664</td>\n",
       "      <td>5.848704</td>\n",
       "      <td>6.158715</td>\n",
       "      <td>7.013667</td>\n",
       "      <td>...</td>\n",
       "      <td>3.405131</td>\n",
       "      <td>5.384756</td>\n",
       "      <td>3.978052</td>\n",
       "      <td>6.067719</td>\n",
       "      <td>3.718493</td>\n",
       "      <td>7.170064</td>\n",
       "      <td>5.812126</td>\n",
       "      <td>5.402370</td>\n",
       "      <td>4.136153</td>\n",
       "      <td>1.885143</td>\n",
       "    </tr>\n",
       "    <tr>\n",
       "      <th>1</th>\n",
       "      <td>5.159671</td>\n",
       "      <td>5.360318</td>\n",
       "      <td>5.975517</td>\n",
       "      <td>4.964256</td>\n",
       "      <td>4.947101</td>\n",
       "      <td>3.984653</td>\n",
       "      <td>4.862324</td>\n",
       "      <td>5.589087</td>\n",
       "      <td>4.938718</td>\n",
       "      <td>5.532551</td>\n",
       "      <td>...</td>\n",
       "      <td>7.303367</td>\n",
       "      <td>2.996245</td>\n",
       "      <td>4.046281</td>\n",
       "      <td>4.068399</td>\n",
       "      <td>5.177078</td>\n",
       "      <td>3.177960</td>\n",
       "      <td>4.701085</td>\n",
       "      <td>2.074703</td>\n",
       "      <td>5.309069</td>\n",
       "      <td>7.235261</td>\n",
       "    </tr>\n",
       "    <tr>\n",
       "      <th>2</th>\n",
       "      <td>4.794075</td>\n",
       "      <td>4.392203</td>\n",
       "      <td>5.591745</td>\n",
       "      <td>4.613314</td>\n",
       "      <td>5.425270</td>\n",
       "      <td>6.500239</td>\n",
       "      <td>5.816199</td>\n",
       "      <td>5.371043</td>\n",
       "      <td>4.640264</td>\n",
       "      <td>4.088460</td>\n",
       "      <td>...</td>\n",
       "      <td>5.684306</td>\n",
       "      <td>5.420656</td>\n",
       "      <td>5.105076</td>\n",
       "      <td>5.304526</td>\n",
       "      <td>5.195904</td>\n",
       "      <td>5.679265</td>\n",
       "      <td>5.756992</td>\n",
       "      <td>4.417594</td>\n",
       "      <td>5.218187</td>\n",
       "      <td>4.244369</td>\n",
       "    </tr>\n",
       "    <tr>\n",
       "      <th>3</th>\n",
       "      <td>5.818767</td>\n",
       "      <td>4.299710</td>\n",
       "      <td>4.649390</td>\n",
       "      <td>5.509022</td>\n",
       "      <td>4.274716</td>\n",
       "      <td>6.833262</td>\n",
       "      <td>4.340016</td>\n",
       "      <td>3.660289</td>\n",
       "      <td>5.363264</td>\n",
       "      <td>5.431613</td>\n",
       "      <td>...</td>\n",
       "      <td>5.470226</td>\n",
       "      <td>5.091370</td>\n",
       "      <td>4.932377</td>\n",
       "      <td>5.821884</td>\n",
       "      <td>3.079072</td>\n",
       "      <td>6.552552</td>\n",
       "      <td>5.142999</td>\n",
       "      <td>4.132649</td>\n",
       "      <td>5.912371</td>\n",
       "      <td>4.754590</td>\n",
       "    </tr>\n",
       "    <tr>\n",
       "      <th>4</th>\n",
       "      <td>5.142621</td>\n",
       "      <td>6.747987</td>\n",
       "      <td>5.785744</td>\n",
       "      <td>6.064556</td>\n",
       "      <td>3.629251</td>\n",
       "      <td>5.033775</td>\n",
       "      <td>4.814651</td>\n",
       "      <td>5.329180</td>\n",
       "      <td>6.771187</td>\n",
       "      <td>4.994437</td>\n",
       "      <td>...</td>\n",
       "      <td>4.884788</td>\n",
       "      <td>3.820595</td>\n",
       "      <td>5.358397</td>\n",
       "      <td>4.320495</td>\n",
       "      <td>4.436171</td>\n",
       "      <td>3.816565</td>\n",
       "      <td>7.066026</td>\n",
       "      <td>7.204841</td>\n",
       "      <td>3.774127</td>\n",
       "      <td>6.763332</td>\n",
       "    </tr>\n",
       "    <tr>\n",
       "      <th>5</th>\n",
       "      <td>5.274359</td>\n",
       "      <td>5.760073</td>\n",
       "      <td>3.222846</td>\n",
       "      <td>6.453931</td>\n",
       "      <td>6.829355</td>\n",
       "      <td>4.940713</td>\n",
       "      <td>5.520754</td>\n",
       "      <td>5.095909</td>\n",
       "      <td>3.580628</td>\n",
       "      <td>4.368457</td>\n",
       "      <td>...</td>\n",
       "      <td>4.054601</td>\n",
       "      <td>5.050109</td>\n",
       "      <td>5.454327</td>\n",
       "      <td>4.273769</td>\n",
       "      <td>4.048163</td>\n",
       "      <td>4.119394</td>\n",
       "      <td>7.113764</td>\n",
       "      <td>3.278544</td>\n",
       "      <td>4.217332</td>\n",
       "      <td>6.840587</td>\n",
       "    </tr>\n",
       "    <tr>\n",
       "      <th>6</th>\n",
       "      <td>3.837313</td>\n",
       "      <td>5.622014</td>\n",
       "      <td>5.679447</td>\n",
       "      <td>6.364264</td>\n",
       "      <td>4.874295</td>\n",
       "      <td>4.587634</td>\n",
       "      <td>4.615428</td>\n",
       "      <td>6.139718</td>\n",
       "      <td>5.204287</td>\n",
       "      <td>4.785436</td>\n",
       "      <td>...</td>\n",
       "      <td>5.528396</td>\n",
       "      <td>5.187061</td>\n",
       "      <td>4.233933</td>\n",
       "      <td>6.537120</td>\n",
       "      <td>4.750346</td>\n",
       "      <td>4.398926</td>\n",
       "      <td>4.263582</td>\n",
       "      <td>6.314110</td>\n",
       "      <td>6.685112</td>\n",
       "      <td>4.602077</td>\n",
       "    </tr>\n",
       "    <tr>\n",
       "      <th>7</th>\n",
       "      <td>3.139172</td>\n",
       "      <td>3.306249</td>\n",
       "      <td>5.967651</td>\n",
       "      <td>3.574581</td>\n",
       "      <td>5.712908</td>\n",
       "      <td>5.051734</td>\n",
       "      <td>4.580217</td>\n",
       "      <td>6.543549</td>\n",
       "      <td>4.579314</td>\n",
       "      <td>5.040833</td>\n",
       "      <td>...</td>\n",
       "      <td>7.342485</td>\n",
       "      <td>3.331513</td>\n",
       "      <td>5.564413</td>\n",
       "      <td>5.478034</td>\n",
       "      <td>4.699135</td>\n",
       "      <td>4.260109</td>\n",
       "      <td>4.437029</td>\n",
       "      <td>5.782267</td>\n",
       "      <td>6.687847</td>\n",
       "      <td>3.655001</td>\n",
       "    </tr>\n",
       "    <tr>\n",
       "      <th>8</th>\n",
       "      <td>5.803337</td>\n",
       "      <td>5.277493</td>\n",
       "      <td>4.660342</td>\n",
       "      <td>3.516582</td>\n",
       "      <td>4.668674</td>\n",
       "      <td>3.386504</td>\n",
       "      <td>5.249125</td>\n",
       "      <td>4.233597</td>\n",
       "      <td>3.235391</td>\n",
       "      <td>5.185184</td>\n",
       "      <td>...</td>\n",
       "      <td>4.252822</td>\n",
       "      <td>6.138724</td>\n",
       "      <td>5.735826</td>\n",
       "      <td>5.114571</td>\n",
       "      <td>5.029375</td>\n",
       "      <td>6.772176</td>\n",
       "      <td>3.871471</td>\n",
       "      <td>6.757197</td>\n",
       "      <td>5.131531</td>\n",
       "      <td>6.457298</td>\n",
       "    </tr>\n",
       "    <tr>\n",
       "      <th>9</th>\n",
       "      <td>5.292850</td>\n",
       "      <td>6.262470</td>\n",
       "      <td>4.633049</td>\n",
       "      <td>7.132964</td>\n",
       "      <td>3.903333</td>\n",
       "      <td>3.530946</td>\n",
       "      <td>5.981638</td>\n",
       "      <td>5.387767</td>\n",
       "      <td>5.067341</td>\n",
       "      <td>6.027943</td>\n",
       "      <td>...</td>\n",
       "      <td>5.076593</td>\n",
       "      <td>3.659421</td>\n",
       "      <td>5.197644</td>\n",
       "      <td>4.271735</td>\n",
       "      <td>5.025869</td>\n",
       "      <td>6.251284</td>\n",
       "      <td>2.373528</td>\n",
       "      <td>5.402994</td>\n",
       "      <td>4.933585</td>\n",
       "      <td>3.964637</td>\n",
       "    </tr>\n",
       "  </tbody>\n",
       "</table>\n",
       "<p>10 rows × 500 columns</p>\n",
       "</div>"
      ],
      "text/plain": [
       "         M1        M2        M3        M4        M5        M6        M7  \\\n",
       "0  4.927919  6.327043  6.681601  4.550809  5.177106  4.823532  5.515664   \n",
       "1  5.159671  5.360318  5.975517  4.964256  4.947101  3.984653  4.862324   \n",
       "2  4.794075  4.392203  5.591745  4.613314  5.425270  6.500239  5.816199   \n",
       "3  5.818767  4.299710  4.649390  5.509022  4.274716  6.833262  4.340016   \n",
       "4  5.142621  6.747987  5.785744  6.064556  3.629251  5.033775  4.814651   \n",
       "5  5.274359  5.760073  3.222846  6.453931  6.829355  4.940713  5.520754   \n",
       "6  3.837313  5.622014  5.679447  6.364264  4.874295  4.587634  4.615428   \n",
       "7  3.139172  3.306249  5.967651  3.574581  5.712908  5.051734  4.580217   \n",
       "8  5.803337  5.277493  4.660342  3.516582  4.668674  3.386504  5.249125   \n",
       "9  5.292850  6.262470  4.633049  7.132964  3.903333  3.530946  5.981638   \n",
       "\n",
       "         M8        M9       M10  ...      M491      M492      M493      M494  \\\n",
       "0  5.848704  6.158715  7.013667  ...  3.405131  5.384756  3.978052  6.067719   \n",
       "1  5.589087  4.938718  5.532551  ...  7.303367  2.996245  4.046281  4.068399   \n",
       "2  5.371043  4.640264  4.088460  ...  5.684306  5.420656  5.105076  5.304526   \n",
       "3  3.660289  5.363264  5.431613  ...  5.470226  5.091370  4.932377  5.821884   \n",
       "4  5.329180  6.771187  4.994437  ...  4.884788  3.820595  5.358397  4.320495   \n",
       "5  5.095909  3.580628  4.368457  ...  4.054601  5.050109  5.454327  4.273769   \n",
       "6  6.139718  5.204287  4.785436  ...  5.528396  5.187061  4.233933  6.537120   \n",
       "7  6.543549  4.579314  5.040833  ...  7.342485  3.331513  5.564413  5.478034   \n",
       "8  4.233597  3.235391  5.185184  ...  4.252822  6.138724  5.735826  5.114571   \n",
       "9  5.387767  5.067341  6.027943  ...  5.076593  3.659421  5.197644  4.271735   \n",
       "\n",
       "       M495      M496      M497      M498      M499      M500  \n",
       "0  3.718493  7.170064  5.812126  5.402370  4.136153  1.885143  \n",
       "1  5.177078  3.177960  4.701085  2.074703  5.309069  7.235261  \n",
       "2  5.195904  5.679265  5.756992  4.417594  5.218187  4.244369  \n",
       "3  3.079072  6.552552  5.142999  4.132649  5.912371  4.754590  \n",
       "4  4.436171  3.816565  7.066026  7.204841  3.774127  6.763332  \n",
       "5  4.048163  4.119394  7.113764  3.278544  4.217332  6.840587  \n",
       "6  4.750346  4.398926  4.263582  6.314110  6.685112  4.602077  \n",
       "7  4.699135  4.260109  4.437029  5.782267  6.687847  3.655001  \n",
       "8  5.029375  6.772176  3.871471  6.757197  5.131531  6.457298  \n",
       "9  5.025869  6.251284  2.373528  5.402994  4.933585  3.964637  \n",
       "\n",
       "[10 rows x 500 columns]"
      ]
     },
     "execution_count": 176,
     "metadata": {},
     "output_type": "execute_result"
    }
   ],
   "source": [
    "## Vamos a crear 499 muestras más:\n",
    "for i in range(2,501):\n",
    "    name_m='M'+str(i)\n",
    "    M=pd.DataFrame(data={name_m:norm.rvs(loc=5,scale=1,size=10)})\n",
    "    df=pd.concat([df,M],axis=1)\n",
    "df"
   ]
  },
  {
   "cell_type": "code",
   "execution_count": 177,
   "id": "247131f2",
   "metadata": {},
   "outputs": [
    {
     "data": {
      "text/plain": [
       "M1      4.919008\n",
       "M2      5.335556\n",
       "M3      5.284733\n",
       "M4      5.274428\n",
       "M5      4.944201\n",
       "          ...   \n",
       "M496    5.219830\n",
       "M497    5.053860\n",
       "M498    5.076727\n",
       "M499    5.200531\n",
       "M500    5.040230\n",
       "Length: 500, dtype: float64"
      ]
     },
     "execution_count": 177,
     "metadata": {},
     "output_type": "execute_result"
    }
   ],
   "source": [
    "# Medias muestrales:\n",
    "df.mean()"
   ]
  },
  {
   "cell_type": "code",
   "execution_count": 178,
   "id": "be5ddb67",
   "metadata": {},
   "outputs": [
    {
     "data": {
      "image/png": "[encoded data removed]",
      "text/plain": [
       "<Figure size 432x288 with 1 Axes>"
      ]
     },
     "metadata": {
      "needs_background": "light"
     },
     "output_type": "display_data"
    }
   ],
   "source": [
    "# Distribución de la media muestral:\n",
    "fig_hist = plt.figure() \n",
    "ax = fig_hist.add_axes([0,0,1,1])\n",
    "ax=sns.histplot(x=df.mean(),kde=True,color=\"steelblue\")\n",
    "ax.annotate('Media:'+ str(round(np.mean(df.mean()),3)), xy=(5.7, 60))\n",
    "plt.show()"
   ]
  },
  {
   "cell_type": "markdown",
   "id": "3a60674a",
   "metadata": {},
   "source": [
    "¿Qué pasa si aumentamos el tamaño de muestra a 100?"
   ]
  },
  {
   "cell_type": "code",
   "execution_count": 179,
   "id": "66aac441",
   "metadata": {},
   "outputs": [
    {
     "data": {
      "image/png": "[encoded data removed]",
      "text/plain": [
       "<Figure size 432x288 with 1 Axes>"
      ]
     },
     "metadata": {
      "needs_background": "light"
     },
     "output_type": "display_data"
    }
   ],
   "source": [
    "df = pd.DataFrame()\n",
    "for i in range(1,501):\n",
    "    name_m='M'+str(i)\n",
    "    M=pd.DataFrame(data={name_m:norm.rvs(loc=5,scale=1,size=100)})\n",
    "    df=pd.concat([df,M],axis=1)\n",
    "\n",
    "# Histograma\n",
    "fig_hist = plt.figure() \n",
    "ax = fig_hist.add_axes([0,0,1,1])\n",
    "ax=sns.histplot(x=df.mean(),kde=True,color=\"steelblue\")\n",
    "ax.annotate('Media:'+ str(round(np.mean(df.mean()),3)), xy=(5.2, 60))\n",
    "plt.show()"
   ]
  },
  {
   "cell_type": "markdown",
   "id": "69ee08e0",
   "metadata": {},
   "source": [
    "¿Y si aumentamos a 500?"
   ]
  },
  {
   "cell_type": "code",
   "execution_count": 77,
   "id": "e2b3489c",
   "metadata": {},
   "outputs": [
    {
     "data": {
      "image/png": "[encoded data removed]",
      "text/plain": [
       "<Figure size 432x288 with 1 Axes>"
      ]
     },
     "metadata": {
      "needs_background": "light"
     },
     "output_type": "display_data"
    }
   ],
   "source": [
    "df = pd.DataFrame()\n",
    "for i in range(1,501):\n",
    "    name_m='M'+str(i)\n",
    "    M=pd.DataFrame(data={name_m:norm.rvs(loc=5,scale=1,size=500)})\n",
    "    df=pd.concat([df,M],axis=1)\n",
    "\n",
    "# Histograma\n",
    "fig_hist = plt.figure() \n",
    "ax = fig_hist.add_axes([0,0,1,1])\n",
    "ax=sns.histplot(x=df.mean(),kde=True,color=\"steelblue\")\n",
    "ax.annotate('Media:'+ str(round(np.mean(df.mean()),3)), xy=(5.08, 60))\n",
    "plt.show()"
   ]
  },
  {
   "cell_type": "markdown",
   "id": "bfa6edd7",
   "metadata": {},
   "source": [
    "¿Qué podemos ver?: La dispersión de la distribución muestral de la muestra se reduce a medida que aumenta el tamaño de muestra. Esto es lo que ya habíamos anticipado en la teoría cuando deciamos que a mayor tamaño de muestra, menor el error estándar de la media."
   ]
  },
  {
   "cell_type": "markdown",
   "id": "c8771939",
   "metadata": {},
   "source": [
    "Ahora pongamos en acción al TLC. Nuestros datos seguirán una distribución de Poisson (media 5) y mostraremos como se cumple el TLC."
   ]
  },
  {
   "cell_type": "code",
   "execution_count": 85,
   "id": "69c7c399",
   "metadata": {},
   "outputs": [
    {
     "data": {
      "image/png": "[encoded data removed]",
      "text/plain": [
       "<Figure size 432x288 with 1 Axes>"
      ]
     },
     "metadata": {
      "needs_background": "light"
     },
     "output_type": "display_data"
    }
   ],
   "source": [
    "df = pd.DataFrame()\n",
    "for i in range(1,501):\n",
    "    name_m='M'+str(i)\n",
    "    M=pd.DataFrame(data={name_m:poisson.rvs(mu=5,size=500)})\n",
    "    df=pd.concat([df,M],axis=1)\n",
    "\n",
    "# Histograma\n",
    "fig_hist = plt.figure() \n",
    "ax = fig_hist.add_axes([0,0,1,1])\n",
    "ax=sns.histplot(x=df.mean(),kde=True,color=\"steelblue\")\n",
    "ax.annotate('Media:'+ str(round(np.mean(df.mean()),3)), xy=(5.15, 60))\n",
    "plt.show()"
   ]
  },
  {
   "cell_type": "markdown",
   "id": "327da120",
   "metadata": {},
   "source": [
    "¿Qué pueden decir sobre la forma de la distribución muestral de la media?"
   ]
  },
  {
   "cell_type": "markdown",
   "id": "e7a267b8",
   "metadata": {},
   "source": [
    "## Tamaño de muestra"
   ]
  },
  {
   "cell_type": "code",
   "execution_count": 180,
   "id": "281632aa",
   "metadata": {},
   "outputs": [],
   "source": [
    "def tam_muestra(tam_pobl,prop,error,conf):\n",
    "    N=tam_pobl\n",
    "    p=prop\n",
    "    e=error\n",
    "    z=norm.ppf(q=(1-conf)/2)\n",
    "    n=(N*p*(1-p)*z**2)/(((N-1)*e**2)+(p*(1-p)*z**2))\n",
    "    return round(n)"
   ]
  },
  {
   "cell_type": "code",
   "execution_count": 181,
   "id": "03bdcb82",
   "metadata": {},
   "outputs": [
    {
     "data": {
      "text/plain": [
       "278"
      ]
     },
     "execution_count": 181,
     "metadata": {},
     "output_type": "execute_result"
    }
   ],
   "source": [
    "tam_muestra(1000,0.5,0.05,0.95)"
   ]
  },
  {
   "cell_type": "markdown",
   "id": "bdb6daad",
   "metadata": {},
   "source": [
    "Miremos cómo cambia el valor con respecto a cada uno de los componentes:"
   ]
  },
  {
   "cell_type": "code",
   "execution_count": 183,
   "id": "70b0929f",
   "metadata": {},
   "outputs": [
    {
     "data": {
      "text/html": [
       "<div>\n",
       "<style scoped>\n",
       "    .dataframe tbody tr th:only-of-type {\n",
       "        vertical-align: middle;\n",
       "    }\n",
       "\n",
       "    .dataframe tbody tr th {\n",
       "        vertical-align: top;\n",
       "    }\n",
       "\n",
       "    .dataframe thead th {\n",
       "        text-align: right;\n",
       "    }\n",
       "</style>\n",
       "<table border=\"1\" class=\"dataframe\">\n",
       "  <thead>\n",
       "    <tr style=\"text-align: right;\">\n",
       "      <th></th>\n",
       "      <th>Población</th>\n",
       "      <th>Muestra</th>\n",
       "    </tr>\n",
       "  </thead>\n",
       "  <tbody>\n",
       "    <tr>\n",
       "      <th>0</th>\n",
       "      <td>100</td>\n",
       "      <td>80</td>\n",
       "    </tr>\n",
       "    <tr>\n",
       "      <th>1</th>\n",
       "      <td>500</td>\n",
       "      <td>217</td>\n",
       "    </tr>\n",
       "    <tr>\n",
       "      <th>2</th>\n",
       "      <td>1000</td>\n",
       "      <td>278</td>\n",
       "    </tr>\n",
       "    <tr>\n",
       "      <th>3</th>\n",
       "      <td>5000</td>\n",
       "      <td>357</td>\n",
       "    </tr>\n",
       "    <tr>\n",
       "      <th>4</th>\n",
       "      <td>50000</td>\n",
       "      <td>381</td>\n",
       "    </tr>\n",
       "    <tr>\n",
       "      <th>5</th>\n",
       "      <td>1000000</td>\n",
       "      <td>384</td>\n",
       "    </tr>\n",
       "    <tr>\n",
       "      <th>6</th>\n",
       "      <td>10000000</td>\n",
       "      <td>384</td>\n",
       "    </tr>\n",
       "  </tbody>\n",
       "</table>\n",
       "</div>"
      ],
      "text/plain": [
       "   Población  Muestra\n",
       "0        100       80\n",
       "1        500      217\n",
       "2       1000      278\n",
       "3       5000      357\n",
       "4      50000      381\n",
       "5    1000000      384\n",
       "6   10000000      384"
      ]
     },
     "execution_count": 183,
     "metadata": {},
     "output_type": "execute_result"
    }
   ],
   "source": [
    "# Variemos el tamaño, dejando lo demás constante:\n",
    "TABLA_TAMAÑO = pd.DataFrame({\"Población\":[100,500,1000,5000,50000,1000000,10000000]})\n",
    "TABLA_TAMAÑO[\"Muestra\"]=TABLA_TAMAÑO[\"Población\"].apply(lambda x: tam_muestra(x,0.5,0.05,0.95))\n",
    "TABLA_TAMAÑO"
   ]
  },
  {
   "cell_type": "code",
   "execution_count": 110,
   "id": "daae937f",
   "metadata": {},
   "outputs": [
    {
     "data": {
      "text/html": [
       "<div>\n",
       "<style scoped>\n",
       "    .dataframe tbody tr th:only-of-type {\n",
       "        vertical-align: middle;\n",
       "    }\n",
       "\n",
       "    .dataframe tbody tr th {\n",
       "        vertical-align: top;\n",
       "    }\n",
       "\n",
       "    .dataframe thead th {\n",
       "        text-align: right;\n",
       "    }\n",
       "</style>\n",
       "<table border=\"1\" class=\"dataframe\">\n",
       "  <thead>\n",
       "    <tr style=\"text-align: right;\">\n",
       "      <th></th>\n",
       "      <th>Margen</th>\n",
       "      <th>Muestra</th>\n",
       "    </tr>\n",
       "  </thead>\n",
       "  <tbody>\n",
       "    <tr>\n",
       "      <th>0</th>\n",
       "      <td>0.150</td>\n",
       "      <td>41</td>\n",
       "    </tr>\n",
       "    <tr>\n",
       "      <th>1</th>\n",
       "      <td>0.100</td>\n",
       "      <td>88</td>\n",
       "    </tr>\n",
       "    <tr>\n",
       "      <th>2</th>\n",
       "      <td>0.050</td>\n",
       "      <td>278</td>\n",
       "    </tr>\n",
       "    <tr>\n",
       "      <th>3</th>\n",
       "      <td>0.025</td>\n",
       "      <td>606</td>\n",
       "    </tr>\n",
       "    <tr>\n",
       "      <th>4</th>\n",
       "      <td>0.010</td>\n",
       "      <td>906</td>\n",
       "    </tr>\n",
       "    <tr>\n",
       "      <th>5</th>\n",
       "      <td>0.001</td>\n",
       "      <td>999</td>\n",
       "    </tr>\n",
       "  </tbody>\n",
       "</table>\n",
       "</div>"
      ],
      "text/plain": [
       "   Margen  Muestra\n",
       "0   0.150       41\n",
       "1   0.100       88\n",
       "2   0.050      278\n",
       "3   0.025      606\n",
       "4   0.010      906\n",
       "5   0.001      999"
      ]
     },
     "execution_count": 110,
     "metadata": {},
     "output_type": "execute_result"
    }
   ],
   "source": [
    "# Variemos el margen de error, dejando lo demás constante:\n",
    "TABLA_MARGEN = pd.DataFrame({\"Margen\":[0.15,0.1,0.05,0.025,0.01,0.001]})\n",
    "TABLA_MARGEN[\"Muestra\"]=TABLA_MARGEN[\"Margen\"].apply(lambda x: tam_muestra(1000,0.5,x,0.95))\n",
    "TABLA_MARGEN"
   ]
  },
  {
   "cell_type": "code",
   "execution_count": 111,
   "id": "5ae90896",
   "metadata": {},
   "outputs": [
    {
     "data": {
      "text/html": [
       "<div>\n",
       "<style scoped>\n",
       "    .dataframe tbody tr th:only-of-type {\n",
       "        vertical-align: middle;\n",
       "    }\n",
       "\n",
       "    .dataframe tbody tr th {\n",
       "        vertical-align: top;\n",
       "    }\n",
       "\n",
       "    .dataframe thead th {\n",
       "        text-align: right;\n",
       "    }\n",
       "</style>\n",
       "<table border=\"1\" class=\"dataframe\">\n",
       "  <thead>\n",
       "    <tr style=\"text-align: right;\">\n",
       "      <th></th>\n",
       "      <th>Nivel Conf</th>\n",
       "      <th>Muestra</th>\n",
       "    </tr>\n",
       "  </thead>\n",
       "  <tbody>\n",
       "    <tr>\n",
       "      <th>0</th>\n",
       "      <td>0.800</td>\n",
       "      <td>141</td>\n",
       "    </tr>\n",
       "    <tr>\n",
       "      <th>1</th>\n",
       "      <td>0.900</td>\n",
       "      <td>213</td>\n",
       "    </tr>\n",
       "    <tr>\n",
       "      <th>2</th>\n",
       "      <td>0.950</td>\n",
       "      <td>278</td>\n",
       "    </tr>\n",
       "    <tr>\n",
       "      <th>3</th>\n",
       "      <td>0.975</td>\n",
       "      <td>335</td>\n",
       "    </tr>\n",
       "    <tr>\n",
       "      <th>4</th>\n",
       "      <td>0.990</td>\n",
       "      <td>399</td>\n",
       "    </tr>\n",
       "  </tbody>\n",
       "</table>\n",
       "</div>"
      ],
      "text/plain": [
       "   Nivel Conf  Muestra\n",
       "0       0.800      141\n",
       "1       0.900      213\n",
       "2       0.950      278\n",
       "3       0.975      335\n",
       "4       0.990      399"
      ]
     },
     "execution_count": 111,
     "metadata": {},
     "output_type": "execute_result"
    }
   ],
   "source": [
    "# Variemos el nivel de confianza, dejando lo demás constante:\n",
    "TABLA_CONF = pd.DataFrame({\"Nivel Conf\":[0.8,0.9,0.95,0.975,0.99]})\n",
    "TABLA_CONF[\"Muestra\"]=TABLA_CONF[\"Nivel Conf\"].apply(lambda x: tam_muestra(1000,0.5,0.05,x))\n",
    "TABLA_CONF"
   ]
  },
  {
   "cell_type": "code",
   "execution_count": 112,
   "id": "41cf8970",
   "metadata": {},
   "outputs": [
    {
     "data": {
      "text/html": [
       "<div>\n",
       "<style scoped>\n",
       "    .dataframe tbody tr th:only-of-type {\n",
       "        vertical-align: middle;\n",
       "    }\n",
       "\n",
       "    .dataframe tbody tr th {\n",
       "        vertical-align: top;\n",
       "    }\n",
       "\n",
       "    .dataframe thead th {\n",
       "        text-align: right;\n",
       "    }\n",
       "</style>\n",
       "<table border=\"1\" class=\"dataframe\">\n",
       "  <thead>\n",
       "    <tr style=\"text-align: right;\">\n",
       "      <th></th>\n",
       "      <th>Prop</th>\n",
       "      <th>Muestra</th>\n",
       "    </tr>\n",
       "  </thead>\n",
       "  <tbody>\n",
       "    <tr>\n",
       "      <th>0</th>\n",
       "      <td>0.20</td>\n",
       "      <td>197</td>\n",
       "    </tr>\n",
       "    <tr>\n",
       "      <th>1</th>\n",
       "      <td>0.40</td>\n",
       "      <td>270</td>\n",
       "    </tr>\n",
       "    <tr>\n",
       "      <th>2</th>\n",
       "      <td>0.45</td>\n",
       "      <td>276</td>\n",
       "    </tr>\n",
       "    <tr>\n",
       "      <th>3</th>\n",
       "      <td>0.50</td>\n",
       "      <td>278</td>\n",
       "    </tr>\n",
       "    <tr>\n",
       "      <th>4</th>\n",
       "      <td>0.55</td>\n",
       "      <td>276</td>\n",
       "    </tr>\n",
       "    <tr>\n",
       "      <th>5</th>\n",
       "      <td>0.60</td>\n",
       "      <td>270</td>\n",
       "    </tr>\n",
       "    <tr>\n",
       "      <th>6</th>\n",
       "      <td>0.80</td>\n",
       "      <td>197</td>\n",
       "    </tr>\n",
       "  </tbody>\n",
       "</table>\n",
       "</div>"
      ],
      "text/plain": [
       "   Prop  Muestra\n",
       "0  0.20      197\n",
       "1  0.40      270\n",
       "2  0.45      276\n",
       "3  0.50      278\n",
       "4  0.55      276\n",
       "5  0.60      270\n",
       "6  0.80      197"
      ]
     },
     "execution_count": 112,
     "metadata": {},
     "output_type": "execute_result"
    }
   ],
   "source": [
    "# Variemos el proporción de éxito, dejando lo demás constante:\n",
    "TABLA_PROP = pd.DataFrame({\"Prop\":[0.2,0.4,0.45,0.5,0.55,0.6,0.8]})\n",
    "TABLA_PROP[\"Muestra\"]=TABLA_PROP[\"Prop\"].apply(lambda x: tam_muestra(1000,x,0.05,0.95))\n",
    "TABLA_PROP"
   ]
  },
  {
   "cell_type": "markdown",
   "id": "44d6634f",
   "metadata": {},
   "source": [
    "## Intervalos de confianza y pruebas hipótesis"
   ]
  },
  {
   "cell_type": "markdown",
   "id": "3ed432e5",
   "metadata": {},
   "source": [
    "Usemos por ahora una muestra de bebés que fueron pesados al nacer (columna \"bwt\"). Por ahora nos vamos a concentrar en hacer inferencia sobre esta variable y no incluiremos en el análisis el resto de variables (en la próxima sesión lo haremos)."
   ]
  },
  {
   "cell_type": "code",
   "execution_count": 184,
   "id": "ce4951da",
   "metadata": {},
   "outputs": [
    {
     "data": {
      "text/html": [
       "<div>\n",
       "<style scoped>\n",
       "    .dataframe tbody tr th:only-of-type {\n",
       "        vertical-align: middle;\n",
       "    }\n",
       "\n",
       "    .dataframe tbody tr th {\n",
       "        vertical-align: top;\n",
       "    }\n",
       "\n",
       "    .dataframe thead th {\n",
       "        text-align: right;\n",
       "    }\n",
       "</style>\n",
       "<table border=\"1\" class=\"dataframe\">\n",
       "  <thead>\n",
       "    <tr style=\"text-align: right;\">\n",
       "      <th></th>\n",
       "      <th>id</th>\n",
       "      <th>low</th>\n",
       "      <th>age</th>\n",
       "      <th>lwt</th>\n",
       "      <th>race</th>\n",
       "      <th>smoke</th>\n",
       "      <th>ptl</th>\n",
       "      <th>ht</th>\n",
       "      <th>ui</th>\n",
       "      <th>ftv</th>\n",
       "      <th>bwt</th>\n",
       "    </tr>\n",
       "  </thead>\n",
       "  <tbody>\n",
       "    <tr>\n",
       "      <th>0</th>\n",
       "      <td>4</td>\n",
       "      <td>1</td>\n",
       "      <td>28</td>\n",
       "      <td>120</td>\n",
       "      <td>3</td>\n",
       "      <td>1</td>\n",
       "      <td>1</td>\n",
       "      <td>0</td>\n",
       "      <td>1</td>\n",
       "      <td>0</td>\n",
       "      <td>709</td>\n",
       "    </tr>\n",
       "    <tr>\n",
       "      <th>1</th>\n",
       "      <td>10</td>\n",
       "      <td>1</td>\n",
       "      <td>29</td>\n",
       "      <td>130</td>\n",
       "      <td>1</td>\n",
       "      <td>0</td>\n",
       "      <td>0</td>\n",
       "      <td>0</td>\n",
       "      <td>1</td>\n",
       "      <td>2</td>\n",
       "      <td>1021</td>\n",
       "    </tr>\n",
       "    <tr>\n",
       "      <th>2</th>\n",
       "      <td>11</td>\n",
       "      <td>1</td>\n",
       "      <td>34</td>\n",
       "      <td>187</td>\n",
       "      <td>2</td>\n",
       "      <td>1</td>\n",
       "      <td>0</td>\n",
       "      <td>1</td>\n",
       "      <td>0</td>\n",
       "      <td>0</td>\n",
       "      <td>1135</td>\n",
       "    </tr>\n",
       "    <tr>\n",
       "      <th>3</th>\n",
       "      <td>13</td>\n",
       "      <td>1</td>\n",
       "      <td>25</td>\n",
       "      <td>105</td>\n",
       "      <td>3</td>\n",
       "      <td>0</td>\n",
       "      <td>1</td>\n",
       "      <td>1</td>\n",
       "      <td>0</td>\n",
       "      <td>0</td>\n",
       "      <td>1330</td>\n",
       "    </tr>\n",
       "    <tr>\n",
       "      <th>4</th>\n",
       "      <td>15</td>\n",
       "      <td>1</td>\n",
       "      <td>25</td>\n",
       "      <td>85</td>\n",
       "      <td>3</td>\n",
       "      <td>0</td>\n",
       "      <td>0</td>\n",
       "      <td>0</td>\n",
       "      <td>1</td>\n",
       "      <td>0</td>\n",
       "      <td>1474</td>\n",
       "    </tr>\n",
       "    <tr>\n",
       "      <th>...</th>\n",
       "      <td>...</td>\n",
       "      <td>...</td>\n",
       "      <td>...</td>\n",
       "      <td>...</td>\n",
       "      <td>...</td>\n",
       "      <td>...</td>\n",
       "      <td>...</td>\n",
       "      <td>...</td>\n",
       "      <td>...</td>\n",
       "      <td>...</td>\n",
       "      <td>...</td>\n",
       "    </tr>\n",
       "    <tr>\n",
       "      <th>184</th>\n",
       "      <td>222</td>\n",
       "      <td>0</td>\n",
       "      <td>31</td>\n",
       "      <td>120</td>\n",
       "      <td>1</td>\n",
       "      <td>0</td>\n",
       "      <td>0</td>\n",
       "      <td>0</td>\n",
       "      <td>0</td>\n",
       "      <td>2</td>\n",
       "      <td>4167</td>\n",
       "    </tr>\n",
       "    <tr>\n",
       "      <th>185</th>\n",
       "      <td>223</td>\n",
       "      <td>0</td>\n",
       "      <td>35</td>\n",
       "      <td>170</td>\n",
       "      <td>1</td>\n",
       "      <td>0</td>\n",
       "      <td>1</td>\n",
       "      <td>0</td>\n",
       "      <td>0</td>\n",
       "      <td>1</td>\n",
       "      <td>4174</td>\n",
       "    </tr>\n",
       "    <tr>\n",
       "      <th>186</th>\n",
       "      <td>224</td>\n",
       "      <td>0</td>\n",
       "      <td>19</td>\n",
       "      <td>120</td>\n",
       "      <td>1</td>\n",
       "      <td>1</td>\n",
       "      <td>0</td>\n",
       "      <td>0</td>\n",
       "      <td>0</td>\n",
       "      <td>0</td>\n",
       "      <td>4238</td>\n",
       "    </tr>\n",
       "    <tr>\n",
       "      <th>187</th>\n",
       "      <td>225</td>\n",
       "      <td>0</td>\n",
       "      <td>24</td>\n",
       "      <td>116</td>\n",
       "      <td>1</td>\n",
       "      <td>0</td>\n",
       "      <td>0</td>\n",
       "      <td>0</td>\n",
       "      <td>0</td>\n",
       "      <td>1</td>\n",
       "      <td>4593</td>\n",
       "    </tr>\n",
       "    <tr>\n",
       "      <th>188</th>\n",
       "      <td>226</td>\n",
       "      <td>0</td>\n",
       "      <td>45</td>\n",
       "      <td>123</td>\n",
       "      <td>1</td>\n",
       "      <td>0</td>\n",
       "      <td>0</td>\n",
       "      <td>0</td>\n",
       "      <td>0</td>\n",
       "      <td>1</td>\n",
       "      <td>4990</td>\n",
       "    </tr>\n",
       "  </tbody>\n",
       "</table>\n",
       "<p>189 rows × 11 columns</p>\n",
       "</div>"
      ],
      "text/plain": [
       "      id  low  age  lwt  race  smoke  ptl  ht  ui  ftv   bwt\n",
       "0      4    1   28  120     3      1    1   0   1    0   709\n",
       "1     10    1   29  130     1      0    0   0   1    2  1021\n",
       "2     11    1   34  187     2      1    0   1   0    0  1135\n",
       "3     13    1   25  105     3      0    1   1   0    0  1330\n",
       "4     15    1   25   85     3      0    0   0   1    0  1474\n",
       "..   ...  ...  ...  ...   ...    ...  ...  ..  ..  ...   ...\n",
       "184  222    0   31  120     1      0    0   0   0    2  4167\n",
       "185  223    0   35  170     1      0    1   0   0    1  4174\n",
       "186  224    0   19  120     1      1    0   0   0    0  4238\n",
       "187  225    0   24  116     1      0    0   0   0    1  4593\n",
       "188  226    0   45  123     1      0    0   0   0    1  4990\n",
       "\n",
       "[189 rows x 11 columns]"
      ]
     },
     "execution_count": 184,
     "metadata": {},
     "output_type": "execute_result"
    }
   ],
   "source": [
    "data = pd.read_excel(\"lowbwt.xlsx\")\n",
    "data"
   ]
  },
  {
   "cell_type": "code",
   "execution_count": 185,
   "id": "7afa03b6",
   "metadata": {},
   "outputs": [
    {
     "data": {
      "image/png": "[encoded data removed]",
      "text/plain": [
       "<Figure size 432x288 with 1 Axes>"
      ]
     },
     "metadata": {
      "needs_background": "light"
     },
     "output_type": "display_data"
    }
   ],
   "source": [
    "# Histograma\n",
    "fig_hist = plt.figure() \n",
    "ax = fig_hist.add_axes([0,0,1,1])\n",
    "ax=sns.histplot(x=data[\"bwt\"],kde=True,color=\"steelblue\")\n",
    "plt.show()"
   ]
  },
  {
   "cell_type": "code",
   "execution_count": 188,
   "id": "a197f871",
   "metadata": {},
   "outputs": [
    {
     "data": {
      "text/plain": [
       "count     189.000000\n",
       "mean     2944.656085\n",
       "std       729.022417\n",
       "min       709.000000\n",
       "25%      2414.000000\n",
       "50%      2977.000000\n",
       "75%      3475.000000\n",
       "max      4990.000000\n",
       "Name: bwt, dtype: float64"
      ]
     },
     "execution_count": 188,
     "metadata": {},
     "output_type": "execute_result"
    }
   ],
   "source": [
    "data[\"bwt\"].describe()"
   ]
  },
  {
   "cell_type": "code",
   "execution_count": 162,
   "id": "6805d2e8",
   "metadata": {},
   "outputs": [
    {
     "data": {
      "text/plain": [
       "(2840.0485873752928, 3049.2635819368766)"
      ]
     },
     "execution_count": 162,
     "metadata": {},
     "output_type": "execute_result"
    }
   ],
   "source": [
    "# Intervalo de confianza del 95%\n",
    "sm1.stats.DescrStatsW(data[\"bwt\"]).tconfint_mean(0.05)"
   ]
  },
  {
   "cell_type": "markdown",
   "id": "0f8f914d",
   "metadata": {},
   "source": [
    "Alguien comenta que la media de los recien nacidos es 2500, ¿qué podríamos decir?"
   ]
  },
  {
   "cell_type": "code",
   "execution_count": 196,
   "id": "0f4c235a",
   "metadata": {},
   "outputs": [
    {
     "data": {
      "text/plain": [
       "Ttest_1sampResult(statistic=8.385216088150031, pvalue=1.1754388532989432e-14)"
      ]
     },
     "execution_count": 196,
     "metadata": {},
     "output_type": "execute_result"
    }
   ],
   "source": [
    "ttest_1samp(a=data[\"bwt\"],popmean=2500)"
   ]
  },
  {
   "cell_type": "code",
   "execution_count": 197,
   "id": "64fc16d7",
   "metadata": {},
   "outputs": [
    {
     "name": "stdout",
     "output_type": "stream",
     "text": [
      "Los valores críticos asociados a un nivel de confianza del 95% con 188 grados de libertad son -1.97 y 1.97\n"
     ]
    }
   ],
   "source": [
    "#Supongamos que quiero calcular el valor crítico (nivel confianza del 95%):\n",
    "t_critico = t.ppf(q=0.05/2, df=len(data[\"bwt\"])-1)\n",
    "print(f'Los valores críticos asociados a un nivel de confianza del 95% con 188 grados de libertad son {round(t_critico,2)} y {round(abs(t_critico),2)}')"
   ]
  },
  {
   "cell_type": "markdown",
   "id": "37ce8cbb",
   "metadata": {},
   "source": [
    "Ahora revisemos un caso de proporciones, por ejemplo, proporción de madres que fumaban durante el embarazo."
   ]
  },
  {
   "cell_type": "code",
   "execution_count": 198,
   "id": "e9b91222",
   "metadata": {},
   "outputs": [
    {
     "data": {
      "text/html": [
       "<div>\n",
       "<style scoped>\n",
       "    .dataframe tbody tr th:only-of-type {\n",
       "        vertical-align: middle;\n",
       "    }\n",
       "\n",
       "    .dataframe tbody tr th {\n",
       "        vertical-align: top;\n",
       "    }\n",
       "\n",
       "    .dataframe thead th {\n",
       "        text-align: right;\n",
       "    }\n",
       "</style>\n",
       "<table border=\"1\" class=\"dataframe\">\n",
       "  <thead>\n",
       "    <tr style=\"text-align: right;\">\n",
       "      <th>col_0</th>\n",
       "      <th>smoke</th>\n",
       "      <th>Freq. Abs.</th>\n",
       "      <th>Freq. Rel.</th>\n",
       "    </tr>\n",
       "  </thead>\n",
       "  <tbody>\n",
       "    <tr>\n",
       "      <th>0</th>\n",
       "      <td>0</td>\n",
       "      <td>115</td>\n",
       "      <td>0.608466</td>\n",
       "    </tr>\n",
       "    <tr>\n",
       "      <th>1</th>\n",
       "      <td>1</td>\n",
       "      <td>74</td>\n",
       "      <td>0.391534</td>\n",
       "    </tr>\n",
       "  </tbody>\n",
       "</table>\n",
       "</div>"
      ],
      "text/plain": [
       "col_0  smoke  Freq. Abs.  Freq. Rel.\n",
       "0          0         115    0.608466\n",
       "1          1          74    0.391534"
      ]
     },
     "execution_count": 198,
     "metadata": {},
     "output_type": "execute_result"
    }
   ],
   "source": [
    "tabla_freq=(pd.crosstab(index=data[\"smoke\"],columns=\"count\")).reset_index()\n",
    "tabla_freq['Freq. Rel.']=tabla_freq['count']/sum(tabla_freq['count'])\n",
    "tabla_freq.rename(columns={'count':'Freq. Abs.'},inplace=True)\n",
    "tabla_freq=tabla_freq.sort_values(by='Freq. Abs.',ascending=False).reset_index(drop=True)\n",
    "tabla_freq"
   ]
  },
  {
   "cell_type": "code",
   "execution_count": 199,
   "id": "e54732a9",
   "metadata": {},
   "outputs": [
    {
     "name": "stdout",
     "output_type": "stream",
     "text": [
      "IC 90%\n",
      "(0.3331362090879107, 0.44993257398087233)\n",
      "IC 95%\n",
      "(0.32194866519238524, 0.4611201178763978)\n",
      "IC 99%\n",
      "(0.3000832452713458, 0.48298553779743725)\n"
     ]
    }
   ],
   "source": [
    "#intervalo de confianza (numero de fumadoras,total muestra,nivel de significancia)\n",
    "print(\"IC 90%\")\n",
    "print(sm.proportion.proportion_confint(74,189,0.1))\n",
    "print(\"IC 95%\")\n",
    "print(sm.proportion.proportion_confint(74,189,0.05))\n",
    "print(\"IC 99%\")\n",
    "print(sm.proportion.proportion_confint(74,189,0.01))"
   ]
  },
  {
   "cell_type": "markdown",
   "id": "7e8b527c",
   "metadata": {},
   "source": [
    "Alguien afirma que la proporción de madres fumadoras es del 60%. ¿Qué podemos decir con los datos?"
   ]
  },
  {
   "cell_type": "code",
   "execution_count": 204,
   "id": "4948190c",
   "metadata": {},
   "outputs": [
    {
     "name": "stdout",
     "output_type": "stream",
     "text": [
      "Estadístico Z= -5.871679525189832, Valor-p= 4.314020850699805e-09\n"
     ]
    }
   ],
   "source": [
    "## prueba z proporciones (número de fumadoras, total muestra, value=hipótesis de proporción poblacional)\n",
    "z,vp = sm.proportion.proportions_ztest(74,189,value=0.6)\n",
    "print(f'Estadístico Z= {z}, Valor-p= {vp}')"
   ]
  }
 ],
 "metadata": {
  "kernelspec": {
   "display_name": "Python 3 (ipykernel)",
   "language": "python",
   "name": "python3"
  },
  "language_info": {
   "codemirror_mode": {
    "name": "ipython",
    "version": 3
   },
   "file_extension": ".py",
   "mimetype": "text/x-python",
   "name": "python",
   "nbconvert_exporter": "python",
   "pygments_lexer": "ipython3",
   "version": "3.9.12"
  }
 },
 "nbformat": 4,
 "nbformat_minor": 5
}
