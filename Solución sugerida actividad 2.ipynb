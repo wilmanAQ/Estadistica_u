{
 "cells": [
  {
   "cell_type": "markdown",
   "id": "2486780f",
   "metadata": {},
   "source": [
    "# Nivelatorio II: Estadística para la Ciencia de Datos"
   ]
  },
  {
   "cell_type": "markdown",
   "id": "fd24514f",
   "metadata": {},
   "source": [
    "## Solución sugerida actividad en casa #2"
   ]
  },
  {
   "cell_type": "code",
   "execution_count": 1,
   "id": "37d77012",
   "metadata": {},
   "outputs": [],
   "source": [
    "import pandas as pd   ## Libreria para manipular y analizar datos\n",
    "import matplotlib.pyplot as plt  ## Libreria para visualizar\n",
    "import seaborn as sns   ## Libreria para visualizar\n",
    "import numpy as np  ## Libreria para operaciones numéricas\n",
    "import plotly  ## Libreria para visualizaciones interactivas\n",
    "import matplotlib.ticker as mtick  ## función para formatear en visualizaciones\n",
    "from scipy.stats import skew, kurtosis  ## funciones estadísticas\n",
    "from scipy.stats import randint ## distribución uniforme discreta\n",
    "from scipy.stats import binom ## distribución binomial\n",
    "from scipy.stats import poisson ## distribución Poisson\n",
    "from scipy.stats import norm ## distribución normal"
   ]
  },
  {
   "cell_type": "markdown",
   "id": "56d6eded",
   "metadata": {},
   "source": [
    "1. Se calcula que  0.5 % de quienes se comunican al departamento de servicio al cliente, escuchará un tono de línea ocupada. ¿Cuál es la probabilidad de que de las 1200 personas que se comunicaron hoy, por lo menos 5 hayan escuchado un tono de línea ocupada? ¿Cuál es la probabilidad de que más de 10 personas hayan escuchado el tono de línea ocupada? Construir una tabla que contenga la probabilidad para x=0,1,2,3,4,5,6,7,8,9,10. Construir una gráfica de barras."
   ]
  },
  {
   "cell_type": "code",
   "execution_count": 13,
   "id": "e8f069f5",
   "metadata": {},
   "outputs": [
    {
     "name": "stdout",
     "output_type": "stream",
     "text": [
      "La probabilidad de que al menos 5 personas hayan escuchado el tono de línea ocupado es de 71.56 %\n"
     ]
    }
   ],
   "source": [
    "# Información\n",
    "pi=0.005\n",
    "n=1200\n",
    "\n",
    "# Al menos 5 hayan escuchado tono de línea ocupado, es decir P(x>=5):\n",
    "print(f'La probabilidad de que al menos 5 personas hayan escuchado el tono de línea ocupado es de {round(1 - binom.cdf(k=4,n=n,p=pi),4)*100} %')"
   ]
  },
  {
   "cell_type": "code",
   "execution_count": 14,
   "id": "4f56cfd9",
   "metadata": {},
   "outputs": [
    {
     "name": "stdout",
     "output_type": "stream",
     "text": [
      "La probabilidad de que más de 10 personas hayan escuchado el tono de línea ocupado es de 4.22 %\n"
     ]
    }
   ],
   "source": [
    "# Más de 10 hayan escuchado tono de línea ocupado, es decir P(x>10):\n",
    "print(f'La probabilidad de que más de 10 personas hayan escuchado el tono de línea ocupado es de {round(1 - binom.cdf(k=10,n=n,p=pi),4)*100} %')"
   ]
  },
  {
   "cell_type": "code",
   "execution_count": 17,
   "id": "79efb41d",
   "metadata": {},
   "outputs": [
    {
     "data": {
      "text/html": [
       "<div>\n",
       "<style scoped>\n",
       "    .dataframe tbody tr th:only-of-type {\n",
       "        vertical-align: middle;\n",
       "    }\n",
       "\n",
       "    .dataframe tbody tr th {\n",
       "        vertical-align: top;\n",
       "    }\n",
       "\n",
       "    .dataframe thead th {\n",
       "        text-align: right;\n",
       "    }\n",
       "</style>\n",
       "<table border=\"1\" class=\"dataframe\">\n",
       "  <thead>\n",
       "    <tr style=\"text-align: right;\">\n",
       "      <th></th>\n",
       "      <th>Resultado</th>\n",
       "      <th>Probabilidad</th>\n",
       "    </tr>\n",
       "  </thead>\n",
       "  <tbody>\n",
       "    <tr>\n",
       "      <th>0</th>\n",
       "      <td>0</td>\n",
       "      <td>0.002442</td>\n",
       "    </tr>\n",
       "    <tr>\n",
       "      <th>1</th>\n",
       "      <td>1</td>\n",
       "      <td>0.014724</td>\n",
       "    </tr>\n",
       "    <tr>\n",
       "      <th>2</th>\n",
       "      <td>2</td>\n",
       "      <td>0.044357</td>\n",
       "    </tr>\n",
       "    <tr>\n",
       "      <th>3</th>\n",
       "      <td>3</td>\n",
       "      <td>0.089011</td>\n",
       "    </tr>\n",
       "    <tr>\n",
       "      <th>4</th>\n",
       "      <td>4</td>\n",
       "      <td>0.133852</td>\n",
       "    </tr>\n",
       "    <tr>\n",
       "      <th>5</th>\n",
       "      <td>5</td>\n",
       "      <td>0.160891</td>\n",
       "    </tr>\n",
       "    <tr>\n",
       "      <th>6</th>\n",
       "      <td>6</td>\n",
       "      <td>0.161026</td>\n",
       "    </tr>\n",
       "    <tr>\n",
       "      <th>7</th>\n",
       "      <td>7</td>\n",
       "      <td>0.138022</td>\n",
       "    </tr>\n",
       "    <tr>\n",
       "      <th>8</th>\n",
       "      <td>8</td>\n",
       "      <td>0.103430</td>\n",
       "    </tr>\n",
       "    <tr>\n",
       "      <th>9</th>\n",
       "      <td>9</td>\n",
       "      <td>0.068838</td>\n",
       "    </tr>\n",
       "    <tr>\n",
       "      <th>10</th>\n",
       "      <td>10</td>\n",
       "      <td>0.041199</td>\n",
       "    </tr>\n",
       "  </tbody>\n",
       "</table>\n",
       "</div>"
      ],
      "text/plain": [
       "    Resultado  Probabilidad\n",
       "0           0      0.002442\n",
       "1           1      0.014724\n",
       "2           2      0.044357\n",
       "3           3      0.089011\n",
       "4           4      0.133852\n",
       "5           5      0.160891\n",
       "6           6      0.161026\n",
       "7           7      0.138022\n",
       "8           8      0.103430\n",
       "9           9      0.068838\n",
       "10         10      0.041199"
      ]
     },
     "execution_count": 17,
     "metadata": {},
     "output_type": "execute_result"
    }
   ],
   "source": [
    "# Tabla probabilidades\n",
    "## Calculemos la probabilidad asociada a cada posible resultado:\n",
    "df = pd.DataFrame(data={'Resultado':range(0,11),\n",
    "                        'Probabilidad':binom.pmf(k=range(0,11),n=n,p=pi)})\n",
    "df"
   ]
  },
  {
   "cell_type": "code",
   "execution_count": 19,
   "id": "6552599b",
   "metadata": {},
   "outputs": [
    {
     "data": {
      "image/png": "[encoded data removed]",
      "text/plain": [
       "<Figure size 432x288 with 1 Axes>"
      ]
     },
     "metadata": {
      "needs_background": "light"
     },
     "output_type": "display_data"
    }
   ],
   "source": [
    "## Construyo la gráfica de la distribución:\n",
    "fig_sns = plt.figure() \n",
    "ax = fig_sns.add_axes([0,0,1,1])\n",
    "ax=sns.barplot(x=df[\"Resultado\"],y=df[\"Probabilidad\"]*100, color=\"lightskyblue\") \n",
    "ax.bar_label(ax.containers[0], label_type='edge',fmt='%.1f%%',padding=3, size=9)  \n",
    "ax.yaxis.set_major_formatter(mtick.PercentFormatter(xmax=100)) \n",
    "ax.set(ylim=(0, 20))\n",
    "plt.show() "
   ]
  },
  {
   "cell_type": "code",
   "execution_count": 20,
   "id": "a150389c",
   "metadata": {},
   "outputs": [
    {
     "data": {
      "text/plain": [
       "6.0"
      ]
     },
     "execution_count": 20,
     "metadata": {},
     "output_type": "execute_result"
    }
   ],
   "source": [
    "## Recordemos la media de la distribución n*pi:\n",
    "n*pi"
   ]
  },
  {
   "cell_type": "markdown",
   "id": "eb703933",
   "metadata": {},
   "source": [
    "2. Se ha encontrado que, en promedio, en 5 días al mes nos enfrentamos a problemas de liquidez. ¿Cuál es la probabilidad de que en el próximo mes ocurran problemas de liquidez en 12 días? ¿y entre 4 y 9 días? Construir una tabla que contenga la probabilidad para x=0,1,2,3,4,5,6,7,8,9,10. Construir una gráfica de barras."
   ]
  },
  {
   "cell_type": "code",
   "execution_count": 25,
   "id": "b1829ef7",
   "metadata": {},
   "outputs": [
    {
     "name": "stdout",
     "output_type": "stream",
     "text": [
      "La probabilidad de que ocurran problemas de liquidez en 12 días es de 0.3434 %\n"
     ]
    }
   ],
   "source": [
    "## Información\n",
    "media=5\n",
    "\n",
    "# Problemas de liquidez en 12 días P(x=12):\n",
    "print(f'La probabilidad de que ocurran problemas de liquidez en 12 días es de {round(poisson.pmf(k=12,mu=5),6)*100} %')"
   ]
  },
  {
   "cell_type": "code",
   "execution_count": 47,
   "id": "195b00f2",
   "metadata": {},
   "outputs": [
    {
     "name": "stdout",
     "output_type": "stream",
     "text": [
      "La probabilidad de que ocurran problemas de liquidez entre 4 y 9 días es de 70.3146 %\n"
     ]
    }
   ],
   "source": [
    "# Problemas de liquidez entre 4 y 9 días P(4<=x<=9):\n",
    "print(f'La probabilidad de que ocurran problemas de liquidez entre 4 y 9 días es de {round(poisson.cdf(k=9,mu=5) - poisson.cdf(k=3,mu=5),6)*100} %')"
   ]
  },
  {
   "cell_type": "code",
   "execution_count": 48,
   "id": "a0d57957",
   "metadata": {},
   "outputs": [
    {
     "data": {
      "text/html": [
       "<div>\n",
       "<style scoped>\n",
       "    .dataframe tbody tr th:only-of-type {\n",
       "        vertical-align: middle;\n",
       "    }\n",
       "\n",
       "    .dataframe tbody tr th {\n",
       "        vertical-align: top;\n",
       "    }\n",
       "\n",
       "    .dataframe thead th {\n",
       "        text-align: right;\n",
       "    }\n",
       "</style>\n",
       "<table border=\"1\" class=\"dataframe\">\n",
       "  <thead>\n",
       "    <tr style=\"text-align: right;\">\n",
       "      <th></th>\n",
       "      <th>Resultado</th>\n",
       "      <th>Probabilidad</th>\n",
       "    </tr>\n",
       "  </thead>\n",
       "  <tbody>\n",
       "    <tr>\n",
       "      <th>0</th>\n",
       "      <td>0</td>\n",
       "      <td>0.006738</td>\n",
       "    </tr>\n",
       "    <tr>\n",
       "      <th>1</th>\n",
       "      <td>1</td>\n",
       "      <td>0.033690</td>\n",
       "    </tr>\n",
       "    <tr>\n",
       "      <th>2</th>\n",
       "      <td>2</td>\n",
       "      <td>0.084224</td>\n",
       "    </tr>\n",
       "    <tr>\n",
       "      <th>3</th>\n",
       "      <td>3</td>\n",
       "      <td>0.140374</td>\n",
       "    </tr>\n",
       "    <tr>\n",
       "      <th>4</th>\n",
       "      <td>4</td>\n",
       "      <td>0.175467</td>\n",
       "    </tr>\n",
       "    <tr>\n",
       "      <th>5</th>\n",
       "      <td>5</td>\n",
       "      <td>0.175467</td>\n",
       "    </tr>\n",
       "    <tr>\n",
       "      <th>6</th>\n",
       "      <td>6</td>\n",
       "      <td>0.146223</td>\n",
       "    </tr>\n",
       "    <tr>\n",
       "      <th>7</th>\n",
       "      <td>7</td>\n",
       "      <td>0.104445</td>\n",
       "    </tr>\n",
       "    <tr>\n",
       "      <th>8</th>\n",
       "      <td>8</td>\n",
       "      <td>0.065278</td>\n",
       "    </tr>\n",
       "    <tr>\n",
       "      <th>9</th>\n",
       "      <td>9</td>\n",
       "      <td>0.036266</td>\n",
       "    </tr>\n",
       "    <tr>\n",
       "      <th>10</th>\n",
       "      <td>10</td>\n",
       "      <td>0.018133</td>\n",
       "    </tr>\n",
       "  </tbody>\n",
       "</table>\n",
       "</div>"
      ],
      "text/plain": [
       "    Resultado  Probabilidad\n",
       "0           0      0.006738\n",
       "1           1      0.033690\n",
       "2           2      0.084224\n",
       "3           3      0.140374\n",
       "4           4      0.175467\n",
       "5           5      0.175467\n",
       "6           6      0.146223\n",
       "7           7      0.104445\n",
       "8           8      0.065278\n",
       "9           9      0.036266\n",
       "10         10      0.018133"
      ]
     },
     "execution_count": 48,
     "metadata": {},
     "output_type": "execute_result"
    }
   ],
   "source": [
    "# Tabla probabilidades\n",
    "## Calculemos la probabilidad asociada a cada posible resultado:\n",
    "df = pd.DataFrame(data={'Resultado':range(0,11),\n",
    "                        'Probabilidad':poisson.pmf(k=range(0,11),mu=media)})\n",
    "df"
   ]
  },
  {
   "cell_type": "code",
   "execution_count": 49,
   "id": "835cfba0",
   "metadata": {},
   "outputs": [
    {
     "data": {
      "image/png": "[encoded data removed]",
      "text/plain": [
       "<Figure size 432x288 with 1 Axes>"
      ]
     },
     "metadata": {
      "needs_background": "light"
     },
     "output_type": "display_data"
    }
   ],
   "source": [
    "## Construyo la gráfica de la distribución:\n",
    "fig_sns = plt.figure() \n",
    "ax = fig_sns.add_axes([0,0,1,1])\n",
    "ax=sns.barplot(x=df[\"Resultado\"],y=df[\"Probabilidad\"]*100, color=\"lightskyblue\") \n",
    "ax.bar_label(ax.containers[0], label_type='edge',fmt='%.1f%%',padding=3, size=9)  \n",
    "ax.yaxis.set_major_formatter(mtick.PercentFormatter(xmax=100)) \n",
    "ax.set(ylim=(0, 20))\n",
    "plt.show() "
   ]
  },
  {
   "cell_type": "markdown",
   "id": "87ed3125",
   "metadata": {},
   "source": [
    "3. En los resultados del último Saber 11 la media del puntaje global fue 260, con una desviación estándar de 45. Teniendo en cuenta que el Saber 11 es una prueba estandarizada, ¿cuál es la probabilidad de que un estudiante haya obtenido 200 o menos? ¿a partir de qué puntaje se encuentra el 10% de estudiantes con mayor puntaje? ¿cuáles son los valores de la regla empírica?"
   ]
  },
  {
   "cell_type": "code",
   "execution_count": 52,
   "id": "2f1b864f",
   "metadata": {},
   "outputs": [
    {
     "name": "stdout",
     "output_type": "stream",
     "text": [
      "La probabilidad de obtenga un puntaje de 200 o menos es de 9.12 %\n"
     ]
    }
   ],
   "source": [
    "## Información:\n",
    "media=260\n",
    "desv=45\n",
    "\n",
    "# probabilidad de obtener 200 o menos P(x<=200)\n",
    "print(f'La probabilidad de obtenga un puntaje de 200 o menos es de {round(norm.cdf(x=200, loc=media, scale=desv)*100,2)} %')"
   ]
  },
  {
   "cell_type": "code",
   "execution_count": 54,
   "id": "77ab0f69",
   "metadata": {},
   "outputs": [
    {
     "name": "stdout",
     "output_type": "stream",
     "text": [
      "El valor a partir del cual se encuentra el top 10% de puntajes es 317.67\n"
     ]
    }
   ],
   "source": [
    "# A partir de qué valor está el top 10% P(x<=X)=90%:\n",
    "print(f'El valor a partir del cual se encuentra el top 10% de puntajes es {round(norm.ppf(q=0.9, loc=media, scale=desv),2)}')"
   ]
  },
  {
   "cell_type": "code",
   "execution_count": 58,
   "id": "4b94a364",
   "metadata": {},
   "outputs": [
    {
     "name": "stdout",
     "output_type": "stream",
     "text": [
      "El 68.2% de los datos están entre 215 y 305\n",
      "El 95.4% de los datos están entre 170 y 350\n",
      "El 99.7% de los datos están entre 125 y 395\n"
     ]
    }
   ],
   "source": [
    "# Valores de la reglá empírica:\n",
    "print(f'El 68.2% de los datos están entre {round(media-desv,2)} y {round(media+desv,2)}')\n",
    "print(f'El 95.4% de los datos están entre {round(media-2*desv,2)} y {round(media+2*desv,2)}')\n",
    "print(f'El 99.7% de los datos están entre {round(media-3*desv,2)} y {round(media+3*desv,2)}')"
   ]
  },
  {
   "cell_type": "markdown",
   "id": "db99d450",
   "metadata": {},
   "source": [
    "4. El equipo de fútbol de la ciudad juega el 70% de sus partidos de noche y el 30% de día. Cuando juega de noche, gana el 50% de las veces, mientras que si juega de día gana el 90% de las veces. Hoy me levanté y vi que el equipo ayer ganó. ¿Cuál es la probabilidad de que le partido se haya jugado de noche?"
   ]
  },
  {
   "cell_type": "code",
   "execution_count": 59,
   "id": "8ededfe9",
   "metadata": {},
   "outputs": [
    {
     "name": "stdout",
     "output_type": "stream",
     "text": [
      "La probabilidad de ganar un partido es 62.0%\n"
     ]
    }
   ],
   "source": [
    "## Información:\n",
    "p_partidos_noche=0.7\n",
    "p_partidos_dia=0.3\n",
    "p_gana_noche=0.5\n",
    "p_gana_dia=0.9\n",
    "# el equipo ganó ayer\n",
    "\n",
    "#Primero se calcula la probabilidad de ganar un partido\n",
    "p_ganar=p_partidos_noche*p_gana_noche + p_partidos_dia*p_gana_dia\n",
    "print(f'La probabilidad de ganar un partido es {round(p_ganar*100,2)}%')"
   ]
  },
  {
   "cell_type": "code",
   "execution_count": 60,
   "id": "4b8bd118",
   "metadata": {},
   "outputs": [
    {
     "name": "stdout",
     "output_type": "stream",
     "text": [
      "La probabilidad de que el partido se haya jugado de noche dado que el equipo ganó es de 56.45%\n"
     ]
    }
   ],
   "source": [
    "# Ahora sí, aplicamos el Teorema de Bayes:\n",
    "p_noche_ganar= (p_partidos_noche*p_gana_noche)/p_ganar\n",
    "print(f'La probabilidad de que el partido se haya jugado de noche dado que el equipo ganó es de {round(p_noche_ganar*100,2)}%')"
   ]
  },
  {
   "cell_type": "markdown",
   "id": "4cad6d2d",
   "metadata": {},
   "source": [
    "5. En los últimos 20 partidos el América ha anotado en promedio 1.2 goles de local, mientras que el Cali ha anotado en promedio 0.9 goles de visitante, en el mismo número de partidos. Suponiendo independencia en los goles que anota ambos equipos, ¿qué probabilidad tiene América de no anotar goles? ¿ y el Cali? ¿Qué probabilidad tiene el América de anotar 1 o 2 goles? ¿ y el Cali? Construir una gráfica de barras para cada equipo desde 0 a 5 goles. ¿Qué probabilidad hay de que el partido termine 0-0, 1-0, 1-1, 2-1, 1-2?"
   ]
  },
  {
   "cell_type": "code",
   "execution_count": 62,
   "id": "e81c8b69",
   "metadata": {},
   "outputs": [
    {
     "name": "stdout",
     "output_type": "stream",
     "text": [
      "La probabilidad de que América no anote goles es 30.12 %\n"
     ]
    }
   ],
   "source": [
    "## Información:\n",
    "prom_ame=1.2\n",
    "prom_cal=0.9\n",
    "\n",
    "# Probabilidad de que América no anote goles:\n",
    "print(f'La probabilidad de que América no anote goles es {round((poisson.pmf(k=0,mu=prom_ame))*100,2)} %')"
   ]
  },
  {
   "cell_type": "code",
   "execution_count": 63,
   "id": "ada0aeed",
   "metadata": {},
   "outputs": [
    {
     "name": "stdout",
     "output_type": "stream",
     "text": [
      "La probabilidad de que Cali no anote goles es 40.66 %\n"
     ]
    }
   ],
   "source": [
    "# Probabilidad de que Cali no anote goles:\n",
    "print(f'La probabilidad de que Cali no anote goles es {round((poisson.pmf(k=0,mu=prom_cal))*100,2)} %')"
   ]
  },
  {
   "cell_type": "code",
   "execution_count": 64,
   "id": "0b76d7bc",
   "metadata": {},
   "outputs": [
    {
     "name": "stdout",
     "output_type": "stream",
     "text": [
      "La probabilidad de que América anote 1 o 2 goles es 57.83 %\n"
     ]
    }
   ],
   "source": [
    "# Probabilidad de que América anote 1 o 2 goles:\n",
    "print(f'La probabilidad de que América anote 1 o 2 goles es {round((poisson.pmf(k=1,mu=prom_ame)+poisson.pmf(k=2,mu=prom_ame))*100,2)} %')"
   ]
  },
  {
   "cell_type": "code",
   "execution_count": 65,
   "id": "f32a1732",
   "metadata": {},
   "outputs": [
    {
     "name": "stdout",
     "output_type": "stream",
     "text": [
      "La probabilidad de que Cali anote 1 o 2 goles es 53.06 %\n"
     ]
    }
   ],
   "source": [
    "# Probabilidad de que Cali anote 1 o 2 goles:\n",
    "print(f'La probabilidad de que Cali anote 1 o 2 goles es {round((poisson.pmf(k=1,mu=prom_cal)+poisson.pmf(k=2,mu=prom_cal))*100,2)} %')"
   ]
  },
  {
   "cell_type": "code",
   "execution_count": 66,
   "id": "a52cac0c",
   "metadata": {},
   "outputs": [
    {
     "data": {
      "text/html": [
       "<div>\n",
       "<style scoped>\n",
       "    .dataframe tbody tr th:only-of-type {\n",
       "        vertical-align: middle;\n",
       "    }\n",
       "\n",
       "    .dataframe tbody tr th {\n",
       "        vertical-align: top;\n",
       "    }\n",
       "\n",
       "    .dataframe thead th {\n",
       "        text-align: right;\n",
       "    }\n",
       "</style>\n",
       "<table border=\"1\" class=\"dataframe\">\n",
       "  <thead>\n",
       "    <tr style=\"text-align: right;\">\n",
       "      <th></th>\n",
       "      <th>Goles</th>\n",
       "      <th>Prob América</th>\n",
       "      <th>Prob Cali</th>\n",
       "    </tr>\n",
       "  </thead>\n",
       "  <tbody>\n",
       "    <tr>\n",
       "      <th>0</th>\n",
       "      <td>0</td>\n",
       "      <td>0.301194</td>\n",
       "      <td>0.406570</td>\n",
       "    </tr>\n",
       "    <tr>\n",
       "      <th>1</th>\n",
       "      <td>1</td>\n",
       "      <td>0.361433</td>\n",
       "      <td>0.365913</td>\n",
       "    </tr>\n",
       "    <tr>\n",
       "      <th>2</th>\n",
       "      <td>2</td>\n",
       "      <td>0.216860</td>\n",
       "      <td>0.164661</td>\n",
       "    </tr>\n",
       "    <tr>\n",
       "      <th>3</th>\n",
       "      <td>3</td>\n",
       "      <td>0.086744</td>\n",
       "      <td>0.049398</td>\n",
       "    </tr>\n",
       "    <tr>\n",
       "      <th>4</th>\n",
       "      <td>4</td>\n",
       "      <td>0.026023</td>\n",
       "      <td>0.011115</td>\n",
       "    </tr>\n",
       "    <tr>\n",
       "      <th>5</th>\n",
       "      <td>5</td>\n",
       "      <td>0.006246</td>\n",
       "      <td>0.002001</td>\n",
       "    </tr>\n",
       "  </tbody>\n",
       "</table>\n",
       "</div>"
      ],
      "text/plain": [
       "   Goles  Prob América  Prob Cali\n",
       "0      0      0.301194   0.406570\n",
       "1      1      0.361433   0.365913\n",
       "2      2      0.216860   0.164661\n",
       "3      3      0.086744   0.049398\n",
       "4      4      0.026023   0.011115\n",
       "5      5      0.006246   0.002001"
      ]
     },
     "execution_count": 66,
     "metadata": {},
     "output_type": "execute_result"
    }
   ],
   "source": [
    "# Tabla probabilidades\n",
    "## Calculemos la probabilidad asociada a cada posible resultado:\n",
    "df = pd.DataFrame(data={'Goles':range(0,6),\n",
    "                        'Prob América':poisson.pmf(k=range(0,6),mu=prom_ame),\n",
    "                        'Prob Cali':poisson.pmf(k=range(0,6),mu=prom_cal)})\n",
    "df"
   ]
  },
  {
   "cell_type": "code",
   "execution_count": 68,
   "id": "9f797e37",
   "metadata": {},
   "outputs": [
    {
     "data": {
      "text/html": [
       "<div>\n",
       "<style scoped>\n",
       "    .dataframe tbody tr th:only-of-type {\n",
       "        vertical-align: middle;\n",
       "    }\n",
       "\n",
       "    .dataframe tbody tr th {\n",
       "        vertical-align: top;\n",
       "    }\n",
       "\n",
       "    .dataframe thead th {\n",
       "        text-align: right;\n",
       "    }\n",
       "</style>\n",
       "<table border=\"1\" class=\"dataframe\">\n",
       "  <thead>\n",
       "    <tr style=\"text-align: right;\">\n",
       "      <th></th>\n",
       "      <th>Goles</th>\n",
       "      <th>variable</th>\n",
       "      <th>value</th>\n",
       "    </tr>\n",
       "  </thead>\n",
       "  <tbody>\n",
       "    <tr>\n",
       "      <th>0</th>\n",
       "      <td>0</td>\n",
       "      <td>Prob América</td>\n",
       "      <td>0.301194</td>\n",
       "    </tr>\n",
       "    <tr>\n",
       "      <th>1</th>\n",
       "      <td>1</td>\n",
       "      <td>Prob América</td>\n",
       "      <td>0.361433</td>\n",
       "    </tr>\n",
       "    <tr>\n",
       "      <th>2</th>\n",
       "      <td>2</td>\n",
       "      <td>Prob América</td>\n",
       "      <td>0.216860</td>\n",
       "    </tr>\n",
       "    <tr>\n",
       "      <th>3</th>\n",
       "      <td>3</td>\n",
       "      <td>Prob América</td>\n",
       "      <td>0.086744</td>\n",
       "    </tr>\n",
       "    <tr>\n",
       "      <th>4</th>\n",
       "      <td>4</td>\n",
       "      <td>Prob América</td>\n",
       "      <td>0.026023</td>\n",
       "    </tr>\n",
       "    <tr>\n",
       "      <th>5</th>\n",
       "      <td>5</td>\n",
       "      <td>Prob América</td>\n",
       "      <td>0.006246</td>\n",
       "    </tr>\n",
       "    <tr>\n",
       "      <th>6</th>\n",
       "      <td>0</td>\n",
       "      <td>Prob Cali</td>\n",
       "      <td>0.406570</td>\n",
       "    </tr>\n",
       "    <tr>\n",
       "      <th>7</th>\n",
       "      <td>1</td>\n",
       "      <td>Prob Cali</td>\n",
       "      <td>0.365913</td>\n",
       "    </tr>\n",
       "    <tr>\n",
       "      <th>8</th>\n",
       "      <td>2</td>\n",
       "      <td>Prob Cali</td>\n",
       "      <td>0.164661</td>\n",
       "    </tr>\n",
       "    <tr>\n",
       "      <th>9</th>\n",
       "      <td>3</td>\n",
       "      <td>Prob Cali</td>\n",
       "      <td>0.049398</td>\n",
       "    </tr>\n",
       "    <tr>\n",
       "      <th>10</th>\n",
       "      <td>4</td>\n",
       "      <td>Prob Cali</td>\n",
       "      <td>0.011115</td>\n",
       "    </tr>\n",
       "    <tr>\n",
       "      <th>11</th>\n",
       "      <td>5</td>\n",
       "      <td>Prob Cali</td>\n",
       "      <td>0.002001</td>\n",
       "    </tr>\n",
       "  </tbody>\n",
       "</table>\n",
       "</div>"
      ],
      "text/plain": [
       "    Goles      variable     value\n",
       "0       0  Prob América  0.301194\n",
       "1       1  Prob América  0.361433\n",
       "2       2  Prob América  0.216860\n",
       "3       3  Prob América  0.086744\n",
       "4       4  Prob América  0.026023\n",
       "5       5  Prob América  0.006246\n",
       "6       0     Prob Cali  0.406570\n",
       "7       1     Prob Cali  0.365913\n",
       "8       2     Prob Cali  0.164661\n",
       "9       3     Prob Cali  0.049398\n",
       "10      4     Prob Cali  0.011115\n",
       "11      5     Prob Cali  0.002001"
      ]
     },
     "execution_count": 68,
     "metadata": {},
     "output_type": "execute_result"
    }
   ],
   "source": [
    "df2=pd.melt(df,id_vars='Goles')\n",
    "df2"
   ]
  },
  {
   "cell_type": "code",
   "execution_count": 81,
   "id": "369a4fff",
   "metadata": {},
   "outputs": [
    {
     "data": {
      "image/png": "[encoded data removed]",
      "text/plain": [
       "<Figure size 576x432 with 1 Axes>"
      ]
     },
     "metadata": {
      "needs_background": "light"
     },
     "output_type": "display_data"
    }
   ],
   "source": [
    "## Construyo la gráfica de la distribución:\n",
    "df2=pd.melt(df,id_vars='Goles')\n",
    "\n",
    "#Gráfica\n",
    "fig_sns = plt.figure() \n",
    "fig_sns.set_size_inches(8, 6)\n",
    "ax = fig_sns.add_axes([0,0,1,1])\n",
    "ax=sns.barplot(x=df2[\"Goles\"],y=df2[\"value\"]*100, hue=df2[\"variable\"]) \n",
    "ax.bar_label(ax.containers[0], label_type='edge',fmt='%.1f%%',padding=3, size=9)\n",
    "ax.bar_label(ax.containers[1], label_type='edge',fmt='%.1f%%',padding=3, size=9)\n",
    "ax.yaxis.set_major_formatter(mtick.PercentFormatter(xmax=100)) \n",
    "ax.set(ylim=(0, 50))\n",
    "plt.ylabel('Frec.Rel.') \n",
    "plt.legend(title='', loc='upper right')\n",
    "plt.show() "
   ]
  },
  {
   "cell_type": "code",
   "execution_count": 85,
   "id": "8b5bd92a",
   "metadata": {},
   "outputs": [
    {
     "name": "stdout",
     "output_type": "stream",
     "text": [
      " La probabilidad de que el partido termine 0-0 es: 12.25 %\n",
      " La probabilidad de que el partido termine 1-0 es: 14.69 %\n",
      " La probabilidad de que el partido termine 1-1 es: 13.23 %\n",
      " La probabilidad de que el partido termine 2-1 es: 7.94 %\n",
      " La probabilidad de que el partido termine 1-2 es: 5.95 %\n"
     ]
    }
   ],
   "source": [
    "#Teniendo en cuenta que hay independencia en los goles anotados, estamos ante un caso \n",
    "#en el que debemos utilizar la regla de la multiplicación para eventos independientes:\n",
    "print(f' La probabilidad de que el partido termine 0-0 es: {round(100*poisson.pmf(k=0,mu=prom_ame)*poisson.pmf(k=0,mu=prom_cal),2)} %')\n",
    "print(f' La probabilidad de que el partido termine 1-0 es: {round(100*poisson.pmf(k=1,mu=prom_ame)*poisson.pmf(k=0,mu=prom_cal),2)} %')\n",
    "print(f' La probabilidad de que el partido termine 1-1 es: {round(100*poisson.pmf(k=1,mu=prom_ame)*poisson.pmf(k=1,mu=prom_cal),2)} %')\n",
    "print(f' La probabilidad de que el partido termine 2-1 es: {round(100*poisson.pmf(k=2,mu=prom_ame)*poisson.pmf(k=1,mu=prom_cal),2)} %')\n",
    "print(f' La probabilidad de que el partido termine 1-2 es: {round(100*poisson.pmf(k=1,mu=prom_ame)*poisson.pmf(k=2,mu=prom_cal),2)} %')"
   ]
  }
 ],
 "metadata": {
  "kernelspec": {
   "display_name": "Python 3 (ipykernel)",
   "language": "python",
   "name": "python3"
  },
  "language_info": {
   "codemirror_mode": {
    "name": "ipython",
    "version": 3
   },
   "file_extension": ".py",
   "mimetype": "text/x-python",
   "name": "python",
   "nbconvert_exporter": "python",
   "pygments_lexer": "ipython3",
   "version": "3.9.12"
  }
 },
 "nbformat": 4,
 "nbformat_minor": 5
}
