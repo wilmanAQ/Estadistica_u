{
 "cells": [
  {
   "cell_type": "markdown",
   "id": "e88bddd1",
   "metadata": {},
   "source": [
    "# Nivelatorio II: Estadística para la Ciencia de Datos"
   ]
  },
  {
   "cell_type": "markdown",
   "id": "193e6a1e",
   "metadata": {},
   "source": [
    "## Tutorial en Pyhton - Sesión 4"
   ]
  },
  {
   "cell_type": "code",
   "execution_count": 1,
   "id": "08f9e1f5",
   "metadata": {},
   "outputs": [],
   "source": [
    "## Libreria de funciones estadísticas\n",
    "#pip install pingouin"
   ]
  },
  {
   "cell_type": "code",
   "execution_count": 2,
   "id": "31dde31a",
   "metadata": {},
   "outputs": [],
   "source": [
    "import pandas as pd   ## Libreria para manipular y analizar datos\n",
    "import matplotlib.pyplot as plt  ## Libreria para visualizar\n",
    "import seaborn as sns   ## Libreria para visualizar\n",
    "import numpy as np  ## Libreria para operaciones numéricas\n",
    "import plotly  ## Libreria para visualizaciones interactivas\n",
    "import matplotlib.ticker as mtick  ## función para formatear en visualizaciones\n",
    "from scipy.stats import norm ## distribución normal\n",
    "from scipy.stats import poisson ## distribución Poisson\n",
    "from scipy.stats import t ## distribución t\n",
    "from scipy.stats import f ## distribución F\n",
    "from scipy.stats import ttest_1samp  ## Prueba t una población\n",
    "from scipy.stats import ttest_ind ## Prueba t comparación medias\n",
    "from scipy.stats import shapiro ## Prueba normalidad Shapiro-Wilks\n",
    "from scipy.stats import anderson ## Prueba normalidad Anderson-Darling\n",
    "from scipy.stats import levene ## Prueba homogeneidad de varianzas Levene\n",
    "from scipy.stats import mannwhitneyu ## Prueba Mann-Whitney-Wilcoxon (comparación dos poblaciones)\n",
    "from scipy.stats import f_oneway ## Prueba ANOVA de una vía\n",
    "from scipy.stats import chi2_contingency ## Prueba chi cuadrado de Pearson\n",
    "from scipy.stats import pearsonr ## Coeficiente de correlación de Pearson con prueba\n",
    "import statsmodels.stats as sm  ## estadísticas\n",
    "import statsmodels.api as sm1  ## estadísticas\n",
    "from statsmodels.graphics.gofplots import qqplot ## Gráfico QQ plot\n",
    "import pingouin as pg ## LIbrería funciones estadísticas"
   ]
  },
  {
   "cell_type": "markdown",
   "id": "bf7a593c",
   "metadata": {},
   "source": [
    "Los datos de la base “lowbwt.xlsx” corresponden al peso de bebés recién nacidos. El objetivo del estudio era determinar las variables asociadas con dar a luz un bebé con bajo peso en gramos (es decir, si BWT < 2500 grams, siendo BWT el peso registrado). Los datos se recolectaron a 189 mujeres, 59 de las cuales dieron a luz bebés con bajo peso. La base cuenta con las siguientes variables:\n",
    "\n",
    "1. id: Código de identificación\n",
    "2. low: Identifica si el recien nacido es de bajo peso (1: Sí; 0: No)\n",
    "3. age: Edad de la madre al momento del parto (1: Blanca; 2: Afro; 3: Otras)\n",
    "4. lwt: Peso de la madre al momento de su último periodo mestrual\n",
    "5. race: Etnia de la madre\n",
    "6. smoke: Identifica si la madre es fumadora (1: sí; 2: No)\n",
    "7. ptl: Historial de labor prematura\n",
    "8. ht: Identifica si tiene historial de hipertensión (1: Sí; 2: No)\n",
    "9. ui: Identifica si la madre tuvo irritabilidad uterina (1: Sí; 2: No)\n",
    "10. ftv: Número de visitas médicas de control realizadas durante el primer trimestre del embarazo.\n",
    "11. bwt: Peso del recien nacido\n",
    "\n",
    "En este tutorial vamos a probar cuatro preguntas de investigacion:\n",
    "1. Se desea saber si existe relación entre el peso del recién nacido y si la madre es fumadora o no. \n",
    "2. Se desea saber si existe relación entre el peso del recién nacido y la raza de la madre. \n",
    "3. Se desea saber si existe relación entre el bajo peso al nacer y si la madre es fumadora o no.\n",
    "4. Se desea saber si existe relación entre el peso del recién nacido y el peso de la madre."
   ]
  },
  {
   "cell_type": "code",
   "execution_count": 3,
   "id": "3a94960f",
   "metadata": {},
   "outputs": [
    {
     "data": {
      "text/html": [
       "<div>\n",
       "<style scoped>\n",
       "    .dataframe tbody tr th:only-of-type {\n",
       "        vertical-align: middle;\n",
       "    }\n",
       "\n",
       "    .dataframe tbody tr th {\n",
       "        vertical-align: top;\n",
       "    }\n",
       "\n",
       "    .dataframe thead th {\n",
       "        text-align: right;\n",
       "    }\n",
       "</style>\n",
       "<table border=\"1\" class=\"dataframe\">\n",
       "  <thead>\n",
       "    <tr style=\"text-align: right;\">\n",
       "      <th></th>\n",
       "      <th>id</th>\n",
       "      <th>low</th>\n",
       "      <th>age</th>\n",
       "      <th>lwt</th>\n",
       "      <th>race</th>\n",
       "      <th>smoke</th>\n",
       "      <th>ptl</th>\n",
       "      <th>ht</th>\n",
       "      <th>ui</th>\n",
       "      <th>ftv</th>\n",
       "      <th>bwt</th>\n",
       "    </tr>\n",
       "  </thead>\n",
       "  <tbody>\n",
       "    <tr>\n",
       "      <th>0</th>\n",
       "      <td>4</td>\n",
       "      <td>1</td>\n",
       "      <td>28</td>\n",
       "      <td>120</td>\n",
       "      <td>3</td>\n",
       "      <td>1</td>\n",
       "      <td>1</td>\n",
       "      <td>0</td>\n",
       "      <td>1</td>\n",
       "      <td>0</td>\n",
       "      <td>709</td>\n",
       "    </tr>\n",
       "    <tr>\n",
       "      <th>1</th>\n",
       "      <td>10</td>\n",
       "      <td>1</td>\n",
       "      <td>29</td>\n",
       "      <td>130</td>\n",
       "      <td>1</td>\n",
       "      <td>0</td>\n",
       "      <td>0</td>\n",
       "      <td>0</td>\n",
       "      <td>1</td>\n",
       "      <td>2</td>\n",
       "      <td>1021</td>\n",
       "    </tr>\n",
       "    <tr>\n",
       "      <th>2</th>\n",
       "      <td>11</td>\n",
       "      <td>1</td>\n",
       "      <td>34</td>\n",
       "      <td>187</td>\n",
       "      <td>2</td>\n",
       "      <td>1</td>\n",
       "      <td>0</td>\n",
       "      <td>1</td>\n",
       "      <td>0</td>\n",
       "      <td>0</td>\n",
       "      <td>1135</td>\n",
       "    </tr>\n",
       "    <tr>\n",
       "      <th>3</th>\n",
       "      <td>13</td>\n",
       "      <td>1</td>\n",
       "      <td>25</td>\n",
       "      <td>105</td>\n",
       "      <td>3</td>\n",
       "      <td>0</td>\n",
       "      <td>1</td>\n",
       "      <td>1</td>\n",
       "      <td>0</td>\n",
       "      <td>0</td>\n",
       "      <td>1330</td>\n",
       "    </tr>\n",
       "    <tr>\n",
       "      <th>4</th>\n",
       "      <td>15</td>\n",
       "      <td>1</td>\n",
       "      <td>25</td>\n",
       "      <td>85</td>\n",
       "      <td>3</td>\n",
       "      <td>0</td>\n",
       "      <td>0</td>\n",
       "      <td>0</td>\n",
       "      <td>1</td>\n",
       "      <td>0</td>\n",
       "      <td>1474</td>\n",
       "    </tr>\n",
       "    <tr>\n",
       "      <th>...</th>\n",
       "      <td>...</td>\n",
       "      <td>...</td>\n",
       "      <td>...</td>\n",
       "      <td>...</td>\n",
       "      <td>...</td>\n",
       "      <td>...</td>\n",
       "      <td>...</td>\n",
       "      <td>...</td>\n",
       "      <td>...</td>\n",
       "      <td>...</td>\n",
       "      <td>...</td>\n",
       "    </tr>\n",
       "    <tr>\n",
       "      <th>184</th>\n",
       "      <td>222</td>\n",
       "      <td>0</td>\n",
       "      <td>31</td>\n",
       "      <td>120</td>\n",
       "      <td>1</td>\n",
       "      <td>0</td>\n",
       "      <td>0</td>\n",
       "      <td>0</td>\n",
       "      <td>0</td>\n",
       "      <td>2</td>\n",
       "      <td>4167</td>\n",
       "    </tr>\n",
       "    <tr>\n",
       "      <th>185</th>\n",
       "      <td>223</td>\n",
       "      <td>0</td>\n",
       "      <td>35</td>\n",
       "      <td>170</td>\n",
       "      <td>1</td>\n",
       "      <td>0</td>\n",
       "      <td>1</td>\n",
       "      <td>0</td>\n",
       "      <td>0</td>\n",
       "      <td>1</td>\n",
       "      <td>4174</td>\n",
       "    </tr>\n",
       "    <tr>\n",
       "      <th>186</th>\n",
       "      <td>224</td>\n",
       "      <td>0</td>\n",
       "      <td>19</td>\n",
       "      <td>120</td>\n",
       "      <td>1</td>\n",
       "      <td>1</td>\n",
       "      <td>0</td>\n",
       "      <td>0</td>\n",
       "      <td>0</td>\n",
       "      <td>0</td>\n",
       "      <td>4238</td>\n",
       "    </tr>\n",
       "    <tr>\n",
       "      <th>187</th>\n",
       "      <td>225</td>\n",
       "      <td>0</td>\n",
       "      <td>24</td>\n",
       "      <td>116</td>\n",
       "      <td>1</td>\n",
       "      <td>0</td>\n",
       "      <td>0</td>\n",
       "      <td>0</td>\n",
       "      <td>0</td>\n",
       "      <td>1</td>\n",
       "      <td>4593</td>\n",
       "    </tr>\n",
       "    <tr>\n",
       "      <th>188</th>\n",
       "      <td>226</td>\n",
       "      <td>0</td>\n",
       "      <td>45</td>\n",
       "      <td>123</td>\n",
       "      <td>1</td>\n",
       "      <td>0</td>\n",
       "      <td>0</td>\n",
       "      <td>0</td>\n",
       "      <td>0</td>\n",
       "      <td>1</td>\n",
       "      <td>4990</td>\n",
       "    </tr>\n",
       "  </tbody>\n",
       "</table>\n",
       "<p>189 rows × 11 columns</p>\n",
       "</div>"
      ],
      "text/plain": [
       "      id  low  age  lwt  race  smoke  ptl  ht  ui  ftv   bwt\n",
       "0      4    1   28  120     3      1    1   0   1    0   709\n",
       "1     10    1   29  130     1      0    0   0   1    2  1021\n",
       "2     11    1   34  187     2      1    0   1   0    0  1135\n",
       "3     13    1   25  105     3      0    1   1   0    0  1330\n",
       "4     15    1   25   85     3      0    0   0   1    0  1474\n",
       "..   ...  ...  ...  ...   ...    ...  ...  ..  ..  ...   ...\n",
       "184  222    0   31  120     1      0    0   0   0    2  4167\n",
       "185  223    0   35  170     1      0    1   0   0    1  4174\n",
       "186  224    0   19  120     1      1    0   0   0    0  4238\n",
       "187  225    0   24  116     1      0    0   0   0    1  4593\n",
       "188  226    0   45  123     1      0    0   0   0    1  4990\n",
       "\n",
       "[189 rows x 11 columns]"
      ]
     },
     "execution_count": 3,
     "metadata": {},
     "output_type": "execute_result"
    }
   ],
   "source": [
    "## Cargo los datos\n",
    "data = pd.read_excel(\"lowbwt.xlsx\")\n",
    "data"
   ]
  },
  {
   "cell_type": "markdown",
   "id": "80ae5737",
   "metadata": {},
   "source": [
    "# Relación entre una cuantitativa y una cualitativa"
   ]
  },
  {
   "cell_type": "code",
   "execution_count": 4,
   "id": "e95e9470",
   "metadata": {},
   "outputs": [
    {
     "data": {
      "text/html": [
       "<div>\n",
       "<style scoped>\n",
       "    .dataframe tbody tr th:only-of-type {\n",
       "        vertical-align: middle;\n",
       "    }\n",
       "\n",
       "    .dataframe tbody tr th {\n",
       "        vertical-align: top;\n",
       "    }\n",
       "\n",
       "    .dataframe thead th {\n",
       "        text-align: right;\n",
       "    }\n",
       "</style>\n",
       "<table border=\"1\" class=\"dataframe\">\n",
       "  <thead>\n",
       "    <tr style=\"text-align: right;\">\n",
       "      <th></th>\n",
       "      <th>id</th>\n",
       "      <th>low</th>\n",
       "      <th>age</th>\n",
       "      <th>lwt</th>\n",
       "      <th>race</th>\n",
       "      <th>smoke</th>\n",
       "      <th>ptl</th>\n",
       "      <th>ht</th>\n",
       "      <th>ui</th>\n",
       "      <th>ftv</th>\n",
       "      <th>bwt</th>\n",
       "    </tr>\n",
       "  </thead>\n",
       "  <tbody>\n",
       "    <tr>\n",
       "      <th>0</th>\n",
       "      <td>4</td>\n",
       "      <td>1</td>\n",
       "      <td>28</td>\n",
       "      <td>120</td>\n",
       "      <td>3</td>\n",
       "      <td>Madre fumadora</td>\n",
       "      <td>1</td>\n",
       "      <td>0</td>\n",
       "      <td>1</td>\n",
       "      <td>0</td>\n",
       "      <td>709</td>\n",
       "    </tr>\n",
       "    <tr>\n",
       "      <th>1</th>\n",
       "      <td>10</td>\n",
       "      <td>1</td>\n",
       "      <td>29</td>\n",
       "      <td>130</td>\n",
       "      <td>1</td>\n",
       "      <td>Madre No fumadora</td>\n",
       "      <td>0</td>\n",
       "      <td>0</td>\n",
       "      <td>1</td>\n",
       "      <td>2</td>\n",
       "      <td>1021</td>\n",
       "    </tr>\n",
       "    <tr>\n",
       "      <th>2</th>\n",
       "      <td>11</td>\n",
       "      <td>1</td>\n",
       "      <td>34</td>\n",
       "      <td>187</td>\n",
       "      <td>2</td>\n",
       "      <td>Madre fumadora</td>\n",
       "      <td>0</td>\n",
       "      <td>1</td>\n",
       "      <td>0</td>\n",
       "      <td>0</td>\n",
       "      <td>1135</td>\n",
       "    </tr>\n",
       "    <tr>\n",
       "      <th>3</th>\n",
       "      <td>13</td>\n",
       "      <td>1</td>\n",
       "      <td>25</td>\n",
       "      <td>105</td>\n",
       "      <td>3</td>\n",
       "      <td>Madre No fumadora</td>\n",
       "      <td>1</td>\n",
       "      <td>1</td>\n",
       "      <td>0</td>\n",
       "      <td>0</td>\n",
       "      <td>1330</td>\n",
       "    </tr>\n",
       "    <tr>\n",
       "      <th>4</th>\n",
       "      <td>15</td>\n",
       "      <td>1</td>\n",
       "      <td>25</td>\n",
       "      <td>85</td>\n",
       "      <td>3</td>\n",
       "      <td>Madre No fumadora</td>\n",
       "      <td>0</td>\n",
       "      <td>0</td>\n",
       "      <td>1</td>\n",
       "      <td>0</td>\n",
       "      <td>1474</td>\n",
       "    </tr>\n",
       "    <tr>\n",
       "      <th>...</th>\n",
       "      <td>...</td>\n",
       "      <td>...</td>\n",
       "      <td>...</td>\n",
       "      <td>...</td>\n",
       "      <td>...</td>\n",
       "      <td>...</td>\n",
       "      <td>...</td>\n",
       "      <td>...</td>\n",
       "      <td>...</td>\n",
       "      <td>...</td>\n",
       "      <td>...</td>\n",
       "    </tr>\n",
       "    <tr>\n",
       "      <th>184</th>\n",
       "      <td>222</td>\n",
       "      <td>0</td>\n",
       "      <td>31</td>\n",
       "      <td>120</td>\n",
       "      <td>1</td>\n",
       "      <td>Madre No fumadora</td>\n",
       "      <td>0</td>\n",
       "      <td>0</td>\n",
       "      <td>0</td>\n",
       "      <td>2</td>\n",
       "      <td>4167</td>\n",
       "    </tr>\n",
       "    <tr>\n",
       "      <th>185</th>\n",
       "      <td>223</td>\n",
       "      <td>0</td>\n",
       "      <td>35</td>\n",
       "      <td>170</td>\n",
       "      <td>1</td>\n",
       "      <td>Madre No fumadora</td>\n",
       "      <td>1</td>\n",
       "      <td>0</td>\n",
       "      <td>0</td>\n",
       "      <td>1</td>\n",
       "      <td>4174</td>\n",
       "    </tr>\n",
       "    <tr>\n",
       "      <th>186</th>\n",
       "      <td>224</td>\n",
       "      <td>0</td>\n",
       "      <td>19</td>\n",
       "      <td>120</td>\n",
       "      <td>1</td>\n",
       "      <td>Madre fumadora</td>\n",
       "      <td>0</td>\n",
       "      <td>0</td>\n",
       "      <td>0</td>\n",
       "      <td>0</td>\n",
       "      <td>4238</td>\n",
       "    </tr>\n",
       "    <tr>\n",
       "      <th>187</th>\n",
       "      <td>225</td>\n",
       "      <td>0</td>\n",
       "      <td>24</td>\n",
       "      <td>116</td>\n",
       "      <td>1</td>\n",
       "      <td>Madre No fumadora</td>\n",
       "      <td>0</td>\n",
       "      <td>0</td>\n",
       "      <td>0</td>\n",
       "      <td>1</td>\n",
       "      <td>4593</td>\n",
       "    </tr>\n",
       "    <tr>\n",
       "      <th>188</th>\n",
       "      <td>226</td>\n",
       "      <td>0</td>\n",
       "      <td>45</td>\n",
       "      <td>123</td>\n",
       "      <td>1</td>\n",
       "      <td>Madre No fumadora</td>\n",
       "      <td>0</td>\n",
       "      <td>0</td>\n",
       "      <td>0</td>\n",
       "      <td>1</td>\n",
       "      <td>4990</td>\n",
       "    </tr>\n",
       "  </tbody>\n",
       "</table>\n",
       "<p>189 rows × 11 columns</p>\n",
       "</div>"
      ],
      "text/plain": [
       "      id  low  age  lwt  race              smoke  ptl  ht  ui  ftv   bwt\n",
       "0      4    1   28  120     3     Madre fumadora    1   0   1    0   709\n",
       "1     10    1   29  130     1  Madre No fumadora    0   0   1    2  1021\n",
       "2     11    1   34  187     2     Madre fumadora    0   1   0    0  1135\n",
       "3     13    1   25  105     3  Madre No fumadora    1   1   0    0  1330\n",
       "4     15    1   25   85     3  Madre No fumadora    0   0   1    0  1474\n",
       "..   ...  ...  ...  ...   ...                ...  ...  ..  ..  ...   ...\n",
       "184  222    0   31  120     1  Madre No fumadora    0   0   0    2  4167\n",
       "185  223    0   35  170     1  Madre No fumadora    1   0   0    1  4174\n",
       "186  224    0   19  120     1     Madre fumadora    0   0   0    0  4238\n",
       "187  225    0   24  116     1  Madre No fumadora    0   0   0    1  4593\n",
       "188  226    0   45  123     1  Madre No fumadora    0   0   0    1  4990\n",
       "\n",
       "[189 rows x 11 columns]"
      ]
     },
     "execution_count": 4,
     "metadata": {},
     "output_type": "execute_result"
    }
   ],
   "source": [
    "## Reemplazo códigos por nombres de categorías\n",
    "data[\"smoke\"]=data[\"smoke\"].replace(1, \"Madre fumadora\")\n",
    "data[\"smoke\"]=data[\"smoke\"].replace(0, \"Madre No fumadora\")\n",
    "data"
   ]
  },
  {
   "cell_type": "markdown",
   "id": "84fbffcf",
   "metadata": {},
   "source": [
    "Antes de entrar a realizar pruebas, realicemos una exploración gráfica. Esto nos permite darnos una idea de lo que podríamos obtener como resultado en las pruebas estadísticas. En este caso, ¿qué podríamos decir por ahora?"
   ]
  },
  {
   "cell_type": "code",
   "execution_count": 5,
   "id": "68326697",
   "metadata": {},
   "outputs": [
    {
     "data": {
      "image/png": "[encoded data removed]",
      "text/plain": [
       "<Figure size 720x360 with 1 Axes>"
      ]
     },
     "metadata": {
      "needs_background": "light"
     },
     "output_type": "display_data"
    }
   ],
   "source": [
    "fig_boxplot = plt.figure(figsize=(10,5)) \n",
    "ax = fig_boxplot.add_axes([0,0,1,1])\n",
    "ax=sns.boxplot(x=data[\"smoke\"], y=data[\"bwt\"])\n",
    "plt.ylabel('Peso del recién nacido (gr)')   \n",
    "plt.xlabel('')           \n",
    "plt.show()  "
   ]
  },
  {
   "cell_type": "code",
   "execution_count": 6,
   "id": "a42e2c1f",
   "metadata": {},
   "outputs": [
    {
     "data": {
      "image/png": "[encoded data removed]",
      "text/plain": [
       "<Figure size 432x288 with 1 Axes>"
      ]
     },
     "metadata": {
      "needs_background": "light"
     },
     "output_type": "display_data"
    }
   ],
   "source": [
    "fig_hist = plt.figure() \n",
    "ax = fig_hist.add_axes([0,0,1,1])\n",
    "ax=sns.histplot(x=data[\"bwt\"], hue=data[\"smoke\"],kde=True)\n",
    "plt.ylabel('Frecuencia absoluta')   \n",
    "plt.xlabel('Peso del recién nacido (gr)') \n",
    "plt.show() "
   ]
  },
  {
   "cell_type": "markdown",
   "id": "49727a4c",
   "metadata": {},
   "source": [
    "Analizando los gráficos podríamos comentar que pareciera que los recién nacidos de madres NO fumadoras tienen en promedio un mayor peso que los de madres fumadoras. Sin embargo, debemos realizar las pruebas estadísticas correspondientes para validar esto."
   ]
  },
  {
   "cell_type": "markdown",
   "id": "fc1d9be9",
   "metadata": {},
   "source": [
    "# Comparación de medias con dos poblaciones"
   ]
  },
  {
   "cell_type": "markdown",
   "id": "27bb4457",
   "metadata": {},
   "source": [
    "## Verificación de supuestos:"
   ]
  },
  {
   "cell_type": "markdown",
   "id": "44904016",
   "metadata": {},
   "source": [
    "Verifiquemos primero el de normalidad. El supuesto establece que ambas poblaciones deben seguir la distribución normal o tener un tamaño mayor a 30 para que se cumpla el TLC.  \n",
    "\n",
    "Recordemos las hipótesis:\n",
    "- Ho: La muestra proviene de una población que sigue una distribución normal\n",
    "- Ha: La muestra NO proviene de una población que sigue una distribución normal"
   ]
  },
  {
   "cell_type": "code",
   "execution_count": 7,
   "id": "39017793",
   "metadata": {},
   "outputs": [
    {
     "data": {
      "image/png": "[encoded data removed]",
      "text/plain": [
       "<Figure size 1080x360 with 2 Axes>"
      ]
     },
     "metadata": {
      "needs_background": "light"
     },
     "output_type": "display_data"
    }
   ],
   "source": [
    "## QQplots\n",
    "fig, axs = plt.subplots(ncols=2)\n",
    "fig.set_size_inches(15, 5)\n",
    "fig.subplots_adjust(wspace=0.3)\n",
    "\n",
    "ax1=qqplot(data[data[\"smoke\"]==\"Madre fumadora\"][\"bwt\"], line='s',ax=axs[0])\n",
    "ax2=qqplot(data[data[\"smoke\"]==\"Madre No fumadora\"][\"bwt\"], line='s',ax=axs[1])\n",
    "plt.show()"
   ]
  },
  {
   "cell_type": "code",
   "execution_count": 8,
   "id": "3d47c50f",
   "metadata": {},
   "outputs": [
    {
     "name": "stdout",
     "output_type": "stream",
     "text": [
      "Población: Madre fumadora\n",
      "Estadístico SW= 0.9827704429626465, Valor-p= 0.41028788685798645\n",
      "Estadístico AD= 0.3097116729573486, Valor crítico (sign. 5%)= 0.75\n",
      "\n",
      "Población: Madre No fumadora\n",
      "Estadístico SW= 0.9871007800102234, Valor-p= 0.34354346990585327\n",
      "Estadístico AD= 0.4950927145899726, Valor crítico (sign. 5%)= 0.762\n"
     ]
    }
   ],
   "source": [
    "# normalidad\n",
    "print(\"Población: Madre fumadora\")\n",
    "Estad,vp = shapiro(data[data[\"smoke\"]==\"Madre fumadora\"][\"bwt\"])\n",
    "print(f'Estadístico SW= {Estad}, Valor-p= {vp}')\n",
    "Estad,vc,sig=anderson(data[data[\"smoke\"]==\"Madre fumadora\"][\"bwt\"])\n",
    "print(f'Estadístico AD= {Estad}, Valor crítico (sign. 5%)= {vc[2]}')\n",
    "\n",
    "print('')\n",
    "\n",
    "print(\"Población: Madre No fumadora\")\n",
    "Estad,vp = shapiro(data[data[\"smoke\"]==\"Madre No fumadora\"][\"bwt\"])\n",
    "print(f'Estadístico SW= {Estad}, Valor-p= {vp}')\n",
    "Estad,vc,sig=anderson(data[data[\"smoke\"]==\"Madre No fumadora\"][\"bwt\"])\n",
    "print(f'Estadístico AD= {Estad}, Valor crítico (sign. 5%)= {vc[2]}')"
   ]
  },
  {
   "cell_type": "markdown",
   "id": "dd192013",
   "metadata": {},
   "source": [
    "Conclusión: No es posible rechazar la hipótesis nula, por tanto podemos decir que se cumple el supuesto de normalidad. Noten también que de todas formas, los tamaños de ambas poblaciones era mayor que 30.  \n",
    "\n",
    "Ahora pasemos al supuesto de homogeneidad de varianzas y recordemos las hipótesis:\n",
    "- Ho: la varianza en ambas poblaciones es igual\n",
    "- Ha: la varianza difiere entre poblaciones\n"
   ]
  },
  {
   "cell_type": "code",
   "execution_count": 9,
   "id": "50493912",
   "metadata": {},
   "outputs": [
    {
     "name": "stdout",
     "output_type": "stream",
     "text": [
      "Estadístico F= 0.7696243711493685, Valor-p= 0.2289621285737571\n"
     ]
    }
   ],
   "source": [
    "# Homogeneidad de varianzas (Prueba F)\n",
    "def f_test(group1, group2):\n",
    "    stat = np.var(group1, ddof=1)/np.var(group2, ddof=1)\n",
    "    df_num = group1.size-1\n",
    "    df_den = group2.size-1\n",
    "    p_value = np.where(stat<1,2*f.cdf(stat, df_num, df_den),2*(1-f.cdf(stat, df_num, df_den)))\n",
    "    return stat,p_value\n",
    "\n",
    "Estad,vp=f_test(data[data[\"smoke\"]==\"Madre fumadora\"][\"bwt\"], data[data[\"smoke\"]==\"Madre No fumadora\"][\"bwt\"])\n",
    "print(f'Estadístico F= {Estad}, Valor-p= {vp}')"
   ]
  },
  {
   "cell_type": "markdown",
   "id": "74d67133",
   "metadata": {},
   "source": [
    "Conclusión: No es posible rechazar la hipótesis nula, por tanto podemos decir que se cumple el supuesto de homogeneidad de varianzas."
   ]
  },
  {
   "cell_type": "markdown",
   "id": "fe36ec24",
   "metadata": {},
   "source": [
    "Con esta prueba es suficiente, pero quiero mostrar cómo se haría la prueba de Levene:"
   ]
  },
  {
   "cell_type": "code",
   "execution_count": 10,
   "id": "d82c48ad",
   "metadata": {},
   "outputs": [
    {
     "name": "stdout",
     "output_type": "stream",
     "text": [
      "Estadístico W= 1.507983797115636, Valor-p= 0.22099041242970063\n"
     ]
    }
   ],
   "source": [
    "Estad,vp=levene(data[data[\"smoke\"]==\"Madre fumadora\"][\"bwt\"], \n",
    "                data[data[\"smoke\"]==\"Madre No fumadora\"][\"bwt\"],\n",
    "               center='mean')\n",
    "print(f'Estadístico W= {Estad}, Valor-p= {vp}')"
   ]
  },
  {
   "cell_type": "markdown",
   "id": "64e823c1",
   "metadata": {},
   "source": [
    "LLegamos a la misma conclusión que con la Prueba F."
   ]
  },
  {
   "cell_type": "markdown",
   "id": "6c529467",
   "metadata": {},
   "source": [
    "## Prueba t"
   ]
  },
  {
   "cell_type": "markdown",
   "id": "7616d143",
   "metadata": {},
   "source": [
    "Habiendo comprobado que se cumplen los supuestos de normalidad y homogeneidad de varianza, podemos realizar la **prueba t conjunta**. Recordemos las hipótesis:\n",
    "\n",
    "- Ho: la media en ambas poblaciones es igual\n",
    "- Ha: la media difiere entre poblaciones\n"
   ]
  },
  {
   "cell_type": "code",
   "execution_count": 11,
   "id": "02d3aac7",
   "metadata": {},
   "outputs": [
    {
     "name": "stdout",
     "output_type": "stream",
     "text": [
      "Media grupo 1:2773.24, Media grupo 2:3054.96, Estadístico t= -2.6336039163601987, Valor-p= 0.009155660031636731\n"
     ]
    }
   ],
   "source": [
    "Estad,vp=ttest_ind(data[data[\"smoke\"]==\"Madre fumadora\"][\"bwt\"], \n",
    "                   data[data[\"smoke\"]==\"Madre No fumadora\"][\"bwt\"])\n",
    "\n",
    "print(f'Media grupo 1:{round(data[data[\"smoke\"]==\"Madre fumadora\"][\"bwt\"].mean(),2)}, Media grupo 2:{round(data[data[\"smoke\"]==\"Madre No fumadora\"][\"bwt\"].mean(),2)}, Estadístico t= {Estad}, Valor-p= {vp}')"
   ]
  },
  {
   "cell_type": "markdown",
   "id": "ad1e7868",
   "metadata": {},
   "source": [
    "Conclusión: Rechazo la hipótesis nula, por tanto con un 95% de confianza (incluso un 99%) podemos afirmar que la media del peso del recién nacido difiere entre bebés de madres fumadoras y de madres no fumadoras (2773 gr vs 3055 gr)."
   ]
  },
  {
   "cell_type": "markdown",
   "id": "6a5d8295",
   "metadata": {},
   "source": [
    "Supongamos que hay normalidad, pero no se cumple el supuesto de homogeneidad de varianzas. Entonces se realiza la **prueba t para varianzas desiguales**:"
   ]
  },
  {
   "cell_type": "code",
   "execution_count": 12,
   "id": "84bcc018",
   "metadata": {},
   "outputs": [
    {
     "name": "stdout",
     "output_type": "stream",
     "text": [
      "Media grupo 1:2773.24, Media grupo 2:3054.96, Estadístico t= -2.7094574546176937, Valor-p= 0.007429656670110683\n"
     ]
    }
   ],
   "source": [
    "Estad,vp=ttest_ind(data[data[\"smoke\"]==\"Madre fumadora\"][\"bwt\"], \n",
    "                   data[data[\"smoke\"]==\"Madre No fumadora\"][\"bwt\"],\n",
    "                   equal_var=False)\n",
    "\n",
    "print(f'Media grupo 1:{round(data[data[\"smoke\"]==\"Madre fumadora\"][\"bwt\"].mean(),2)}, Media grupo 2:{round(data[data[\"smoke\"]==\"Madre No fumadora\"][\"bwt\"].mean(),2)}, Estadístico t= {Estad}, Valor-p= {vp}')"
   ]
  },
  {
   "cell_type": "markdown",
   "id": "f0f8a115",
   "metadata": {},
   "source": [
    "Ahora supongamos que no hay normalidad y por tanto debemos realizar la prueba no paramétrica de **Mann-Whitney-Wilcoxon**:"
   ]
  },
  {
   "cell_type": "code",
   "execution_count": 13,
   "id": "8c777477",
   "metadata": {},
   "outputs": [
    {
     "name": "stdout",
     "output_type": "stream",
     "text": [
      "Estadístico W= 3266.5, Valor-p= 0.00710906665852587\n"
     ]
    }
   ],
   "source": [
    "Estad,vp=mannwhitneyu(data[data[\"smoke\"]==\"Madre fumadora\"][\"bwt\"], \n",
    "                   data[data[\"smoke\"]==\"Madre No fumadora\"][\"bwt\"])\n",
    "\n",
    "print(f'Estadístico W= {Estad}, Valor-p= {vp}')"
   ]
  },
  {
   "cell_type": "markdown",
   "id": "19ad4acb",
   "metadata": {},
   "source": [
    "# Comparación de medias con dos o más poblaciones"
   ]
  },
  {
   "cell_type": "markdown",
   "id": "d98ae84f",
   "metadata": {},
   "source": [
    "Ahora pensemos si existe relación entre el peso del recién nacido y la etnia de la madre. Es decir, ¿existe diferencia en el peso del recién nacido entre etnias?"
   ]
  },
  {
   "cell_type": "code",
   "execution_count": 14,
   "id": "ed0e7edb",
   "metadata": {},
   "outputs": [
    {
     "data": {
      "text/html": [
       "<div>\n",
       "<style scoped>\n",
       "    .dataframe tbody tr th:only-of-type {\n",
       "        vertical-align: middle;\n",
       "    }\n",
       "\n",
       "    .dataframe tbody tr th {\n",
       "        vertical-align: top;\n",
       "    }\n",
       "\n",
       "    .dataframe thead th {\n",
       "        text-align: right;\n",
       "    }\n",
       "</style>\n",
       "<table border=\"1\" class=\"dataframe\">\n",
       "  <thead>\n",
       "    <tr style=\"text-align: right;\">\n",
       "      <th></th>\n",
       "      <th>id</th>\n",
       "      <th>low</th>\n",
       "      <th>age</th>\n",
       "      <th>lwt</th>\n",
       "      <th>race</th>\n",
       "      <th>smoke</th>\n",
       "      <th>ptl</th>\n",
       "      <th>ht</th>\n",
       "      <th>ui</th>\n",
       "      <th>ftv</th>\n",
       "      <th>bwt</th>\n",
       "    </tr>\n",
       "  </thead>\n",
       "  <tbody>\n",
       "    <tr>\n",
       "      <th>0</th>\n",
       "      <td>4</td>\n",
       "      <td>1</td>\n",
       "      <td>28</td>\n",
       "      <td>120</td>\n",
       "      <td>Otras</td>\n",
       "      <td>Madre fumadora</td>\n",
       "      <td>1</td>\n",
       "      <td>0</td>\n",
       "      <td>1</td>\n",
       "      <td>0</td>\n",
       "      <td>709</td>\n",
       "    </tr>\n",
       "    <tr>\n",
       "      <th>1</th>\n",
       "      <td>10</td>\n",
       "      <td>1</td>\n",
       "      <td>29</td>\n",
       "      <td>130</td>\n",
       "      <td>Blanca</td>\n",
       "      <td>Madre No fumadora</td>\n",
       "      <td>0</td>\n",
       "      <td>0</td>\n",
       "      <td>1</td>\n",
       "      <td>2</td>\n",
       "      <td>1021</td>\n",
       "    </tr>\n",
       "    <tr>\n",
       "      <th>2</th>\n",
       "      <td>11</td>\n",
       "      <td>1</td>\n",
       "      <td>34</td>\n",
       "      <td>187</td>\n",
       "      <td>Afro</td>\n",
       "      <td>Madre fumadora</td>\n",
       "      <td>0</td>\n",
       "      <td>1</td>\n",
       "      <td>0</td>\n",
       "      <td>0</td>\n",
       "      <td>1135</td>\n",
       "    </tr>\n",
       "    <tr>\n",
       "      <th>3</th>\n",
       "      <td>13</td>\n",
       "      <td>1</td>\n",
       "      <td>25</td>\n",
       "      <td>105</td>\n",
       "      <td>Otras</td>\n",
       "      <td>Madre No fumadora</td>\n",
       "      <td>1</td>\n",
       "      <td>1</td>\n",
       "      <td>0</td>\n",
       "      <td>0</td>\n",
       "      <td>1330</td>\n",
       "    </tr>\n",
       "    <tr>\n",
       "      <th>4</th>\n",
       "      <td>15</td>\n",
       "      <td>1</td>\n",
       "      <td>25</td>\n",
       "      <td>85</td>\n",
       "      <td>Otras</td>\n",
       "      <td>Madre No fumadora</td>\n",
       "      <td>0</td>\n",
       "      <td>0</td>\n",
       "      <td>1</td>\n",
       "      <td>0</td>\n",
       "      <td>1474</td>\n",
       "    </tr>\n",
       "    <tr>\n",
       "      <th>...</th>\n",
       "      <td>...</td>\n",
       "      <td>...</td>\n",
       "      <td>...</td>\n",
       "      <td>...</td>\n",
       "      <td>...</td>\n",
       "      <td>...</td>\n",
       "      <td>...</td>\n",
       "      <td>...</td>\n",
       "      <td>...</td>\n",
       "      <td>...</td>\n",
       "      <td>...</td>\n",
       "    </tr>\n",
       "    <tr>\n",
       "      <th>184</th>\n",
       "      <td>222</td>\n",
       "      <td>0</td>\n",
       "      <td>31</td>\n",
       "      <td>120</td>\n",
       "      <td>Blanca</td>\n",
       "      <td>Madre No fumadora</td>\n",
       "      <td>0</td>\n",
       "      <td>0</td>\n",
       "      <td>0</td>\n",
       "      <td>2</td>\n",
       "      <td>4167</td>\n",
       "    </tr>\n",
       "    <tr>\n",
       "      <th>185</th>\n",
       "      <td>223</td>\n",
       "      <td>0</td>\n",
       "      <td>35</td>\n",
       "      <td>170</td>\n",
       "      <td>Blanca</td>\n",
       "      <td>Madre No fumadora</td>\n",
       "      <td>1</td>\n",
       "      <td>0</td>\n",
       "      <td>0</td>\n",
       "      <td>1</td>\n",
       "      <td>4174</td>\n",
       "    </tr>\n",
       "    <tr>\n",
       "      <th>186</th>\n",
       "      <td>224</td>\n",
       "      <td>0</td>\n",
       "      <td>19</td>\n",
       "      <td>120</td>\n",
       "      <td>Blanca</td>\n",
       "      <td>Madre fumadora</td>\n",
       "      <td>0</td>\n",
       "      <td>0</td>\n",
       "      <td>0</td>\n",
       "      <td>0</td>\n",
       "      <td>4238</td>\n",
       "    </tr>\n",
       "    <tr>\n",
       "      <th>187</th>\n",
       "      <td>225</td>\n",
       "      <td>0</td>\n",
       "      <td>24</td>\n",
       "      <td>116</td>\n",
       "      <td>Blanca</td>\n",
       "      <td>Madre No fumadora</td>\n",
       "      <td>0</td>\n",
       "      <td>0</td>\n",
       "      <td>0</td>\n",
       "      <td>1</td>\n",
       "      <td>4593</td>\n",
       "    </tr>\n",
       "    <tr>\n",
       "      <th>188</th>\n",
       "      <td>226</td>\n",
       "      <td>0</td>\n",
       "      <td>45</td>\n",
       "      <td>123</td>\n",
       "      <td>Blanca</td>\n",
       "      <td>Madre No fumadora</td>\n",
       "      <td>0</td>\n",
       "      <td>0</td>\n",
       "      <td>0</td>\n",
       "      <td>1</td>\n",
       "      <td>4990</td>\n",
       "    </tr>\n",
       "  </tbody>\n",
       "</table>\n",
       "<p>189 rows × 11 columns</p>\n",
       "</div>"
      ],
      "text/plain": [
       "      id  low  age  lwt    race              smoke  ptl  ht  ui  ftv   bwt\n",
       "0      4    1   28  120   Otras     Madre fumadora    1   0   1    0   709\n",
       "1     10    1   29  130  Blanca  Madre No fumadora    0   0   1    2  1021\n",
       "2     11    1   34  187    Afro     Madre fumadora    0   1   0    0  1135\n",
       "3     13    1   25  105   Otras  Madre No fumadora    1   1   0    0  1330\n",
       "4     15    1   25   85   Otras  Madre No fumadora    0   0   1    0  1474\n",
       "..   ...  ...  ...  ...     ...                ...  ...  ..  ..  ...   ...\n",
       "184  222    0   31  120  Blanca  Madre No fumadora    0   0   0    2  4167\n",
       "185  223    0   35  170  Blanca  Madre No fumadora    1   0   0    1  4174\n",
       "186  224    0   19  120  Blanca     Madre fumadora    0   0   0    0  4238\n",
       "187  225    0   24  116  Blanca  Madre No fumadora    0   0   0    1  4593\n",
       "188  226    0   45  123  Blanca  Madre No fumadora    0   0   0    1  4990\n",
       "\n",
       "[189 rows x 11 columns]"
      ]
     },
     "execution_count": 14,
     "metadata": {},
     "output_type": "execute_result"
    }
   ],
   "source": [
    "## Reemplazo códigos por nombres de categorías\n",
    "data[\"race\"]=data[\"race\"].replace(1, \"Blanca\")\n",
    "data[\"race\"]=data[\"race\"].replace(2, \"Afro\")\n",
    "data[\"race\"]=data[\"race\"].replace(3, \"Otras\")\n",
    "data"
   ]
  },
  {
   "cell_type": "code",
   "execution_count": 15,
   "id": "270ff8b3",
   "metadata": {},
   "outputs": [
    {
     "data": {
      "image/png": "[encoded data removed]",
      "text/plain": [
       "<Figure size 720x360 with 1 Axes>"
      ]
     },
     "metadata": {
      "needs_background": "light"
     },
     "output_type": "display_data"
    }
   ],
   "source": [
    "fig_boxplot = plt.figure(figsize=(10,5)) \n",
    "ax = fig_boxplot.add_axes([0,0,1,1])\n",
    "\n",
    "resumen=data.groupby(by=[\"race\"])[\"bwt\"].describe()\n",
    "\n",
    "ax=sns.boxplot(x=data[\"race\"], y=data[\"bwt\"],order=resumen.sort_values(by='50%', ascending=False).index)\n",
    "plt.ylabel('Peso del recién nacido (gr)')   \n",
    "plt.xlabel('')           \n",
    "plt.show() "
   ]
  },
  {
   "cell_type": "markdown",
   "id": "602c5b93",
   "metadata": {},
   "source": [
    "Analizando la gráfica podríamos comentar que pareciera que los recién nacidos de madres de raza blanca tienen en promedio un mayor peso que los de otras razas."
   ]
  },
  {
   "cell_type": "markdown",
   "id": "74310edb",
   "metadata": {},
   "source": [
    "## Validación de los supuestos"
   ]
  },
  {
   "cell_type": "code",
   "execution_count": 16,
   "id": "622e9ec2",
   "metadata": {},
   "outputs": [
    {
     "name": "stdout",
     "output_type": "stream",
     "text": [
      "Población: Raza Blanca\n",
      "Estadístico SW= 0.9872750043869019, Valor-p= 0.48643404245376587\n",
      "Población: Raza Afro\n",
      "Estadístico SW= 0.9769612550735474, Valor-p= 0.803802490234375\n",
      "Población: Otras razas\n",
      "Estadístico SW= 0.975471556186676, Valor-p= 0.20706778764724731\n"
     ]
    }
   ],
   "source": [
    "# Normalidad\n",
    "print(\"Población: Raza Blanca\")\n",
    "Estad,vp = shapiro(data[data[\"race\"]==\"Blanca\"][\"bwt\"])\n",
    "print(f'Estadístico SW= {Estad}, Valor-p= {vp}')\n",
    "print(\"Población: Raza Afro\")\n",
    "Estad,vp = shapiro(data[data[\"race\"]==\"Afro\"][\"bwt\"])\n",
    "print(f'Estadístico SW= {Estad}, Valor-p= {vp}')\n",
    "print(\"Población: Otras razas\")\n",
    "Estad,vp = shapiro(data[data[\"race\"]==\"Otras\"][\"bwt\"])\n",
    "print(f'Estadístico SW= {Estad}, Valor-p= {vp}')"
   ]
  },
  {
   "cell_type": "code",
   "execution_count": 17,
   "id": "d7e8930d",
   "metadata": {},
   "outputs": [
    {
     "name": "stdout",
     "output_type": "stream",
     "text": [
      "Estadístico W= 0.43682024875871084, Valor-p= 0.6467486280402357\n"
     ]
    }
   ],
   "source": [
    "# Homogeneidad de varianzas\n",
    "Estad,vp=levene(data[data[\"race\"]==\"Blanca\"][\"bwt\"],\n",
    "               data[data[\"race\"]==\"Afro\"][\"bwt\"],\n",
    "               data[data[\"race\"]==\"Otras\"][\"bwt\"],\n",
    "               center='mean')\n",
    "print(f'Estadístico W= {Estad}, Valor-p= {vp}')"
   ]
  },
  {
   "cell_type": "markdown",
   "id": "c25d711d",
   "metadata": {},
   "source": [
    "## Prueba ANOVA"
   ]
  },
  {
   "cell_type": "markdown",
   "id": "e6a7b494",
   "metadata": {},
   "source": [
    "Se cumplen ambos supuestos. Por tanto, podemos hacer la prueba ANOVA. Recordemos las hipótesis:\n",
    "- Ho: la media en todas las poblaciones es igual\n",
    "- Ha: la media de al menos una población es diferente\n"
   ]
  },
  {
   "cell_type": "code",
   "execution_count": 18,
   "id": "c445d0a8",
   "metadata": {},
   "outputs": [
    {
     "name": "stdout",
     "output_type": "stream",
     "text": [
      "Estadístico F= 4.9718944104484235, Valor-p= 0.007879055861064493\n"
     ]
    }
   ],
   "source": [
    "# Prueba ANOVA (libreria stats)\n",
    "Estad,vp=f_oneway(data[data[\"race\"]==\"Blanca\"][\"bwt\"],\n",
    "               data[data[\"race\"]==\"Afro\"][\"bwt\"],\n",
    "               data[data[\"race\"]==\"Otras\"][\"bwt\"])\n",
    "print(f'Estadístico F= {Estad}, Valor-p= {vp}')"
   ]
  },
  {
   "cell_type": "code",
   "execution_count": 19,
   "id": "cad8274a",
   "metadata": {},
   "outputs": [
    {
     "data": {
      "text/html": [
       "<div>\n",
       "<style scoped>\n",
       "    .dataframe tbody tr th:only-of-type {\n",
       "        vertical-align: middle;\n",
       "    }\n",
       "\n",
       "    .dataframe tbody tr th {\n",
       "        vertical-align: top;\n",
       "    }\n",
       "\n",
       "    .dataframe thead th {\n",
       "        text-align: right;\n",
       "    }\n",
       "</style>\n",
       "<table border=\"1\" class=\"dataframe\">\n",
       "  <thead>\n",
       "    <tr style=\"text-align: right;\">\n",
       "      <th></th>\n",
       "      <th>Source</th>\n",
       "      <th>SS</th>\n",
       "      <th>DF</th>\n",
       "      <th>MS</th>\n",
       "      <th>F</th>\n",
       "      <th>p-unc</th>\n",
       "      <th>np2</th>\n",
       "    </tr>\n",
       "  </thead>\n",
       "  <tbody>\n",
       "    <tr>\n",
       "      <th>0</th>\n",
       "      <td>race</td>\n",
       "      <td>5.070608e+06</td>\n",
       "      <td>2</td>\n",
       "      <td>2.535304e+06</td>\n",
       "      <td>4.971894</td>\n",
       "      <td>0.007879</td>\n",
       "      <td>0.050748</td>\n",
       "    </tr>\n",
       "    <tr>\n",
       "      <th>1</th>\n",
       "      <td>Within</td>\n",
       "      <td>9.484645e+07</td>\n",
       "      <td>186</td>\n",
       "      <td>5.099271e+05</td>\n",
       "      <td>NaN</td>\n",
       "      <td>NaN</td>\n",
       "      <td>NaN</td>\n",
       "    </tr>\n",
       "  </tbody>\n",
       "</table>\n",
       "</div>"
      ],
      "text/plain": [
       "   Source            SS   DF            MS         F     p-unc       np2\n",
       "0    race  5.070608e+06    2  2.535304e+06  4.971894  0.007879  0.050748\n",
       "1  Within  9.484645e+07  186  5.099271e+05       NaN       NaN       NaN"
      ]
     },
     "execution_count": 19,
     "metadata": {},
     "output_type": "execute_result"
    }
   ],
   "source": [
    "# Prueba ANOVA (con la libreria pingouin)\n",
    "aov = pg.anova(dv='bwt', between='race', data=data,detailed=True)\n",
    "aov"
   ]
  },
  {
   "cell_type": "markdown",
   "id": "03b1fe6e",
   "metadata": {},
   "source": [
    "Conclusión: Rechazo la hipótesis nula, por tanto con un 95% de confianza (incluso con un 99%) podemos afirmar que al menos una de las medias es diferente. Pero entonces, ¿cuáles son diferentes?"
   ]
  },
  {
   "cell_type": "code",
   "execution_count": 20,
   "id": "dbad8016",
   "metadata": {},
   "outputs": [
    {
     "data": {
      "text/html": [
       "<div>\n",
       "<style scoped>\n",
       "    .dataframe tbody tr th:only-of-type {\n",
       "        vertical-align: middle;\n",
       "    }\n",
       "\n",
       "    .dataframe tbody tr th {\n",
       "        vertical-align: top;\n",
       "    }\n",
       "\n",
       "    .dataframe thead th {\n",
       "        text-align: right;\n",
       "    }\n",
       "</style>\n",
       "<table border=\"1\" class=\"dataframe\">\n",
       "  <thead>\n",
       "    <tr style=\"text-align: right;\">\n",
       "      <th></th>\n",
       "      <th>A</th>\n",
       "      <th>B</th>\n",
       "      <th>mean(A)</th>\n",
       "      <th>mean(B)</th>\n",
       "      <th>diff</th>\n",
       "      <th>se</th>\n",
       "      <th>T</th>\n",
       "      <th>p-tukey</th>\n",
       "      <th>hedges</th>\n",
       "    </tr>\n",
       "  </thead>\n",
       "  <tbody>\n",
       "    <tr>\n",
       "      <th>0</th>\n",
       "      <td>Afro</td>\n",
       "      <td>Blanca</td>\n",
       "      <td>2719.692308</td>\n",
       "      <td>3103.739583</td>\n",
       "      <td>-384.047276</td>\n",
       "      <td>157.874389</td>\n",
       "      <td>-2.432613</td>\n",
       "      <td>0.041962</td>\n",
       "      <td>-0.537452</td>\n",
       "    </tr>\n",
       "    <tr>\n",
       "      <th>1</th>\n",
       "      <td>Afro</td>\n",
       "      <td>Otras</td>\n",
       "      <td>2719.692308</td>\n",
       "      <td>2804.014925</td>\n",
       "      <td>-84.322618</td>\n",
       "      <td>164.995255</td>\n",
       "      <td>-0.511061</td>\n",
       "      <td>0.866055</td>\n",
       "      <td>-0.119538</td>\n",
       "    </tr>\n",
       "    <tr>\n",
       "      <th>2</th>\n",
       "      <td>Blanca</td>\n",
       "      <td>Otras</td>\n",
       "      <td>3103.739583</td>\n",
       "      <td>2804.014925</td>\n",
       "      <td>299.724658</td>\n",
       "      <td>113.677586</td>\n",
       "      <td>2.636621</td>\n",
       "      <td>0.024529</td>\n",
       "      <td>0.411429</td>\n",
       "    </tr>\n",
       "  </tbody>\n",
       "</table>\n",
       "</div>"
      ],
      "text/plain": [
       "        A       B      mean(A)      mean(B)        diff          se         T  \\\n",
       "0    Afro  Blanca  2719.692308  3103.739583 -384.047276  157.874389 -2.432613   \n",
       "1    Afro   Otras  2719.692308  2804.014925  -84.322618  164.995255 -0.511061   \n",
       "2  Blanca   Otras  3103.739583  2804.014925  299.724658  113.677586  2.636621   \n",
       "\n",
       "    p-tukey    hedges  \n",
       "0  0.041962 -0.537452  \n",
       "1  0.866055 -0.119538  \n",
       "2  0.024529  0.411429  "
      ]
     },
     "execution_count": 20,
     "metadata": {},
     "output_type": "execute_result"
    }
   ],
   "source": [
    "# Prueba HSD Tukey\n",
    "pg.pairwise_tukey(data=data, dv='bwt', between='race')"
   ]
  },
  {
   "cell_type": "markdown",
   "id": "f4ddb5a5",
   "metadata": {},
   "source": [
    "Conclusión: Con un 95% podemos afirmar que existe diferencia en el peso del recien nacido entre raza Blanca y Afro y Blanca y Otras, pero no entre raza Afro y Otras."
   ]
  },
  {
   "cell_type": "markdown",
   "id": "6e08da97",
   "metadata": {},
   "source": [
    "Supongamos que hay normalidad, pero no se cumple el supuesto de homogeneidad de varianzas. Entonces se realiza la **prueba ANOVA de Welch**:"
   ]
  },
  {
   "cell_type": "code",
   "execution_count": 21,
   "id": "6cc2ab24",
   "metadata": {},
   "outputs": [
    {
     "data": {
      "text/html": [
       "<div>\n",
       "<style scoped>\n",
       "    .dataframe tbody tr th:only-of-type {\n",
       "        vertical-align: middle;\n",
       "    }\n",
       "\n",
       "    .dataframe tbody tr th {\n",
       "        vertical-align: top;\n",
       "    }\n",
       "\n",
       "    .dataframe thead th {\n",
       "        text-align: right;\n",
       "    }\n",
       "</style>\n",
       "<table border=\"1\" class=\"dataframe\">\n",
       "  <thead>\n",
       "    <tr style=\"text-align: right;\">\n",
       "      <th></th>\n",
       "      <th>Source</th>\n",
       "      <th>ddof1</th>\n",
       "      <th>ddof2</th>\n",
       "      <th>F</th>\n",
       "      <th>p-unc</th>\n",
       "      <th>np2</th>\n",
       "    </tr>\n",
       "  </thead>\n",
       "  <tbody>\n",
       "    <tr>\n",
       "      <th>0</th>\n",
       "      <td>race</td>\n",
       "      <td>2</td>\n",
       "      <td>72.417035</td>\n",
       "      <td>5.11573</td>\n",
       "      <td>0.008353</td>\n",
       "      <td>0.050748</td>\n",
       "    </tr>\n",
       "  </tbody>\n",
       "</table>\n",
       "</div>"
      ],
      "text/plain": [
       "  Source  ddof1      ddof2        F     p-unc       np2\n",
       "0   race      2  72.417035  5.11573  0.008353  0.050748"
      ]
     },
     "execution_count": 21,
     "metadata": {},
     "output_type": "execute_result"
    }
   ],
   "source": [
    "# Prueba ANOVA de Welch\n",
    "aov = pg.welch_anova(dv='bwt', between='race',data=data)\n",
    "aov"
   ]
  },
  {
   "cell_type": "code",
   "execution_count": 22,
   "id": "8dced0d8",
   "metadata": {},
   "outputs": [
    {
     "data": {
      "text/html": [
       "<div>\n",
       "<style scoped>\n",
       "    .dataframe tbody tr th:only-of-type {\n",
       "        vertical-align: middle;\n",
       "    }\n",
       "\n",
       "    .dataframe tbody tr th {\n",
       "        vertical-align: top;\n",
       "    }\n",
       "\n",
       "    .dataframe thead th {\n",
       "        text-align: right;\n",
       "    }\n",
       "</style>\n",
       "<table border=\"1\" class=\"dataframe\">\n",
       "  <thead>\n",
       "    <tr style=\"text-align: right;\">\n",
       "      <th></th>\n",
       "      <th>A</th>\n",
       "      <th>B</th>\n",
       "      <th>mean(A)</th>\n",
       "      <th>mean(B)</th>\n",
       "      <th>diff</th>\n",
       "      <th>se</th>\n",
       "      <th>T</th>\n",
       "      <th>df</th>\n",
       "      <th>pval</th>\n",
       "      <th>hedges</th>\n",
       "    </tr>\n",
       "  </thead>\n",
       "  <tbody>\n",
       "    <tr>\n",
       "      <th>0</th>\n",
       "      <td>Afro</td>\n",
       "      <td>Blanca</td>\n",
       "      <td>2719.692308</td>\n",
       "      <td>3103.739583</td>\n",
       "      <td>-384.047276</td>\n",
       "      <td>145.621442</td>\n",
       "      <td>-2.637299</td>\n",
       "      <td>44.232310</td>\n",
       "      <td>0.030291</td>\n",
       "      <td>-0.537452</td>\n",
       "    </tr>\n",
       "    <tr>\n",
       "      <th>1</th>\n",
       "      <td>Afro</td>\n",
       "      <td>Otras</td>\n",
       "      <td>2719.692308</td>\n",
       "      <td>2804.014925</td>\n",
       "      <td>-84.322618</td>\n",
       "      <td>153.148369</td>\n",
       "      <td>-0.550594</td>\n",
       "      <td>51.127485</td>\n",
       "      <td>0.846636</td>\n",
       "      <td>-0.119538</td>\n",
       "    </tr>\n",
       "    <tr>\n",
       "      <th>2</th>\n",
       "      <td>Blanca</td>\n",
       "      <td>Otras</td>\n",
       "      <td>3103.739583</td>\n",
       "      <td>2804.014925</td>\n",
       "      <td>299.724658</td>\n",
       "      <td>115.246644</td>\n",
       "      <td>2.600724</td>\n",
       "      <td>142.958234</td>\n",
       "      <td>0.027590</td>\n",
       "      <td>0.411429</td>\n",
       "    </tr>\n",
       "  </tbody>\n",
       "</table>\n",
       "</div>"
      ],
      "text/plain": [
       "        A       B      mean(A)      mean(B)        diff          se         T  \\\n",
       "0    Afro  Blanca  2719.692308  3103.739583 -384.047276  145.621442 -2.637299   \n",
       "1    Afro   Otras  2719.692308  2804.014925  -84.322618  153.148369 -0.550594   \n",
       "2  Blanca   Otras  3103.739583  2804.014925  299.724658  115.246644  2.600724   \n",
       "\n",
       "           df      pval    hedges  \n",
       "0   44.232310  0.030291 -0.537452  \n",
       "1   51.127485  0.846636 -0.119538  \n",
       "2  142.958234  0.027590  0.411429  "
      ]
     },
     "execution_count": 22,
     "metadata": {},
     "output_type": "execute_result"
    }
   ],
   "source": [
    "# ¿Cuáles son diferentes?\n",
    "pg.pairwise_gameshowell(data=data, dv='bwt',between='race')"
   ]
  },
  {
   "cell_type": "markdown",
   "id": "b50dfd82",
   "metadata": {},
   "source": [
    "Ahora supongamos que no hay normalidad y por tanto debemos realizar la prueba no paramétrica de **Kruskal-Wallis**:"
   ]
  },
  {
   "cell_type": "code",
   "execution_count": 23,
   "id": "a01e66db",
   "metadata": {},
   "outputs": [
    {
     "data": {
      "text/html": [
       "<div>\n",
       "<style scoped>\n",
       "    .dataframe tbody tr th:only-of-type {\n",
       "        vertical-align: middle;\n",
       "    }\n",
       "\n",
       "    .dataframe tbody tr th {\n",
       "        vertical-align: top;\n",
       "    }\n",
       "\n",
       "    .dataframe thead th {\n",
       "        text-align: right;\n",
       "    }\n",
       "</style>\n",
       "<table border=\"1\" class=\"dataframe\">\n",
       "  <thead>\n",
       "    <tr style=\"text-align: right;\">\n",
       "      <th></th>\n",
       "      <th>Source</th>\n",
       "      <th>ddof1</th>\n",
       "      <th>H</th>\n",
       "      <th>p-unc</th>\n",
       "    </tr>\n",
       "  </thead>\n",
       "  <tbody>\n",
       "    <tr>\n",
       "      <th>Kruskal</th>\n",
       "      <td>race</td>\n",
       "      <td>2</td>\n",
       "      <td>8.590907</td>\n",
       "      <td>0.01363</td>\n",
       "    </tr>\n",
       "  </tbody>\n",
       "</table>\n",
       "</div>"
      ],
      "text/plain": [
       "        Source  ddof1         H    p-unc\n",
       "Kruskal   race      2  8.590907  0.01363"
      ]
     },
     "execution_count": 23,
     "metadata": {},
     "output_type": "execute_result"
    }
   ],
   "source": [
    "# Prueba Kruskal-Wallis\n",
    "pg.kruskal(data=data, dv='bwt', between='race')"
   ]
  },
  {
   "cell_type": "code",
   "execution_count": 24,
   "id": "c5ed36d5",
   "metadata": {},
   "outputs": [
    {
     "data": {
      "text/html": [
       "<div>\n",
       "<style scoped>\n",
       "    .dataframe tbody tr th:only-of-type {\n",
       "        vertical-align: middle;\n",
       "    }\n",
       "\n",
       "    .dataframe tbody tr th {\n",
       "        vertical-align: top;\n",
       "    }\n",
       "\n",
       "    .dataframe thead th {\n",
       "        text-align: right;\n",
       "    }\n",
       "</style>\n",
       "<table border=\"1\" class=\"dataframe\">\n",
       "  <thead>\n",
       "    <tr style=\"text-align: right;\">\n",
       "      <th></th>\n",
       "      <th>Contrast</th>\n",
       "      <th>A</th>\n",
       "      <th>B</th>\n",
       "      <th>Paired</th>\n",
       "      <th>Parametric</th>\n",
       "      <th>U-val</th>\n",
       "      <th>alternative</th>\n",
       "      <th>p-unc</th>\n",
       "      <th>hedges</th>\n",
       "    </tr>\n",
       "  </thead>\n",
       "  <tbody>\n",
       "    <tr>\n",
       "      <th>0</th>\n",
       "      <td>race</td>\n",
       "      <td>Afro</td>\n",
       "      <td>Blanca</td>\n",
       "      <td>False</td>\n",
       "      <td>False</td>\n",
       "      <td>861.0</td>\n",
       "      <td>two-sided</td>\n",
       "      <td>0.015666</td>\n",
       "      <td>-0.537452</td>\n",
       "    </tr>\n",
       "    <tr>\n",
       "      <th>1</th>\n",
       "      <td>race</td>\n",
       "      <td>Afro</td>\n",
       "      <td>Otras</td>\n",
       "      <td>False</td>\n",
       "      <td>False</td>\n",
       "      <td>800.0</td>\n",
       "      <td>two-sided</td>\n",
       "      <td>0.546122</td>\n",
       "      <td>-0.119538</td>\n",
       "    </tr>\n",
       "    <tr>\n",
       "      <th>2</th>\n",
       "      <td>race</td>\n",
       "      <td>Blanca</td>\n",
       "      <td>Otras</td>\n",
       "      <td>False</td>\n",
       "      <td>False</td>\n",
       "      <td>3902.0</td>\n",
       "      <td>two-sided</td>\n",
       "      <td>0.020768</td>\n",
       "      <td>0.411429</td>\n",
       "    </tr>\n",
       "  </tbody>\n",
       "</table>\n",
       "</div>"
      ],
      "text/plain": [
       "  Contrast       A       B  Paired  Parametric   U-val alternative     p-unc  \\\n",
       "0     race    Afro  Blanca   False       False   861.0   two-sided  0.015666   \n",
       "1     race    Afro   Otras   False       False   800.0   two-sided  0.546122   \n",
       "2     race  Blanca   Otras   False       False  3902.0   two-sided  0.020768   \n",
       "\n",
       "     hedges  \n",
       "0 -0.537452  \n",
       "1 -0.119538  \n",
       "2  0.411429  "
      ]
     },
     "execution_count": 24,
     "metadata": {},
     "output_type": "execute_result"
    }
   ],
   "source": [
    "# Prueba de Wilcoxon para comparación por parejas\n",
    "pg.pairwise_tests(dv='bwt', between='race', data=data, parametric=False)"
   ]
  },
  {
   "cell_type": "markdown",
   "id": "782ab215",
   "metadata": {},
   "source": [
    "# Relación entre dos cualitativas"
   ]
  },
  {
   "cell_type": "markdown",
   "id": "e55ce953",
   "metadata": {},
   "source": [
    "Supongamos ahora que en vez de usar la variable cuantitativa peso, usamos la variable cualitativa bajo peso. Analicemos entonces si existe relación entre bajo peso y madres fumadoras/no fumadoras."
   ]
  },
  {
   "cell_type": "code",
   "execution_count": 25,
   "id": "4fd9e61e",
   "metadata": {},
   "outputs": [],
   "source": [
    "## Reemplazo códigos por nombres de categorías\n",
    "data[\"low\"]=data[\"low\"].replace(1, \"Bajo Peso\")\n",
    "data[\"low\"]=data[\"low\"].replace(0, \"Normal\")"
   ]
  },
  {
   "cell_type": "code",
   "execution_count": 26,
   "id": "603b9599",
   "metadata": {},
   "outputs": [
    {
     "data": {
      "text/html": [
       "<div>\n",
       "<style scoped>\n",
       "    .dataframe tbody tr th:only-of-type {\n",
       "        vertical-align: middle;\n",
       "    }\n",
       "\n",
       "    .dataframe tbody tr th {\n",
       "        vertical-align: top;\n",
       "    }\n",
       "\n",
       "    .dataframe thead th {\n",
       "        text-align: right;\n",
       "    }\n",
       "</style>\n",
       "<table border=\"1\" class=\"dataframe\">\n",
       "  <thead>\n",
       "    <tr style=\"text-align: right;\">\n",
       "      <th>low</th>\n",
       "      <th>smoke</th>\n",
       "      <th>Bajo Peso</th>\n",
       "      <th>Normal</th>\n",
       "    </tr>\n",
       "  </thead>\n",
       "  <tbody>\n",
       "    <tr>\n",
       "      <th>0</th>\n",
       "      <td>Madre No fumadora</td>\n",
       "      <td>0.252174</td>\n",
       "      <td>0.747826</td>\n",
       "    </tr>\n",
       "    <tr>\n",
       "      <th>1</th>\n",
       "      <td>Madre fumadora</td>\n",
       "      <td>0.405405</td>\n",
       "      <td>0.594595</td>\n",
       "    </tr>\n",
       "  </tbody>\n",
       "</table>\n",
       "</div>"
      ],
      "text/plain": [
       "low              smoke  Bajo Peso    Normal\n",
       "0    Madre No fumadora   0.252174  0.747826\n",
       "1       Madre fumadora   0.405405  0.594595"
      ]
     },
     "execution_count": 26,
     "metadata": {},
     "output_type": "execute_result"
    }
   ],
   "source": [
    "tabla_frec=pd.crosstab(index=data[\"smoke\"],columns=data[\"low\"],normalize=\"index\").reset_index()\n",
    "tabla_frec"
   ]
  },
  {
   "cell_type": "code",
   "execution_count": 27,
   "id": "705b125e",
   "metadata": {},
   "outputs": [
    {
     "data": {
      "image/png": "[encoded data removed]",
      "text/plain": [
       "<Figure size 432x288 with 1 Axes>"
      ]
     },
     "metadata": {
      "needs_background": "light"
     },
     "output_type": "display_data"
    }
   ],
   "source": [
    "fig_sns = plt.figure() \n",
    "ax = fig_sns.add_axes([0,0,1,1])\n",
    "ax=sns.barplot(x=tabla_frec[\"smoke\"],y=tabla_frec[\"Bajo Peso\"]*100,order=tabla_frec.sort_values(by='Normal')[\"smoke\"]) \n",
    "ax.bar_label(ax.containers[0], label_type='edge',fmt='%.2f%%', padding=5)   \n",
    "ax.set(ylim=(0, 60))\n",
    "plt.ylabel('Frec.Rel.')  \n",
    "plt.xlabel('')         \n",
    "plt.show()"
   ]
  },
  {
   "cell_type": "markdown",
   "id": "07350fc2",
   "metadata": {},
   "source": [
    "Analizando la gráfica, podríamos comentar que recien nacidos con bajo peso es más frecuente en bebés de madres fumadoras que de no fumadoras."
   ]
  },
  {
   "cell_type": "markdown",
   "id": "fb270aa9",
   "metadata": {},
   "source": [
    "## Prueba de Chi Cuadrado de independencia"
   ]
  },
  {
   "cell_type": "markdown",
   "id": "9bd6596a",
   "metadata": {},
   "source": [
    "Recordemos las hipótesis:\n",
    "\n",
    "- Ho: No existe relación entre las variables\n",
    "- Ha: Existe relación entre las variables"
   ]
  },
  {
   "cell_type": "code",
   "execution_count": 28,
   "id": "05b97730",
   "metadata": {},
   "outputs": [
    {
     "name": "stdout",
     "output_type": "stream",
     "text": [
      "Estadístico X^2= 4.235928545602458, Valor-p= 0.03957696932523245\n"
     ]
    }
   ],
   "source": [
    "tabla_frec_abs=pd.crosstab(index=data[\"smoke\"],columns=data[\"low\"])\n",
    "Estad,vp,gl,frec_esp=chi2_contingency(tabla_frec_abs)\n",
    "print(f'Estadístico X^2= {Estad}, Valor-p= {vp}')"
   ]
  },
  {
   "cell_type": "markdown",
   "id": "ee6c79d6",
   "metadata": {},
   "source": [
    "Conclusión: Rechazo la hipótesis nula, por tanto podríamos afirmar con un 95% de confianza que existe relación entre el bajo peso y si la madre es fumadora o no."
   ]
  },
  {
   "cell_type": "markdown",
   "id": "9beb7a60",
   "metadata": {},
   "source": [
    "# Relación entre dos cuantitativas"
   ]
  },
  {
   "cell_type": "markdown",
   "id": "5e2995b7",
   "metadata": {},
   "source": [
    "Se desea saber si existe relación entre el peso del recién nacido y el peso de la madre. Exploremos la posible relación graficamente:"
   ]
  },
  {
   "cell_type": "code",
   "execution_count": 29,
   "id": "799e2200",
   "metadata": {},
   "outputs": [
    {
     "data": {
      "image/png": "[encoded data removed]",
      "text/plain": [
       "<Figure size 432x288 with 1 Axes>"
      ]
     },
     "metadata": {
      "needs_background": "light"
     },
     "output_type": "display_data"
    }
   ],
   "source": [
    "# DIagrama de dispersión\n",
    "fig_sns = plt.figure() \n",
    "ax = fig_sns.add_axes([0,0,1,1])\n",
    "ax=sns.scatterplot(x=data[\"lwt\"],y=data[\"bwt\"])   \n",
    "plt.ylabel('Peso del recién nacido')  \n",
    "plt.xlabel('Peso de la madre')         \n",
    "plt.show()"
   ]
  },
  {
   "cell_type": "code",
   "execution_count": 30,
   "id": "36e87028",
   "metadata": {},
   "outputs": [
    {
     "data": {
      "image/png": "[encoded data removed]",
      "text/plain": [
       "<Figure size 432x288 with 1 Axes>"
      ]
     },
     "metadata": {
      "needs_background": "light"
     },
     "output_type": "display_data"
    }
   ],
   "source": [
    "# Diagrama de dispersión con línea de tendencia\n",
    "fig_sns = plt.figure() \n",
    "ax = fig_sns.add_axes([0,0,1,1])\n",
    "ax=sns.regplot(x=data[\"lwt\"],y=data[\"bwt\"],ci=None)   \n",
    "plt.ylabel('Peso del recién nacido')  \n",
    "plt.xlabel('Peso de la madre')         \n",
    "plt.show()"
   ]
  },
  {
   "cell_type": "markdown",
   "id": "6cc20a4e",
   "metadata": {},
   "source": [
    "Graficamente pareciera que no hay una relación fuerte entre las variables. Veamos que dice el coeficiente de Pearson y su significancia estadística:"
   ]
  },
  {
   "cell_type": "code",
   "execution_count": 31,
   "id": "609eb50e",
   "metadata": {},
   "outputs": [
    {
     "name": "stdout",
     "output_type": "stream",
     "text": [
      "Coeficiente de correlación= 0.18578870880181358, Valor-p= 0.010480719288093457\n"
     ]
    }
   ],
   "source": [
    "Coef,vp=pearsonr(data[\"lwt\"],data[\"bwt\"])\n",
    "print(f'Coeficiente de correlación= {Coef}, Valor-p= {vp}')"
   ]
  },
  {
   "cell_type": "markdown",
   "id": "5126d47d",
   "metadata": {},
   "source": [
    "Recordemos las hipótesis de la prueba:\n",
    "- Ho: No hay correlación entre las variables (𝜌=0)\n",
    "- Ha: Existe correlación entre las variables (𝜌≠0)\n",
    "\n",
    "En tal sentido, podemos rechazar la hipótesis nula. Por tanto, con una confianza del 95% podemos afirmar que la correlación entre las variables existe. Sin embargo, siendo una correlación de 0.18, podríamos decir que es débil."
   ]
  }
 ],
 "metadata": {
  "kernelspec": {
   "display_name": "Python 3 (ipykernel)",
   "language": "python",
   "name": "python3"
  },
  "language_info": {
   "codemirror_mode": {
    "name": "ipython",
    "version": 3
   },
   "file_extension": ".py",
   "mimetype": "text/x-python",
   "name": "python",
   "nbconvert_exporter": "python",
   "pygments_lexer": "ipython3",
   "version": "3.9.12"
  }
 },
 "nbformat": 4,
 "nbformat_minor": 5
}
