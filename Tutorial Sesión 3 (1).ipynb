{
 "cells": [
  {
   "cell_type": "markdown",
   "id": "582cd6f1",
   "metadata": {},
   "source": [
    "# Nivelatorio II: Estadística para la Ciencia de Datos"
   ]
  },
  {
   "cell_type": "markdown",
   "id": "0c2d66fd",
   "metadata": {},
   "source": [
    "## Tutorial en Pyhton - Sesión 3"
   ]
  },
  {
   "cell_type": "markdown",
   "id": "98ceacdd",
   "metadata": {},
   "source": [
    "Vamos a explorar cómo Python puede manejar las distribuciones de probabilidad que vimos."
   ]
  },
  {
   "cell_type": "code",
   "execution_count": 152,
   "id": "b1dbc074",
   "metadata": {},
   "outputs": [],
   "source": [
    "import pandas as pd   ## Libreria para manipular y analizar datos\n",
    "import matplotlib.pyplot as plt  ## Libreria para visualizar\n",
    "import seaborn as sns   ## Libreria para visualizar\n",
    "import numpy as np  ## Libreria para operaciones numéricas\n",
    "import plotly  ## Libreria para visualizaciones interactivas\n",
    "import matplotlib.ticker as mtick  ## función para formatear en visualizaciones\n",
    "from scipy.stats import skew, kurtosis  ## funciones estadísticas\n",
    "from scipy.stats import randint ## distribución uniforme discreta\n",
    "from scipy.stats import binom ## distribución binomial\n",
    "from scipy.stats import poisson ## distribución Poisson\n",
    "from scipy.stats import norm ## distribución normal"
   ]
  },
  {
   "cell_type": "markdown",
   "id": "b30e6f4b",
   "metadata": {},
   "source": [
    "## Distribución uniforme discreta"
   ]
  },
  {
   "cell_type": "markdown",
   "id": "60d1618c",
   "metadata": {},
   "source": [
    "Dentro de la librería Scipy se cuenta con algunas funciones relevantes (ver https://docs.scipy.org/doc/scipy/reference/generated/scipy.stats.randint.html#scipy.stats.randint):"
   ]
  },
  {
   "cell_type": "code",
   "execution_count": 153,
   "id": "07ff62ea",
   "metadata": {},
   "outputs": [
    {
     "data": {
      "text/plain": [
       "array([ 5,  4, 10,  1,  6,  2,  3,  4,  1,  5, 10,  5, 10,  1,  3,  5, 10,\n",
       "       10,  7,  2,  8,  5,  9,  5, 10,  1,  3,  4,  4,  3])"
      ]
     },
     "execution_count": 153,
     "metadata": {},
     "output_type": "execute_result"
    }
   ],
   "source": [
    "## Para generar un vector aleatorio que sigue dicha distribución:\n",
    "vector_aleatorio = randint.rvs(low=0,high=10,loc=1,size=30)\n",
    "vector_aleatorio"
   ]
  },
  {
   "cell_type": "code",
   "execution_count": 154,
   "id": "bd0001b4",
   "metadata": {},
   "outputs": [
    {
     "data": {
      "text/plain": [
       "0.1"
      ]
     },
     "execution_count": 154,
     "metadata": {},
     "output_type": "execute_result"
    }
   ],
   "source": [
    "## Para obtener la probabilidad de que x tome algún valor (función de masa de probabilidad):\n",
    "# Aquí estamos obteniendo la probabilidad de que x=1, cuando la distribcuión uniforme va de 1 a 10.\n",
    "randint.pmf(k=1,low=0,high=10,loc=1)"
   ]
  },
  {
   "cell_type": "code",
   "execution_count": 155,
   "id": "aa3bd510",
   "metadata": {},
   "outputs": [
    {
     "data": {
      "text/plain": [
       "0.5"
      ]
     },
     "execution_count": 155,
     "metadata": {},
     "output_type": "execute_result"
    }
   ],
   "source": [
    "# Aquí estamos obteniendo la probabilidad acumulada hasta x=5, cuando la distribcuión uniforme va de 1 a 10 (función \n",
    "# acumulada de probabilidad)\n",
    "randint.cdf(k=5,low=0,high=10,loc=1)"
   ]
  },
  {
   "cell_type": "code",
   "execution_count": 156,
   "id": "f58ec149",
   "metadata": {},
   "outputs": [
    {
     "data": {
      "text/plain": [
       "6.0"
      ]
     },
     "execution_count": 156,
     "metadata": {},
     "output_type": "execute_result"
    }
   ],
   "source": [
    "# Aquí estamos obteniendo el valor de x hasta donde se acumula el 60% de la probabilidad, cuando \n",
    "# la distribcuión uniforme va de 1 a 10 (función inversa de probabilidad)\n",
    "randint.ppf(q=0.6,low=0,high=10,loc=1)"
   ]
  },
  {
   "cell_type": "markdown",
   "id": "780019d4",
   "metadata": {},
   "source": [
    "Grafiquemos un conjunto aleatorio de valores que siguen la distribución:"
   ]
  },
  {
   "cell_type": "code",
   "execution_count": 157,
   "id": "a9e3653a",
   "metadata": {},
   "outputs": [
    {
     "data": {
      "text/html": [
       "<div>\n",
       "<style scoped>\n",
       "    .dataframe tbody tr th:only-of-type {\n",
       "        vertical-align: middle;\n",
       "    }\n",
       "\n",
       "    .dataframe tbody tr th {\n",
       "        vertical-align: top;\n",
       "    }\n",
       "\n",
       "    .dataframe thead th {\n",
       "        text-align: right;\n",
       "    }\n",
       "</style>\n",
       "<table border=\"1\" class=\"dataframe\">\n",
       "  <thead>\n",
       "    <tr style=\"text-align: right;\">\n",
       "      <th></th>\n",
       "      <th>Vector</th>\n",
       "    </tr>\n",
       "  </thead>\n",
       "  <tbody>\n",
       "    <tr>\n",
       "      <th>0</th>\n",
       "      <td>8</td>\n",
       "    </tr>\n",
       "    <tr>\n",
       "      <th>1</th>\n",
       "      <td>8</td>\n",
       "    </tr>\n",
       "    <tr>\n",
       "      <th>2</th>\n",
       "      <td>10</td>\n",
       "    </tr>\n",
       "    <tr>\n",
       "      <th>3</th>\n",
       "      <td>2</td>\n",
       "    </tr>\n",
       "    <tr>\n",
       "      <th>4</th>\n",
       "      <td>3</td>\n",
       "    </tr>\n",
       "    <tr>\n",
       "      <th>...</th>\n",
       "      <td>...</td>\n",
       "    </tr>\n",
       "    <tr>\n",
       "      <th>995</th>\n",
       "      <td>4</td>\n",
       "    </tr>\n",
       "    <tr>\n",
       "      <th>996</th>\n",
       "      <td>1</td>\n",
       "    </tr>\n",
       "    <tr>\n",
       "      <th>997</th>\n",
       "      <td>1</td>\n",
       "    </tr>\n",
       "    <tr>\n",
       "      <th>998</th>\n",
       "      <td>7</td>\n",
       "    </tr>\n",
       "    <tr>\n",
       "      <th>999</th>\n",
       "      <td>8</td>\n",
       "    </tr>\n",
       "  </tbody>\n",
       "</table>\n",
       "<p>1000 rows × 1 columns</p>\n",
       "</div>"
      ],
      "text/plain": [
       "     Vector\n",
       "0         8\n",
       "1         8\n",
       "2        10\n",
       "3         2\n",
       "4         3\n",
       "..      ...\n",
       "995       4\n",
       "996       1\n",
       "997       1\n",
       "998       7\n",
       "999       8\n",
       "\n",
       "[1000 rows x 1 columns]"
      ]
     },
     "execution_count": 157,
     "metadata": {},
     "output_type": "execute_result"
    }
   ],
   "source": [
    "## Creo el vector\n",
    "vector_aleatorio = randint.rvs(low=0,high=10,loc=1,size=1000)\n",
    "df = pd.DataFrame(vector_aleatorio, columns = ['Vector'])\n",
    "df"
   ]
  },
  {
   "cell_type": "code",
   "execution_count": 158,
   "id": "69d8adb0",
   "metadata": {},
   "outputs": [
    {
     "data": {
      "text/html": [
       "<div>\n",
       "<style scoped>\n",
       "    .dataframe tbody tr th:only-of-type {\n",
       "        vertical-align: middle;\n",
       "    }\n",
       "\n",
       "    .dataframe tbody tr th {\n",
       "        vertical-align: top;\n",
       "    }\n",
       "\n",
       "    .dataframe thead th {\n",
       "        text-align: right;\n",
       "    }\n",
       "</style>\n",
       "<table border=\"1\" class=\"dataframe\">\n",
       "  <thead>\n",
       "    <tr style=\"text-align: right;\">\n",
       "      <th>col_0</th>\n",
       "      <th>Vector</th>\n",
       "      <th>count</th>\n",
       "      <th>Freq. Rel.</th>\n",
       "    </tr>\n",
       "  </thead>\n",
       "  <tbody>\n",
       "    <tr>\n",
       "      <th>0</th>\n",
       "      <td>1</td>\n",
       "      <td>93</td>\n",
       "      <td>0.093</td>\n",
       "    </tr>\n",
       "    <tr>\n",
       "      <th>1</th>\n",
       "      <td>2</td>\n",
       "      <td>104</td>\n",
       "      <td>0.104</td>\n",
       "    </tr>\n",
       "    <tr>\n",
       "      <th>2</th>\n",
       "      <td>3</td>\n",
       "      <td>108</td>\n",
       "      <td>0.108</td>\n",
       "    </tr>\n",
       "    <tr>\n",
       "      <th>3</th>\n",
       "      <td>4</td>\n",
       "      <td>112</td>\n",
       "      <td>0.112</td>\n",
       "    </tr>\n",
       "    <tr>\n",
       "      <th>4</th>\n",
       "      <td>5</td>\n",
       "      <td>94</td>\n",
       "      <td>0.094</td>\n",
       "    </tr>\n",
       "    <tr>\n",
       "      <th>5</th>\n",
       "      <td>6</td>\n",
       "      <td>110</td>\n",
       "      <td>0.110</td>\n",
       "    </tr>\n",
       "    <tr>\n",
       "      <th>6</th>\n",
       "      <td>7</td>\n",
       "      <td>84</td>\n",
       "      <td>0.084</td>\n",
       "    </tr>\n",
       "    <tr>\n",
       "      <th>7</th>\n",
       "      <td>8</td>\n",
       "      <td>105</td>\n",
       "      <td>0.105</td>\n",
       "    </tr>\n",
       "    <tr>\n",
       "      <th>8</th>\n",
       "      <td>9</td>\n",
       "      <td>94</td>\n",
       "      <td>0.094</td>\n",
       "    </tr>\n",
       "    <tr>\n",
       "      <th>9</th>\n",
       "      <td>10</td>\n",
       "      <td>96</td>\n",
       "      <td>0.096</td>\n",
       "    </tr>\n",
       "  </tbody>\n",
       "</table>\n",
       "</div>"
      ],
      "text/plain": [
       "col_0  Vector  count  Freq. Rel.\n",
       "0           1     93       0.093\n",
       "1           2    104       0.104\n",
       "2           3    108       0.108\n",
       "3           4    112       0.112\n",
       "4           5     94       0.094\n",
       "5           6    110       0.110\n",
       "6           7     84       0.084\n",
       "7           8    105       0.105\n",
       "8           9     94       0.094\n",
       "9          10     96       0.096"
      ]
     },
     "execution_count": 158,
     "metadata": {},
     "output_type": "execute_result"
    }
   ],
   "source": [
    "## Construyo una tabla de frecuencia para revisar cuantas veces se repite cada valor:\n",
    "tabla_freq=(pd.crosstab(index=df[\"Vector\"],columns=\"count\")).reset_index()\n",
    "tabla_freq['Freq. Rel.']=tabla_freq['count']/sum(tabla_freq['count'])\n",
    "tabla_freq"
   ]
  },
  {
   "cell_type": "code",
   "execution_count": 159,
   "id": "86564138",
   "metadata": {},
   "outputs": [
    {
     "data": {
      "image/png": "[encoded data removed]",
      "text/plain": [
       "<Figure size 432x288 with 1 Axes>"
      ]
     },
     "metadata": {
      "needs_background": "light"
     },
     "output_type": "display_data"
    }
   ],
   "source": [
    "## Construyo la gráfica de la distribución:\n",
    "fig_sns = plt.figure() \n",
    "ax = fig_sns.add_axes([0,0,1,1])\n",
    "ax=sns.barplot(x=tabla_freq[\"Vector\"],y=tabla_freq[\"Freq. Rel.\"]*100, color=\"lightskyblue\") \n",
    "ax.bar_label(ax.containers[0], label_type='edge',fmt='%.1f%%',padding=3)  \n",
    "ax.yaxis.set_major_formatter(mtick.PercentFormatter(xmax=100)) \n",
    "ax.set(ylim=(0, 20))\n",
    "plt.show() "
   ]
  },
  {
   "cell_type": "markdown",
   "id": "2097473a",
   "metadata": {},
   "source": [
    "## Distribución Binomial"
   ]
  },
  {
   "cell_type": "markdown",
   "id": "e97aeb0f",
   "metadata": {},
   "source": [
    "Dentro de la librería Scipy se cuenta con algunas funciones relevantes (ver https://docs.scipy.org/doc/scipy/reference/generated/scipy.stats.binom.html#scipy.stats.binom):"
   ]
  },
  {
   "cell_type": "code",
   "execution_count": 160,
   "id": "6f34c208",
   "metadata": {},
   "outputs": [
    {
     "data": {
      "text/plain": [
       "array([ 9,  5,  7,  7,  9,  9,  9,  7,  4,  5,  8,  5,  9,  6,  7,  7, 11,\n",
       "        8,  9,  6,  8,  8,  8, 11,  6,  4,  7,  4,  8, 12])"
      ]
     },
     "execution_count": 160,
     "metadata": {},
     "output_type": "execute_result"
    }
   ],
   "source": [
    "## Para generar un vector aleatorio que sigue dicha distribución:\n",
    "vector_aleatorio = binom.rvs(n=15,p=0.55,size=30)\n",
    "vector_aleatorio"
   ]
  },
  {
   "cell_type": "code",
   "execution_count": 161,
   "id": "86960c2c",
   "metadata": {},
   "outputs": [
    {
     "data": {
      "text/plain": [
       "0.01913908013759701"
      ]
     },
     "execution_count": 161,
     "metadata": {},
     "output_type": "execute_result"
    }
   ],
   "source": [
    "## ¿Cuál es la probabilidad de que 4 sean mujeres en una muestra de 15, donde la proporción de mujeres es 0.55?\n",
    "#Aquí estamos obteniendo la probabilidad de que x=4:\n",
    "binom.pmf(k=4,n=15,p=0.55)"
   ]
  },
  {
   "cell_type": "code",
   "execution_count": 162,
   "id": "3f88b5b8",
   "metadata": {},
   "outputs": [
    {
     "data": {
      "text/plain": [
       "0.00012747949735765552"
      ]
     },
     "execution_count": 162,
     "metadata": {},
     "output_type": "execute_result"
    }
   ],
   "source": [
    "## ¿Cuál es la probabilidad de que todas sean mujeres en una muestra de 15, donde la proporción de mujeres es 0.55?\n",
    "#Aquí estamos obteniendo la probabilidad de que x=15:\n",
    "binom.pmf(k=15,n=15,p=0.55)"
   ]
  },
  {
   "cell_type": "code",
   "execution_count": 163,
   "id": "045072c0",
   "metadata": {},
   "outputs": [
    {
     "data": {
      "text/html": [
       "<div>\n",
       "<style scoped>\n",
       "    .dataframe tbody tr th:only-of-type {\n",
       "        vertical-align: middle;\n",
       "    }\n",
       "\n",
       "    .dataframe tbody tr th {\n",
       "        vertical-align: top;\n",
       "    }\n",
       "\n",
       "    .dataframe thead th {\n",
       "        text-align: right;\n",
       "    }\n",
       "</style>\n",
       "<table border=\"1\" class=\"dataframe\">\n",
       "  <thead>\n",
       "    <tr style=\"text-align: right;\">\n",
       "      <th></th>\n",
       "      <th>Resultado</th>\n",
       "      <th>Probabilidad</th>\n",
       "    </tr>\n",
       "  </thead>\n",
       "  <tbody>\n",
       "    <tr>\n",
       "      <th>0</th>\n",
       "      <td>0</td>\n",
       "      <td>0.000006</td>\n",
       "    </tr>\n",
       "    <tr>\n",
       "      <th>1</th>\n",
       "      <td>1</td>\n",
       "      <td>0.000115</td>\n",
       "    </tr>\n",
       "    <tr>\n",
       "      <th>2</th>\n",
       "      <td>2</td>\n",
       "      <td>0.000986</td>\n",
       "    </tr>\n",
       "    <tr>\n",
       "      <th>3</th>\n",
       "      <td>3</td>\n",
       "      <td>0.005220</td>\n",
       "    </tr>\n",
       "    <tr>\n",
       "      <th>4</th>\n",
       "      <td>4</td>\n",
       "      <td>0.019139</td>\n",
       "    </tr>\n",
       "    <tr>\n",
       "      <th>5</th>\n",
       "      <td>5</td>\n",
       "      <td>0.051463</td>\n",
       "    </tr>\n",
       "    <tr>\n",
       "      <th>6</th>\n",
       "      <td>6</td>\n",
       "      <td>0.104832</td>\n",
       "    </tr>\n",
       "    <tr>\n",
       "      <th>7</th>\n",
       "      <td>7</td>\n",
       "      <td>0.164736</td>\n",
       "    </tr>\n",
       "    <tr>\n",
       "      <th>8</th>\n",
       "      <td>8</td>\n",
       "      <td>0.201344</td>\n",
       "    </tr>\n",
       "    <tr>\n",
       "      <th>9</th>\n",
       "      <td>9</td>\n",
       "      <td>0.191401</td>\n",
       "    </tr>\n",
       "    <tr>\n",
       "      <th>10</th>\n",
       "      <td>10</td>\n",
       "      <td>0.140360</td>\n",
       "    </tr>\n",
       "    <tr>\n",
       "      <th>11</th>\n",
       "      <td>11</td>\n",
       "      <td>0.077978</td>\n",
       "    </tr>\n",
       "    <tr>\n",
       "      <th>12</th>\n",
       "      <td>12</td>\n",
       "      <td>0.031769</td>\n",
       "    </tr>\n",
       "    <tr>\n",
       "      <th>13</th>\n",
       "      <td>13</td>\n",
       "      <td>0.008960</td>\n",
       "    </tr>\n",
       "    <tr>\n",
       "      <th>14</th>\n",
       "      <td>14</td>\n",
       "      <td>0.001565</td>\n",
       "    </tr>\n",
       "    <tr>\n",
       "      <th>15</th>\n",
       "      <td>15</td>\n",
       "      <td>0.000127</td>\n",
       "    </tr>\n",
       "  </tbody>\n",
       "</table>\n",
       "</div>"
      ],
      "text/plain": [
       "    Resultado  Probabilidad\n",
       "0           0      0.000006\n",
       "1           1      0.000115\n",
       "2           2      0.000986\n",
       "3           3      0.005220\n",
       "4           4      0.019139\n",
       "5           5      0.051463\n",
       "6           6      0.104832\n",
       "7           7      0.164736\n",
       "8           8      0.201344\n",
       "9           9      0.191401\n",
       "10         10      0.140360\n",
       "11         11      0.077978\n",
       "12         12      0.031769\n",
       "13         13      0.008960\n",
       "14         14      0.001565\n",
       "15         15      0.000127"
      ]
     },
     "execution_count": 163,
     "metadata": {},
     "output_type": "execute_result"
    }
   ],
   "source": [
    "## Calculemos la probabilidad asociada a cada posible resultado:\n",
    "df = pd.DataFrame(data={'Resultado':range(0,16),\n",
    "                        'Probabilidad':binom.pmf(k=range(0,16),n=15,p=0.55)})\n",
    "df"
   ]
  },
  {
   "cell_type": "code",
   "execution_count": 164,
   "id": "2f4ebe8c",
   "metadata": {},
   "outputs": [
    {
     "data": {
      "image/png": "[encoded data removed]",
      "text/plain": [
       "<Figure size 432x288 with 1 Axes>"
      ]
     },
     "metadata": {
      "needs_background": "light"
     },
     "output_type": "display_data"
    }
   ],
   "source": [
    "## Construyo la gráfica de la distribución:\n",
    "fig_sns = plt.figure() \n",
    "ax = fig_sns.add_axes([0,0,1,1])\n",
    "ax=sns.barplot(x=df[\"Resultado\"],y=df[\"Probabilidad\"]*100, color=\"lightskyblue\") \n",
    "ax.bar_label(ax.containers[0], label_type='edge',fmt='%.1f%%',padding=3, size=9)  \n",
    "ax.yaxis.set_major_formatter(mtick.PercentFormatter(xmax=100)) \n",
    "ax.set(ylim=(0, 30))\n",
    "plt.show() "
   ]
  },
  {
   "cell_type": "code",
   "execution_count": 165,
   "id": "8e1c3598",
   "metadata": {},
   "outputs": [
    {
     "data": {
      "text/plain": [
       "8.25"
      ]
     },
     "execution_count": 165,
     "metadata": {},
     "output_type": "execute_result"
    }
   ],
   "source": [
    "## ¿Cuál es la media de la distribución?\n",
    "binom.mean(n=15, p=0.55)"
   ]
  },
  {
   "cell_type": "code",
   "execution_count": 166,
   "id": "86aa3d15",
   "metadata": {},
   "outputs": [
    {
     "data": {
      "text/plain": [
       "0.346496074852906"
      ]
     },
     "execution_count": 166,
     "metadata": {},
     "output_type": "execute_result"
    }
   ],
   "source": [
    "## Cuál es la probabilidad de que sean seleccionadas menos de 8 mujeres?\n",
    "#cuanta probabilidad se acumula hasta x=7? \n",
    "binom.cdf(k=7,n=15,p=0.55)"
   ]
  },
  {
   "cell_type": "code",
   "execution_count": 167,
   "id": "867f70c9",
   "metadata": {},
   "outputs": [],
   "source": [
    "## Cuál es la probabilidad de que sean seleccionadas más de 4 mujeres?\n"
   ]
  },
  {
   "cell_type": "markdown",
   "id": "53ad04f4",
   "metadata": {},
   "source": [
    "Hagamos algunos experimentos para entender cómo varía la distribución según sus parámetros:"
   ]
  },
  {
   "cell_type": "code",
   "execution_count": 168,
   "id": "d652633e",
   "metadata": {},
   "outputs": [
    {
     "data": {
      "image/png": "[encoded data removed]",
      "text/plain": [
       "<Figure size 1080x360 with 3 Axes>"
      ]
     },
     "metadata": {
      "needs_background": "light"
     },
     "output_type": "display_data"
    }
   ],
   "source": [
    "## Variemos pi, dejemos constante n\n",
    "fig, axs = plt.subplots(ncols=3)\n",
    "fig.set_size_inches(15, 5)\n",
    "fig.subplots_adjust(wspace=0.3)\n",
    "\n",
    "df = pd.DataFrame(data={'Resultado':range(0,16),\n",
    "                        'Probabilidad':binom.pmf(k=range(0,16),n=15,p=0.2)})\n",
    "\n",
    "ax1=sns.barplot(x=df[\"Resultado\"],y=df[\"Probabilidad\"]*100, color=\"lightskyblue\",ax=axs[0])\n",
    "ax1.bar_label(ax1.containers[0], label_type='edge',fmt='%.0f%%',padding=3, size=8)  \n",
    "ax1.yaxis.set_major_formatter(mtick.PercentFormatter(xmax=100)) \n",
    "ax1.set(ylim=(0, 30))\n",
    "ax1.title.set_text(\"pi=20%\")\n",
    "\n",
    "df = pd.DataFrame(data={'Resultado':range(0,16),\n",
    "                        'Probabilidad':binom.pmf(k=range(0,16),n=15,p=0.5)})\n",
    "\n",
    "ax2=sns.barplot(x=df[\"Resultado\"],y=df[\"Probabilidad\"]*100, color=\"lightskyblue\",ax=axs[1])\n",
    "ax2.bar_label(ax2.containers[0], label_type='edge',fmt='%.0f%%',padding=3, size=8)  \n",
    "ax2.yaxis.set_major_formatter(mtick.PercentFormatter(xmax=100)) \n",
    "ax2.set(ylim=(0, 30))\n",
    "ax2.title.set_text(\"pi=50%\")\n",
    "\n",
    "df = pd.DataFrame(data={'Resultado':range(0,16),\n",
    "                        'Probabilidad':binom.pmf(k=range(0,16),n=15,p=0.8)})\n",
    "\n",
    "ax3=sns.barplot(x=df[\"Resultado\"],y=df[\"Probabilidad\"]*100, color=\"lightskyblue\",ax=axs[2])\n",
    "ax3.bar_label(ax3.containers[0], label_type='edge',fmt='%.0f%%',padding=3, size=8)  \n",
    "ax3.yaxis.set_major_formatter(mtick.PercentFormatter(xmax=100)) \n",
    "ax3.set(ylim=(0, 30))\n",
    "ax3.title.set_text(\"pi=80%\")\n",
    "\n",
    "plt.show()  "
   ]
  },
  {
   "cell_type": "code",
   "execution_count": 169,
   "id": "a0d49c1e",
   "metadata": {},
   "outputs": [
    {
     "data": {
      "image/png": "[encoded data removed]",
      "text/plain": [
       "<Figure size 1080x360 with 3 Axes>"
      ]
     },
     "metadata": {
      "needs_background": "light"
     },
     "output_type": "display_data"
    }
   ],
   "source": [
    "## Variemos n, dejemos constante pi\n",
    "fig, axs = plt.subplots(ncols=3)\n",
    "fig.set_size_inches(15, 5)\n",
    "fig.subplots_adjust(wspace=0.3)\n",
    "\n",
    "df = pd.DataFrame(data={'Resultado':range(0,16),\n",
    "                        'Probabilidad':binom.pmf(k=range(0,16),n=5,p=0.55)})\n",
    "\n",
    "ax1=sns.barplot(x=df[\"Resultado\"],y=df[\"Probabilidad\"]*100, color=\"lightskyblue\",ax=axs[0])\n",
    "ax1.bar_label(ax1.containers[0], label_type='edge',fmt='%.0f%%',padding=3, size=8)  \n",
    "ax1.yaxis.set_major_formatter(mtick.PercentFormatter(xmax=100)) \n",
    "ax1.set(ylim=(0, 40))\n",
    "ax1.title.set_text(\"n=5\")\n",
    "\n",
    "df = pd.DataFrame(data={'Resultado':range(0,16),\n",
    "                        'Probabilidad':binom.pmf(k=range(0,16),n=10,p=0.55)})\n",
    "\n",
    "ax2=sns.barplot(x=df[\"Resultado\"],y=df[\"Probabilidad\"]*100, color=\"lightskyblue\",ax=axs[1])\n",
    "ax2.bar_label(ax2.containers[0], label_type='edge',fmt='%.0f%%',padding=3, size=8)  \n",
    "ax2.yaxis.set_major_formatter(mtick.PercentFormatter(xmax=100)) \n",
    "ax2.set(ylim=(0, 40))\n",
    "ax2.title.set_text(\"n=10\")\n",
    "\n",
    "df = pd.DataFrame(data={'Resultado':range(0,16),\n",
    "                        'Probabilidad':binom.pmf(k=range(0,16),n=15,p=0.55)})\n",
    "\n",
    "ax3=sns.barplot(x=df[\"Resultado\"],y=df[\"Probabilidad\"]*100, color=\"lightskyblue\",ax=axs[2])\n",
    "ax3.bar_label(ax3.containers[0], label_type='edge',fmt='%.0f%%',padding=3, size=8)  \n",
    "ax3.yaxis.set_major_formatter(mtick.PercentFormatter(xmax=100)) \n",
    "ax3.set(ylim=(0, 40))\n",
    "ax3.title.set_text(\"n=15\")\n",
    "\n",
    "plt.show() "
   ]
  },
  {
   "cell_type": "markdown",
   "id": "8cb63126",
   "metadata": {},
   "source": [
    "## Distribución de Poisson"
   ]
  },
  {
   "cell_type": "markdown",
   "id": "59a6f8c8",
   "metadata": {},
   "source": [
    "Dentro de la librería Scipy se cuenta con algunas funciones relevantes (ver https://docs.scipy.org/doc/scipy/reference/generated/scipy.stats.poisson.html#scipy.stats.poisson):"
   ]
  },
  {
   "cell_type": "code",
   "execution_count": 170,
   "id": "0f189eb9",
   "metadata": {},
   "outputs": [
    {
     "data": {
      "text/plain": [
       "array([ 3,  8,  6,  9,  7, 12,  7,  5,  9,  8, 11, 10,  7,  4,  9, 10,  5,\n",
       "        7,  4,  7,  4,  9,  7,  9,  8,  8, 10,  3, 12,  6])"
      ]
     },
     "execution_count": 170,
     "metadata": {},
     "output_type": "execute_result"
    }
   ],
   "source": [
    "## Para generar un vector aleatorio que sigue dicha distribución:\n",
    "vector_aleatorio = poisson.rvs(mu=7,size=30)\n",
    "vector_aleatorio"
   ]
  },
  {
   "cell_type": "code",
   "execution_count": 171,
   "id": "ee542d7a",
   "metadata": {},
   "outputs": [
    {
     "data": {
      "text/plain": [
       "0.14900277967433773"
      ]
     },
     "execution_count": 171,
     "metadata": {},
     "output_type": "execute_result"
    }
   ],
   "source": [
    "## ¿Cuál es la probabilidad de que se reciban 7 llamadas?\n",
    "#Aquí estamos obteniendo la probabilidad de que x=7:\n",
    "poisson.pmf(k=7,mu=7)"
   ]
  },
  {
   "cell_type": "code",
   "execution_count": 172,
   "id": "9a13f09d",
   "metadata": {},
   "outputs": [
    {
     "data": {
      "text/plain": [
       "0.0009118819655545162"
      ]
     },
     "execution_count": 172,
     "metadata": {},
     "output_type": "execute_result"
    }
   ],
   "source": [
    "## ¿Cuál es la probabilidad de que NO se reciban llamadas?\n",
    "#Aquí estamos obteniendo la probabilidad de que x=0:\n",
    "poisson.pmf(k=0,mu=7)"
   ]
  },
  {
   "cell_type": "code",
   "execution_count": 173,
   "id": "42d6f863",
   "metadata": {},
   "outputs": [
    {
     "data": {
      "text/html": [
       "<div>\n",
       "<style scoped>\n",
       "    .dataframe tbody tr th:only-of-type {\n",
       "        vertical-align: middle;\n",
       "    }\n",
       "\n",
       "    .dataframe tbody tr th {\n",
       "        vertical-align: top;\n",
       "    }\n",
       "\n",
       "    .dataframe thead th {\n",
       "        text-align: right;\n",
       "    }\n",
       "</style>\n",
       "<table border=\"1\" class=\"dataframe\">\n",
       "  <thead>\n",
       "    <tr style=\"text-align: right;\">\n",
       "      <th></th>\n",
       "      <th>Resultado</th>\n",
       "      <th>Probabilidad</th>\n",
       "    </tr>\n",
       "  </thead>\n",
       "  <tbody>\n",
       "    <tr>\n",
       "      <th>0</th>\n",
       "      <td>0</td>\n",
       "      <td>0.000912</td>\n",
       "    </tr>\n",
       "    <tr>\n",
       "      <th>1</th>\n",
       "      <td>1</td>\n",
       "      <td>0.006383</td>\n",
       "    </tr>\n",
       "    <tr>\n",
       "      <th>2</th>\n",
       "      <td>2</td>\n",
       "      <td>0.022341</td>\n",
       "    </tr>\n",
       "    <tr>\n",
       "      <th>3</th>\n",
       "      <td>3</td>\n",
       "      <td>0.052129</td>\n",
       "    </tr>\n",
       "    <tr>\n",
       "      <th>4</th>\n",
       "      <td>4</td>\n",
       "      <td>0.091226</td>\n",
       "    </tr>\n",
       "    <tr>\n",
       "      <th>5</th>\n",
       "      <td>5</td>\n",
       "      <td>0.127717</td>\n",
       "    </tr>\n",
       "    <tr>\n",
       "      <th>6</th>\n",
       "      <td>6</td>\n",
       "      <td>0.149003</td>\n",
       "    </tr>\n",
       "    <tr>\n",
       "      <th>7</th>\n",
       "      <td>7</td>\n",
       "      <td>0.149003</td>\n",
       "    </tr>\n",
       "    <tr>\n",
       "      <th>8</th>\n",
       "      <td>8</td>\n",
       "      <td>0.130377</td>\n",
       "    </tr>\n",
       "    <tr>\n",
       "      <th>9</th>\n",
       "      <td>9</td>\n",
       "      <td>0.101405</td>\n",
       "    </tr>\n",
       "    <tr>\n",
       "      <th>10</th>\n",
       "      <td>10</td>\n",
       "      <td>0.070983</td>\n",
       "    </tr>\n",
       "    <tr>\n",
       "      <th>11</th>\n",
       "      <td>11</td>\n",
       "      <td>0.045171</td>\n",
       "    </tr>\n",
       "    <tr>\n",
       "      <th>12</th>\n",
       "      <td>12</td>\n",
       "      <td>0.026350</td>\n",
       "    </tr>\n",
       "    <tr>\n",
       "      <th>13</th>\n",
       "      <td>13</td>\n",
       "      <td>0.014188</td>\n",
       "    </tr>\n",
       "    <tr>\n",
       "      <th>14</th>\n",
       "      <td>14</td>\n",
       "      <td>0.007094</td>\n",
       "    </tr>\n",
       "    <tr>\n",
       "      <th>15</th>\n",
       "      <td>15</td>\n",
       "      <td>0.003311</td>\n",
       "    </tr>\n",
       "  </tbody>\n",
       "</table>\n",
       "</div>"
      ],
      "text/plain": [
       "    Resultado  Probabilidad\n",
       "0           0      0.000912\n",
       "1           1      0.006383\n",
       "2           2      0.022341\n",
       "3           3      0.052129\n",
       "4           4      0.091226\n",
       "5           5      0.127717\n",
       "6           6      0.149003\n",
       "7           7      0.149003\n",
       "8           8      0.130377\n",
       "9           9      0.101405\n",
       "10         10      0.070983\n",
       "11         11      0.045171\n",
       "12         12      0.026350\n",
       "13         13      0.014188\n",
       "14         14      0.007094\n",
       "15         15      0.003311"
      ]
     },
     "execution_count": 173,
     "metadata": {},
     "output_type": "execute_result"
    }
   ],
   "source": [
    "## Calculemos la probabilidad asociada a cada posible resultado:\n",
    "df = pd.DataFrame(data={'Resultado':range(0,16),\n",
    "                        'Probabilidad':poisson.pmf(k=range(0,16),mu=7)})\n",
    "df"
   ]
  },
  {
   "cell_type": "code",
   "execution_count": 174,
   "id": "94cc11a7",
   "metadata": {},
   "outputs": [
    {
     "data": {
      "image/png": "[encoded data removed]",
      "text/plain": [
       "<Figure size 432x288 with 1 Axes>"
      ]
     },
     "metadata": {
      "needs_background": "light"
     },
     "output_type": "display_data"
    }
   ],
   "source": [
    "## Construyo la gráfica de la distribución:\n",
    "fig_sns = plt.figure() \n",
    "ax = fig_sns.add_axes([0,0,1,1])\n",
    "ax=sns.barplot(x=df[\"Resultado\"],y=df[\"Probabilidad\"]*100, color=\"lightskyblue\") \n",
    "ax.bar_label(ax.containers[0], label_type='edge',fmt='%.1f%%',padding=3, size=9)  \n",
    "ax.yaxis.set_major_formatter(mtick.PercentFormatter(xmax=100)) \n",
    "ax.set(ylim=(0, 30))\n",
    "plt.show() "
   ]
  },
  {
   "cell_type": "code",
   "execution_count": 175,
   "id": "c56f83e3",
   "metadata": {},
   "outputs": [
    {
     "data": {
      "text/plain": [
       "0.3007082761743609"
      ]
     },
     "execution_count": 175,
     "metadata": {},
     "output_type": "execute_result"
    }
   ],
   "source": [
    "## cuál es la probabilidad de que se reciban 5 llamadas o menos?\n",
    "poisson.cdf(k=5,mu=7)"
   ]
  },
  {
   "cell_type": "code",
   "execution_count": 176,
   "id": "5d9acb9b",
   "metadata": {},
   "outputs": [],
   "source": [
    "## cuál es la probabilidad que se reciban entre 5 y 9 llamadas?\n"
   ]
  },
  {
   "cell_type": "markdown",
   "id": "9bf20e40",
   "metadata": {},
   "source": [
    "Miremos cómo cambia la distribución cuando cambia la media:"
   ]
  },
  {
   "cell_type": "code",
   "execution_count": 177,
   "id": "ab31b1a4",
   "metadata": {},
   "outputs": [
    {
     "data": {
      "image/png": "[encoded data removed]",
      "text/plain": [
       "<Figure size 1080x360 with 3 Axes>"
      ]
     },
     "metadata": {
      "needs_background": "light"
     },
     "output_type": "display_data"
    }
   ],
   "source": [
    "## Variemos mu\n",
    "fig, axs = plt.subplots(ncols=3)\n",
    "fig.set_size_inches(15, 5)\n",
    "fig.subplots_adjust(wspace=0.3)\n",
    "\n",
    "df = pd.DataFrame(data={'Resultado':range(0,16),\n",
    "                        'Probabilidad':poisson.pmf(k=range(0,16),mu=5)})\n",
    "\n",
    "ax1=sns.barplot(x=df[\"Resultado\"],y=df[\"Probabilidad\"]*100, color=\"lightskyblue\",ax=axs[0])\n",
    "ax1.bar_label(ax1.containers[0], label_type='edge',fmt='%.0f%%',padding=3, size=8)  \n",
    "ax1.yaxis.set_major_formatter(mtick.PercentFormatter(xmax=100)) \n",
    "ax1.set(ylim=(0, 30))\n",
    "ax1.title.set_text(\"mu=5\")\n",
    "\n",
    "df = pd.DataFrame(data={'Resultado':range(0,16),\n",
    "                        'Probabilidad':poisson.pmf(k=range(0,16),mu=9)})\n",
    "\n",
    "ax2=sns.barplot(x=df[\"Resultado\"],y=df[\"Probabilidad\"]*100, color=\"lightskyblue\",ax=axs[1])\n",
    "ax2.bar_label(ax2.containers[0], label_type='edge',fmt='%.0f%%',padding=3, size=8)  \n",
    "ax2.yaxis.set_major_formatter(mtick.PercentFormatter(xmax=100)) \n",
    "ax2.set(ylim=(0, 30))\n",
    "ax2.title.set_text(\"mu=9\")\n",
    "\n",
    "df = pd.DataFrame(data={'Resultado':range(0,16),\n",
    "                        'Probabilidad':poisson.pmf(k=range(0,16),mu=13)})\n",
    "\n",
    "ax3=sns.barplot(x=df[\"Resultado\"],y=df[\"Probabilidad\"]*100, color=\"lightskyblue\",ax=axs[2])\n",
    "ax3.bar_label(ax3.containers[0], label_type='edge',fmt='%.0f%%',padding=3, size=8)  \n",
    "ax3.yaxis.set_major_formatter(mtick.PercentFormatter(xmax=100)) \n",
    "ax3.set(ylim=(0, 30))\n",
    "ax3.title.set_text(\"mu=13\")\n",
    "\n",
    "plt.show()  "
   ]
  },
  {
   "cell_type": "markdown",
   "id": "525f4dfb",
   "metadata": {},
   "source": [
    "## Distribución Normal"
   ]
  },
  {
   "cell_type": "markdown",
   "id": "f073cf64",
   "metadata": {},
   "source": [
    "Dentro de la librería Scipy se cuenta con algunas funciones relevantes (ver https://docs.scipy.org/doc/scipy/reference/generated/scipy.stats.norm.html):"
   ]
  },
  {
   "cell_type": "code",
   "execution_count": 178,
   "id": "5d8ce5d8",
   "metadata": {},
   "outputs": [
    {
     "data": {
      "text/plain": [
       "array([17.87044821, 18.3635375 , 20.85337956, 16.17114603, 20.11186452,\n",
       "       20.63424218, 19.35083612, 21.70231092, 16.80421327, 24.27080817,\n",
       "       21.80792616, 19.4182858 , 22.66606565, 17.92162299, 16.76792011,\n",
       "       18.53038774, 18.81035149, 20.3227777 , 18.11054515, 19.44224704,\n",
       "       19.29385358, 19.74034874, 17.98218865, 18.04160153, 21.79002516,\n",
       "       18.09513229, 22.69950608, 20.94145723, 21.62319527, 16.75926905])"
      ]
     },
     "execution_count": 178,
     "metadata": {},
     "output_type": "execute_result"
    }
   ],
   "source": [
    "## Para generar un vector aleatorio que sigue dicha distribución:\n",
    "vector_aleatorio = norm.rvs(loc=20,scale=2,size=30)\n",
    "vector_aleatorio"
   ]
  },
  {
   "cell_type": "code",
   "execution_count": 179,
   "id": "f56571ea",
   "metadata": {},
   "outputs": [
    {
     "data": {
      "text/plain": [
       "0.022750131948179195"
      ]
     },
     "execution_count": 179,
     "metadata": {},
     "output_type": "execute_result"
    }
   ],
   "source": [
    "## ¿cuál es la probabilidad de que el tiempo sea menor o igual que 16 minutos?\n",
    "norm.cdf(x=16,loc=20,scale=2)"
   ]
  },
  {
   "cell_type": "code",
   "execution_count": 180,
   "id": "ce597060",
   "metadata": {},
   "outputs": [],
   "source": [
    "## ¿cuál es la probabilidad de que el tiempo esté entre 16 y 20 minutos?\n"
   ]
  },
  {
   "cell_type": "code",
   "execution_count": 181,
   "id": "febd81f1",
   "metadata": {},
   "outputs": [],
   "source": [
    "## ¿Cuál es la probabilidad de que se demoren más de 25 minutos?\n"
   ]
  },
  {
   "cell_type": "markdown",
   "id": "e2b7b6be",
   "metadata": {},
   "source": [
    "Generemos un conjunto de datos aleatorios para realizar algunos ejercicios:"
   ]
  },
  {
   "cell_type": "code",
   "execution_count": 182,
   "id": "b9816eec",
   "metadata": {},
   "outputs": [
    {
     "data": {
      "text/html": [
       "<div>\n",
       "<style scoped>\n",
       "    .dataframe tbody tr th:only-of-type {\n",
       "        vertical-align: middle;\n",
       "    }\n",
       "\n",
       "    .dataframe tbody tr th {\n",
       "        vertical-align: top;\n",
       "    }\n",
       "\n",
       "    .dataframe thead th {\n",
       "        text-align: right;\n",
       "    }\n",
       "</style>\n",
       "<table border=\"1\" class=\"dataframe\">\n",
       "  <thead>\n",
       "    <tr style=\"text-align: right;\">\n",
       "      <th></th>\n",
       "      <th>Tiempo</th>\n",
       "    </tr>\n",
       "  </thead>\n",
       "  <tbody>\n",
       "    <tr>\n",
       "      <th>0</th>\n",
       "      <td>21.096534</td>\n",
       "    </tr>\n",
       "    <tr>\n",
       "      <th>1</th>\n",
       "      <td>20.153710</td>\n",
       "    </tr>\n",
       "    <tr>\n",
       "      <th>2</th>\n",
       "      <td>19.925282</td>\n",
       "    </tr>\n",
       "    <tr>\n",
       "      <th>3</th>\n",
       "      <td>19.974661</td>\n",
       "    </tr>\n",
       "    <tr>\n",
       "      <th>4</th>\n",
       "      <td>19.747381</td>\n",
       "    </tr>\n",
       "    <tr>\n",
       "      <th>...</th>\n",
       "      <td>...</td>\n",
       "    </tr>\n",
       "    <tr>\n",
       "      <th>995</th>\n",
       "      <td>20.879824</td>\n",
       "    </tr>\n",
       "    <tr>\n",
       "      <th>996</th>\n",
       "      <td>21.204576</td>\n",
       "    </tr>\n",
       "    <tr>\n",
       "      <th>997</th>\n",
       "      <td>20.706568</td>\n",
       "    </tr>\n",
       "    <tr>\n",
       "      <th>998</th>\n",
       "      <td>24.097064</td>\n",
       "    </tr>\n",
       "    <tr>\n",
       "      <th>999</th>\n",
       "      <td>18.436916</td>\n",
       "    </tr>\n",
       "  </tbody>\n",
       "</table>\n",
       "<p>1000 rows × 1 columns</p>\n",
       "</div>"
      ],
      "text/plain": [
       "        Tiempo\n",
       "0    21.096534\n",
       "1    20.153710\n",
       "2    19.925282\n",
       "3    19.974661\n",
       "4    19.747381\n",
       "..         ...\n",
       "995  20.879824\n",
       "996  21.204576\n",
       "997  20.706568\n",
       "998  24.097064\n",
       "999  18.436916\n",
       "\n",
       "[1000 rows x 1 columns]"
      ]
     },
     "execution_count": 182,
     "metadata": {},
     "output_type": "execute_result"
    }
   ],
   "source": [
    "df = pd.DataFrame(data={'Tiempo':norm.rvs(loc=20,scale=2,size=1000)})\n",
    "df"
   ]
  },
  {
   "cell_type": "code",
   "execution_count": 183,
   "id": "ca103bed",
   "metadata": {},
   "outputs": [
    {
     "data": {
      "image/png": "[encoded data removed]",
      "text/plain": [
       "<Figure size 432x288 with 1 Axes>"
      ]
     },
     "metadata": {
      "needs_background": "light"
     },
     "output_type": "display_data"
    }
   ],
   "source": [
    "## Cómo se ve esta distribución (que ya sabemos es normal)?\n",
    "fig_hist = plt.figure() \n",
    "ax = fig_hist.add_axes([0,0,1,1])\n",
    "ax=sns.histplot(x=df['Tiempo'],kde=True,color=\"steelblue\")\n",
    "plt.show() "
   ]
  },
  {
   "cell_type": "code",
   "execution_count": 184,
   "id": "e981cd4e",
   "metadata": {},
   "outputs": [],
   "source": [
    "## Hablemos ahora de las reglas empíricas\n",
    "media_m=np.mean(df['Tiempo'])\n",
    "desv_m=np.std(df['Tiempo'])"
   ]
  },
  {
   "cell_type": "code",
   "execution_count": 185,
   "id": "b7a115fe",
   "metadata": {},
   "outputs": [
    {
     "data": {
      "text/plain": [
       "0.6826894921370861"
      ]
     },
     "execution_count": 185,
     "metadata": {},
     "output_type": "execute_result"
    }
   ],
   "source": [
    "## Teníamos que teóricamente el 68.2% de los datos están entre media +- desv\n",
    "norm.cdf(x=media_m+desv_m,loc=media_m,scale=desv_m) - norm.cdf(x=media_m-desv_m,loc=media_m,scale=desv_m)"
   ]
  },
  {
   "cell_type": "code",
   "execution_count": 186,
   "id": "ca7954dc",
   "metadata": {},
   "outputs": [
    {
     "data": {
      "text/plain": [
       "0.9544997361036416"
      ]
     },
     "execution_count": 186,
     "metadata": {},
     "output_type": "execute_result"
    }
   ],
   "source": [
    "## Teníamos que teóricamente el 95.4% de los datos están entre media +- desv\n",
    "norm.cdf(x=media_m+2*desv_m,loc=media_m,scale=desv_m) - norm.cdf(x=media_m-2*desv_m,loc=media_m,scale=desv_m)"
   ]
  },
  {
   "cell_type": "code",
   "execution_count": 187,
   "id": "5a672187",
   "metadata": {},
   "outputs": [
    {
     "data": {
      "text/plain": [
       "0.9973002039367398"
      ]
     },
     "execution_count": 187,
     "metadata": {},
     "output_type": "execute_result"
    }
   ],
   "source": [
    "## Teníamos que teóricamente el 99.7% de los datos están entre media +- desv\n",
    "norm.cdf(x=media_m+3*desv_m,loc=media_m,scale=desv_m) - norm.cdf(x=media_m-3*desv_m,loc=media_m,scale=desv_m)"
   ]
  },
  {
   "cell_type": "markdown",
   "id": "ac1e4d9e",
   "metadata": {},
   "source": [
    "Miremos cómo cambia la distribución cuando cambia la media o la desviación estándar:"
   ]
  },
  {
   "cell_type": "code",
   "execution_count": 188,
   "id": "75c259d7",
   "metadata": {},
   "outputs": [
    {
     "data": {
      "image/png": "[encoded data removed]",
      "text/plain": [
       "<Figure size 1080x360 with 3 Axes>"
      ]
     },
     "metadata": {
      "needs_background": "light"
     },
     "output_type": "display_data"
    }
   ],
   "source": [
    "## Variemos la media, y dejemos constante la desviación estándar\n",
    "fig, axs = plt.subplots(ncols=3)\n",
    "fig.set_size_inches(15, 5)\n",
    "fig.subplots_adjust(wspace=0.3)\n",
    "\n",
    "df = pd.DataFrame(data={'Tiempo':norm.rvs(loc=10,scale=4,size=1000)})\n",
    "\n",
    "ax2=sns.histplot(x=df['Tiempo'],kde=True,color=\"steelblue\", ax=axs[0]) \n",
    "ax2.set(xlim=(0, 40))\n",
    "ax2.set(ylim=(0, 130))\n",
    "ax2.title.set_text(\"Media=10\")\n",
    "\n",
    "df = pd.DataFrame(data={'Tiempo':norm.rvs(loc=20,scale=4,size=1000)})\n",
    "\n",
    "ax2=sns.histplot(x=df['Tiempo'],kde=True,color=\"steelblue\", ax=axs[1]) \n",
    "ax2.set(xlim=(0, 40))\n",
    "ax2.set(ylim=(0, 130))\n",
    "ax2.title.set_text(\"Media=20\")\n",
    "\n",
    "df = pd.DataFrame(data={'Tiempo':norm.rvs(loc=30,scale=4,size=1000)})\n",
    "\n",
    "ax3=sns.histplot(x=df['Tiempo'],kde=True,color=\"steelblue\", ax=axs[2]) \n",
    "ax3.set(xlim=(0, 40))\n",
    "ax3.set(ylim=(0, 130))\n",
    "ax3.title.set_text(\"Media=30\")\n",
    "\n",
    "plt.show()  "
   ]
  },
  {
   "cell_type": "code",
   "execution_count": 189,
   "id": "fcd0f3e7",
   "metadata": {},
   "outputs": [
    {
     "data": {
      "image/png": "[encoded data removed]",
      "text/plain": [
       "<Figure size 1080x360 with 3 Axes>"
      ]
     },
     "metadata": {
      "needs_background": "light"
     },
     "output_type": "display_data"
    }
   ],
   "source": [
    "## Variemos la desviación estándar, y dejemos constante la media\n",
    "fig, axs = plt.subplots(ncols=3)\n",
    "fig.set_size_inches(15, 5)\n",
    "fig.subplots_adjust(wspace=0.3)\n",
    "\n",
    "df = pd.DataFrame(data={'Tiempo':norm.rvs(loc=20,scale=2,size=1000)})\n",
    "\n",
    "ax2=sns.histplot(x=df['Tiempo'],kde=True,color=\"steelblue\", ax=axs[0]) \n",
    "ax2.set(xlim=(0, 40))\n",
    "ax2.set(ylim=(0, 130))\n",
    "ax2.title.set_text(\"Desv=2\")\n",
    "\n",
    "df = pd.DataFrame(data={'Tiempo':norm.rvs(loc=20,scale=4,size=1000)})\n",
    "\n",
    "ax2=sns.histplot(x=df['Tiempo'],kde=True,color=\"steelblue\", ax=axs[1]) \n",
    "ax2.set(xlim=(0, 40))\n",
    "ax2.set(ylim=(0, 130))\n",
    "ax2.title.set_text(\"Desv=4\")\n",
    "\n",
    "df = pd.DataFrame(data={'Tiempo':norm.rvs(loc=20,scale=6,size=1000)})\n",
    "\n",
    "ax3=sns.histplot(x=df['Tiempo'],kde=True,color=\"steelblue\", ax=axs[2]) \n",
    "ax3.set(xlim=(0, 40))\n",
    "ax3.set(ylim=(0, 130))\n",
    "ax3.title.set_text(\"Desv=6\")\n",
    "\n",
    "plt.show() "
   ]
  }
 ],
 "metadata": {
  "kernelspec": {
   "display_name": "Python 3 (ipykernel)",
   "language": "python",
   "name": "python3"
  },
  "language_info": {
   "codemirror_mode": {
    "name": "ipython",
    "version": 3
   },
   "file_extension": ".py",
   "mimetype": "text/x-python",
   "name": "python",
   "nbconvert_exporter": "python",
   "pygments_lexer": "ipython3",
   "version": "3.9.12"
  }
 },
 "nbformat": 4,
 "nbformat_minor": 5
}
