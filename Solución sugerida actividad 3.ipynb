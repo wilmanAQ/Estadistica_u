{
 "cells": [
  {
   "cell_type": "markdown",
   "id": "f42f7c18",
   "metadata": {},
   "source": [
    "# Nivelatorio II: Estadística para la Ciencia de Datos"
   ]
  },
  {
   "cell_type": "markdown",
   "id": "b6f75b1d",
   "metadata": {},
   "source": [
    "## Solución sugerida actividad en casa #3"
   ]
  },
  {
   "cell_type": "code",
   "execution_count": 11,
   "id": "e65f13f2",
   "metadata": {},
   "outputs": [],
   "source": [
    "import pandas as pd   ## Libreria para manipular y analizar datos\n",
    "import matplotlib.pyplot as plt  ## Libreria para visualizar\n",
    "import seaborn as sns   ## Libreria para visualizar\n",
    "import numpy as np  ## Libreria para operaciones numéricas\n",
    "import plotly  ## Libreria para visualizaciones interactivas\n",
    "import matplotlib.ticker as mtick  ## función para formatear en visualizaciones\n",
    "from scipy.stats import skew, kurtosis  ## funciones estadísticas\n",
    "from scipy.stats import norm ## distribución normal\n",
    "from scipy.stats import poisson ## distribución Poisson\n",
    "from scipy.stats import t ## distribución t\n",
    "from scipy.stats import ttest_1samp  ## Prueba t\n",
    "import statsmodels.stats as sm  ## funciones estadísticas\n",
    "import statsmodels.api as sm1  ## funciones estadísticas"
   ]
  },
  {
   "cell_type": "code",
   "execution_count": 5,
   "id": "7f085c58",
   "metadata": {},
   "outputs": [
    {
     "data": {
      "text/html": [
       "<div>\n",
       "<style scoped>\n",
       "    .dataframe tbody tr th:only-of-type {\n",
       "        vertical-align: middle;\n",
       "    }\n",
       "\n",
       "    .dataframe tbody tr th {\n",
       "        vertical-align: top;\n",
       "    }\n",
       "\n",
       "    .dataframe thead th {\n",
       "        text-align: right;\n",
       "    }\n",
       "</style>\n",
       "<table border=\"1\" class=\"dataframe\">\n",
       "  <thead>\n",
       "    <tr style=\"text-align: right;\">\n",
       "      <th></th>\n",
       "      <th>ESTU_GENERO</th>\n",
       "      <th>ESTU_FECHANACIMIENTO</th>\n",
       "      <th>ESTU_CONSECUTIVO</th>\n",
       "      <th>MOD_RAZONA_CUANTITAT_PUNT</th>\n",
       "      <th>MOD_LECTURA_CRITICA_PUNT</th>\n",
       "      <th>MOD_COMPETEN_CIUDADA_PUNT</th>\n",
       "      <th>MOD_COMUNI_ESCRITA_PUNT</th>\n",
       "      <th>MOD_INGLES_PUNT</th>\n",
       "      <th>MOD_INGLES_DESEM</th>\n",
       "    </tr>\n",
       "  </thead>\n",
       "  <tbody>\n",
       "    <tr>\n",
       "      <th>0</th>\n",
       "      <td>F</td>\n",
       "      <td>09/11/1976</td>\n",
       "      <td>EK201640032296</td>\n",
       "      <td>89</td>\n",
       "      <td>100</td>\n",
       "      <td>124</td>\n",
       "      <td>103.0</td>\n",
       "      <td>99</td>\n",
       "      <td>A1</td>\n",
       "    </tr>\n",
       "    <tr>\n",
       "      <th>1</th>\n",
       "      <td>F</td>\n",
       "      <td>13/06/1987</td>\n",
       "      <td>EK201640032078</td>\n",
       "      <td>93</td>\n",
       "      <td>110</td>\n",
       "      <td>97</td>\n",
       "      <td>145.0</td>\n",
       "      <td>87</td>\n",
       "      <td>A1</td>\n",
       "    </tr>\n",
       "    <tr>\n",
       "      <th>2</th>\n",
       "      <td>M</td>\n",
       "      <td>20/05/1992</td>\n",
       "      <td>EK201640042250</td>\n",
       "      <td>100</td>\n",
       "      <td>85</td>\n",
       "      <td>67</td>\n",
       "      <td>126.0</td>\n",
       "      <td>92</td>\n",
       "      <td>A1</td>\n",
       "    </tr>\n",
       "    <tr>\n",
       "      <th>3</th>\n",
       "      <td>M</td>\n",
       "      <td>15/11/1993</td>\n",
       "      <td>EK201640054764</td>\n",
       "      <td>83</td>\n",
       "      <td>71</td>\n",
       "      <td>91</td>\n",
       "      <td>63.0</td>\n",
       "      <td>104</td>\n",
       "      <td>A2</td>\n",
       "    </tr>\n",
       "    <tr>\n",
       "      <th>4</th>\n",
       "      <td>M</td>\n",
       "      <td>01/05/1996</td>\n",
       "      <td>EK201640047051</td>\n",
       "      <td>70</td>\n",
       "      <td>61</td>\n",
       "      <td>69</td>\n",
       "      <td>97.0</td>\n",
       "      <td>85</td>\n",
       "      <td>A1</td>\n",
       "    </tr>\n",
       "    <tr>\n",
       "      <th>...</th>\n",
       "      <td>...</td>\n",
       "      <td>...</td>\n",
       "      <td>...</td>\n",
       "      <td>...</td>\n",
       "      <td>...</td>\n",
       "      <td>...</td>\n",
       "      <td>...</td>\n",
       "      <td>...</td>\n",
       "      <td>...</td>\n",
       "    </tr>\n",
       "    <tr>\n",
       "      <th>376</th>\n",
       "      <td>M</td>\n",
       "      <td>07/09/1995</td>\n",
       "      <td>EK201640048651</td>\n",
       "      <td>101</td>\n",
       "      <td>100</td>\n",
       "      <td>107</td>\n",
       "      <td>98.0</td>\n",
       "      <td>110</td>\n",
       "      <td>A2</td>\n",
       "    </tr>\n",
       "    <tr>\n",
       "      <th>377</th>\n",
       "      <td>M</td>\n",
       "      <td>23/08/1991</td>\n",
       "      <td>EK201640041650</td>\n",
       "      <td>93</td>\n",
       "      <td>106</td>\n",
       "      <td>97</td>\n",
       "      <td>118.0</td>\n",
       "      <td>91</td>\n",
       "      <td>A1</td>\n",
       "    </tr>\n",
       "    <tr>\n",
       "      <th>378</th>\n",
       "      <td>F</td>\n",
       "      <td>24/08/1993</td>\n",
       "      <td>EK201640035953</td>\n",
       "      <td>70</td>\n",
       "      <td>92</td>\n",
       "      <td>84</td>\n",
       "      <td>105.0</td>\n",
       "      <td>73</td>\n",
       "      <td>A1-</td>\n",
       "    </tr>\n",
       "    <tr>\n",
       "      <th>379</th>\n",
       "      <td>F</td>\n",
       "      <td>11/06/1997</td>\n",
       "      <td>EK201640056408</td>\n",
       "      <td>59</td>\n",
       "      <td>82</td>\n",
       "      <td>69</td>\n",
       "      <td>75.0</td>\n",
       "      <td>79</td>\n",
       "      <td>A1-</td>\n",
       "    </tr>\n",
       "    <tr>\n",
       "      <th>380</th>\n",
       "      <td>F</td>\n",
       "      <td>25/10/1972</td>\n",
       "      <td>EK201640051764</td>\n",
       "      <td>78</td>\n",
       "      <td>79</td>\n",
       "      <td>92</td>\n",
       "      <td>85.0</td>\n",
       "      <td>85</td>\n",
       "      <td>A1</td>\n",
       "    </tr>\n",
       "  </tbody>\n",
       "</table>\n",
       "<p>381 rows × 9 columns</p>\n",
       "</div>"
      ],
      "text/plain": [
       "    ESTU_GENERO ESTU_FECHANACIMIENTO ESTU_CONSECUTIVO  \\\n",
       "0             F           09/11/1976   EK201640032296   \n",
       "1             F           13/06/1987   EK201640032078   \n",
       "2             M           20/05/1992   EK201640042250   \n",
       "3             M           15/11/1993   EK201640054764   \n",
       "4             M           01/05/1996   EK201640047051   \n",
       "..          ...                  ...              ...   \n",
       "376           M           07/09/1995   EK201640048651   \n",
       "377           M           23/08/1991   EK201640041650   \n",
       "378           F           24/08/1993   EK201640035953   \n",
       "379           F           11/06/1997   EK201640056408   \n",
       "380           F           25/10/1972   EK201640051764   \n",
       "\n",
       "     MOD_RAZONA_CUANTITAT_PUNT  MOD_LECTURA_CRITICA_PUNT  \\\n",
       "0                           89                       100   \n",
       "1                           93                       110   \n",
       "2                          100                        85   \n",
       "3                           83                        71   \n",
       "4                           70                        61   \n",
       "..                         ...                       ...   \n",
       "376                        101                       100   \n",
       "377                         93                       106   \n",
       "378                         70                        92   \n",
       "379                         59                        82   \n",
       "380                         78                        79   \n",
       "\n",
       "     MOD_COMPETEN_CIUDADA_PUNT  MOD_COMUNI_ESCRITA_PUNT  MOD_INGLES_PUNT  \\\n",
       "0                          124                    103.0               99   \n",
       "1                           97                    145.0               87   \n",
       "2                           67                    126.0               92   \n",
       "3                           91                     63.0              104   \n",
       "4                           69                     97.0               85   \n",
       "..                         ...                      ...              ...   \n",
       "376                        107                     98.0              110   \n",
       "377                         97                    118.0               91   \n",
       "378                         84                    105.0               73   \n",
       "379                         69                     75.0               79   \n",
       "380                         92                     85.0               85   \n",
       "\n",
       "    MOD_INGLES_DESEM  \n",
       "0                 A1  \n",
       "1                 A1  \n",
       "2                 A1  \n",
       "3                 A2  \n",
       "4                 A1  \n",
       "..               ...  \n",
       "376               A2  \n",
       "377               A1  \n",
       "378              A1-  \n",
       "379              A1-  \n",
       "380               A1  \n",
       "\n",
       "[381 rows x 9 columns]"
      ]
     },
     "execution_count": 5,
     "metadata": {},
     "output_type": "execute_result"
    }
   ],
   "source": [
    "## Cargamos los datos de la muestra\n",
    "base = pd.read_csv(\"Muestra_styt.csv\",sep=\";\")\n",
    "base"
   ]
  },
  {
   "cell_type": "markdown",
   "id": "45b9990f",
   "metadata": {},
   "source": [
    "1. Conociendo que el tamaño total de la población es 52712 ¿es óptimo el tamaño de muestra escogido, teniendo en cuenta que se quería tener un margen de error de 5% y un nivel de confianza del 95%? Justifique y demuestre."
   ]
  },
  {
   "cell_type": "code",
   "execution_count": 2,
   "id": "ab515249",
   "metadata": {},
   "outputs": [],
   "source": [
    "# Cargamos la función de tamaño de muestra\n",
    "def tam_muestra(tam_pobl,prop,error,conf):\n",
    "    N=tam_pobl\n",
    "    p=prop\n",
    "    e=error\n",
    "    z=norm.ppf(q=(1-conf)/2)\n",
    "    n=(N*p*(1-p)*z**2)/(((N-1)*e**2)+(p*(1-p)*z**2))\n",
    "    return round(n)"
   ]
  },
  {
   "cell_type": "code",
   "execution_count": 6,
   "id": "b2da0ffe",
   "metadata": {},
   "outputs": [
    {
     "data": {
      "text/plain": [
       "381"
      ]
     },
     "execution_count": 6,
     "metadata": {},
     "output_type": "execute_result"
    }
   ],
   "source": [
    "## Reemplazamos los datos en la función:\n",
    "tam_muestra(52712,0.5,0.05,0.95)"
   ]
  },
  {
   "cell_type": "markdown",
   "id": "ca8f8642",
   "metadata": {},
   "source": [
    "La muestra que se nos entregó tiene 381 individuos seleccionados aleatoriamente. Al verificar el tamaño óptimo de la muestra reemplazando los valores correspondientes, se obtiene un tamaño de 381. Es decir, sí es óptimo."
   ]
  },
  {
   "cell_type": "markdown",
   "id": "6f80635e",
   "metadata": {},
   "source": [
    "2. Muestre las estadísticas descriptivas del puntaje de razonamiento cuantitativo. Grafique y describa la distribución."
   ]
  },
  {
   "cell_type": "code",
   "execution_count": 8,
   "id": "a45368f9",
   "metadata": {},
   "outputs": [],
   "source": [
    "def fun_tabla_descriptivas(columnas):\n",
    "    tabla_descriptivas=pd.DataFrame(columnas.describe())\n",
    "    tabla_descriptivas.loc['coef. variation']=columnas.std()/columnas.mean()\n",
    "    tabla_descriptivas.loc['skew']=skew(columnas)\n",
    "    tabla_descriptivas.loc['kurtosis']=kurtosis(columnas)\n",
    "    return tabla_descriptivas"
   ]
  },
  {
   "cell_type": "code",
   "execution_count": 12,
   "id": "65c36e38",
   "metadata": {},
   "outputs": [
    {
     "data": {
      "text/html": [
       "<div>\n",
       "<style scoped>\n",
       "    .dataframe tbody tr th:only-of-type {\n",
       "        vertical-align: middle;\n",
       "    }\n",
       "\n",
       "    .dataframe tbody tr th {\n",
       "        vertical-align: top;\n",
       "    }\n",
       "\n",
       "    .dataframe thead th {\n",
       "        text-align: right;\n",
       "    }\n",
       "</style>\n",
       "<table border=\"1\" class=\"dataframe\">\n",
       "  <thead>\n",
       "    <tr style=\"text-align: right;\">\n",
       "      <th></th>\n",
       "      <th>MOD_RAZONA_CUANTITAT_PUNT</th>\n",
       "    </tr>\n",
       "  </thead>\n",
       "  <tbody>\n",
       "    <tr>\n",
       "      <th>count</th>\n",
       "      <td>381.000000</td>\n",
       "    </tr>\n",
       "    <tr>\n",
       "      <th>mean</th>\n",
       "      <td>97.603675</td>\n",
       "    </tr>\n",
       "    <tr>\n",
       "      <th>std</th>\n",
       "      <td>21.810014</td>\n",
       "    </tr>\n",
       "    <tr>\n",
       "      <th>min</th>\n",
       "      <td>43.000000</td>\n",
       "    </tr>\n",
       "    <tr>\n",
       "      <th>25%</th>\n",
       "      <td>83.000000</td>\n",
       "    </tr>\n",
       "    <tr>\n",
       "      <th>50%</th>\n",
       "      <td>98.000000</td>\n",
       "    </tr>\n",
       "    <tr>\n",
       "      <th>75%</th>\n",
       "      <td>112.000000</td>\n",
       "    </tr>\n",
       "    <tr>\n",
       "      <th>max</th>\n",
       "      <td>156.000000</td>\n",
       "    </tr>\n",
       "    <tr>\n",
       "      <th>coef. variation</th>\n",
       "      <td>0.223455</td>\n",
       "    </tr>\n",
       "    <tr>\n",
       "      <th>skew</th>\n",
       "      <td>0.063255</td>\n",
       "    </tr>\n",
       "    <tr>\n",
       "      <th>kurtosis</th>\n",
       "      <td>-0.416975</td>\n",
       "    </tr>\n",
       "  </tbody>\n",
       "</table>\n",
       "</div>"
      ],
      "text/plain": [
       "                 MOD_RAZONA_CUANTITAT_PUNT\n",
       "count                           381.000000\n",
       "mean                             97.603675\n",
       "std                              21.810014\n",
       "min                              43.000000\n",
       "25%                              83.000000\n",
       "50%                              98.000000\n",
       "75%                             112.000000\n",
       "max                             156.000000\n",
       "coef. variation                   0.223455\n",
       "skew                              0.063255\n",
       "kurtosis                         -0.416975"
      ]
     },
     "execution_count": 12,
     "metadata": {},
     "output_type": "execute_result"
    }
   ],
   "source": [
    "fun_tabla_descriptivas(base[\"MOD_RAZONA_CUANTITAT_PUNT\"])"
   ]
  },
  {
   "cell_type": "code",
   "execution_count": 48,
   "id": "a0bd06a7",
   "metadata": {},
   "outputs": [
    {
     "data": {
      "image/png": "[encoded data removed]",
      "text/plain": [
       "<Figure size 864x576 with 2 Axes>"
      ]
     },
     "metadata": {
      "needs_background": "light"
     },
     "output_type": "display_data"
    }
   ],
   "source": [
    "## Graficamos la variable:\n",
    "fig, axs = plt.subplots(nrows=2)\n",
    "fig.set_size_inches(12, 8)\n",
    "fig.subplots_adjust(hspace=0)\n",
    "\n",
    "ax1 = sns.boxplot(x=base[\"MOD_RAZONA_CUANTITAT_PUNT\"],color=\"lightblue\",ax=axs[0])\n",
    "ax1.set(xlim=(0, 200))\n",
    "ax1.set_xlabel('')\n",
    "ax1.set_xticklabels([])\n",
    "ax1.set_yticklabels([])\n",
    "ax1.set_yticks([])\n",
    "\n",
    "ax2=sns.histplot(x=base[\"MOD_RAZONA_CUANTITAT_PUNT\"],kde=True,color=\"steelblue\",ax=axs[1])\n",
    "ax2.set(xlim=(0, 200))\n",
    "ax2.set_xlabel('Puntaje Razonamiento Cuantitativo')\n",
    "ax2.set_ylabel('Frecuencia absoluta')\n",
    "\n",
    "plt.show()"
   ]
  },
  {
   "cell_type": "markdown",
   "id": "d6b04601",
   "metadata": {},
   "source": [
    "Teniendo en cuenta las estadísticas descriptivas y los gráficos realizados, podríamos comentar que la distribución del puntaje de razonamiento cuantitativo en la muestra recolectada no parece ser asimétrica (coeficiente de asimetría muy cercano a 0, media y mediana muy cercanos y el histograma y boxplot mostrando simetría en las colas). Los datos se agrupan alrededor de un único centro, que está en 98 puntos, con una dispersión media de casi 22 puntos. El 50% de los datos está agrupado entre 83 y 112 puntos."
   ]
  },
  {
   "cell_type": "markdown",
   "id": "5451feca",
   "metadata": {},
   "source": [
    "3. ¿Cuál es la estimación de la media del puntaje de razonamiento cuantitativo poblacional?"
   ]
  },
  {
   "cell_type": "code",
   "execution_count": 50,
   "id": "ca3da632",
   "metadata": {},
   "outputs": [
    {
     "data": {
      "text/plain": [
       "97.60367454068242"
      ]
     },
     "execution_count": 50,
     "metadata": {},
     "output_type": "execute_result"
    }
   ],
   "source": [
    "base[\"MOD_RAZONA_CUANTITAT_PUNT\"].mean()"
   ]
  },
  {
   "cell_type": "markdown",
   "id": "dfee95b6",
   "metadata": {},
   "source": [
    "Recordando que si la muestra tiene un tamaño óptimo y es representativa, la media muestral es un estimador puntual de la media poblacional. Por tanto, podríamos decir que un estudiante que presenta el Saber TyT obtiene en promedio 97.6 puntos en la prueba de razonamiento cuantitativo. Recordemos que en la sesión vimos que ya sabemos que este valor no es exactamente igual al valor poblacional, pero está muy cercano, por tanto es la mejor estimación que tenemos. "
   ]
  },
  {
   "cell_type": "markdown",
   "id": "d530597e",
   "metadata": {},
   "source": [
    "4. Construya intervalos de confianza para la media de dicha prueba, con niveles de confianza del 90%, 95% y 99%. ¿Qué concluye sobre la media de dicha prueba?"
   ]
  },
  {
   "cell_type": "code",
   "execution_count": 52,
   "id": "526d8dee",
   "metadata": {},
   "outputs": [
    {
     "name": "stdout",
     "output_type": "stream",
     "text": [
      "IC 90%\n",
      "(95.76128790823799, 99.44606117312685)\n",
      "IC 95%\n",
      "(95.40669008335581, 99.80065899800903)\n",
      "IC 99%\n",
      "(94.71101830024743, 100.49633078111741)\n"
     ]
    }
   ],
   "source": [
    "# Intervalo de confianza del 90%\n",
    "print(\"IC 90%\")\n",
    "print(sm1.stats.DescrStatsW(base[\"MOD_RAZONA_CUANTITAT_PUNT\"]).tconfint_mean(0.1))\n",
    "\n",
    "# Intervalo de confianza del 95%\n",
    "print(\"IC 95%\")\n",
    "print(sm1.stats.DescrStatsW(base[\"MOD_RAZONA_CUANTITAT_PUNT\"]).tconfint_mean(0.05))\n",
    "\n",
    "# Intervalo de confianza del 99%\n",
    "print(\"IC 99%\")\n",
    "print(sm1.stats.DescrStatsW(base[\"MOD_RAZONA_CUANTITAT_PUNT\"]).tconfint_mean(0.01))"
   ]
  },
  {
   "cell_type": "markdown",
   "id": "bbe9c38c",
   "metadata": {},
   "source": [
    "Voy a interpretar solo el intervalo de confianza del 95%, solo para mostrar cómo sería: Con un 95% de confianza, se puede esperar que el puntaje promedio en la prueba de razonamiento cuantitativo esté entre 94.7 y 100.5 puntos."
   ]
  },
  {
   "cell_type": "markdown",
   "id": "a3330f01",
   "metadata": {},
   "source": [
    "5. Un asesor del Icfes asegura que la media del puntaje de razonamiento cuantitativo es 90. ¿Qué puede decir sobre tal afirmación?"
   ]
  },
  {
   "cell_type": "markdown",
   "id": "3f8ba854",
   "metadata": {},
   "source": [
    "Teniendo en cuenta la afirmación del asesor, podemos deducir que se trata de una prueba de dos colas, donde las hipótesis son:  \n",
    "  - Ho: La media del puntaje de razonamiento cuantitativo es igual a 90  \n",
    "  - Ha: La media del puntaje de razonamiento cuantitativo NO es igual a 90"
   ]
  },
  {
   "cell_type": "code",
   "execution_count": 55,
   "id": "18d046c6",
   "metadata": {},
   "outputs": [
    {
     "data": {
      "text/plain": [
       "Ttest_1sampResult(statistic=6.805030205503605, pvalue=3.9468885006521075e-11)"
      ]
     },
     "execution_count": 55,
     "metadata": {},
     "output_type": "execute_result"
    }
   ],
   "source": [
    "## Realizamos entonces la prueba t, dado que no conocemos la desviación estándar de la población:\n",
    "ttest_1samp(a=base[\"MOD_RAZONA_CUANTITAT_PUNT\"],popmean=90)"
   ]
  },
  {
   "cell_type": "markdown",
   "id": "cbab5ec7",
   "metadata": {},
   "source": [
    "Dado que el p-valor es menor que un nivel de significancia de 0.05, es posible rechazar la hipótesis nula. Por tanto, con un 95% de confianza (incluso con un 99%) es posible rechazar la hipótesis nula de que la media del puntaje de razonamiento cuantitativo es 90 puntos. Es decir, la afirmación del asesor no es cierta."
   ]
  },
  {
   "cell_type": "markdown",
   "id": "38a68236",
   "metadata": {},
   "source": [
    "6. Calcule la proporción de hombres y mujeres de la muestra. Grafique dichas proporciones."
   ]
  },
  {
   "cell_type": "code",
   "execution_count": 57,
   "id": "97a87b4c",
   "metadata": {},
   "outputs": [
    {
     "data": {
      "text/html": [
       "<div>\n",
       "<style scoped>\n",
       "    .dataframe tbody tr th:only-of-type {\n",
       "        vertical-align: middle;\n",
       "    }\n",
       "\n",
       "    .dataframe tbody tr th {\n",
       "        vertical-align: top;\n",
       "    }\n",
       "\n",
       "    .dataframe thead th {\n",
       "        text-align: right;\n",
       "    }\n",
       "</style>\n",
       "<table border=\"1\" class=\"dataframe\">\n",
       "  <thead>\n",
       "    <tr style=\"text-align: right;\">\n",
       "      <th>col_0</th>\n",
       "      <th>ESTU_GENERO</th>\n",
       "      <th>Freq. Abs.</th>\n",
       "      <th>Freq. Rel.</th>\n",
       "    </tr>\n",
       "  </thead>\n",
       "  <tbody>\n",
       "    <tr>\n",
       "      <th>0</th>\n",
       "      <td>M</td>\n",
       "      <td>195</td>\n",
       "      <td>0.511811</td>\n",
       "    </tr>\n",
       "    <tr>\n",
       "      <th>1</th>\n",
       "      <td>F</td>\n",
       "      <td>186</td>\n",
       "      <td>0.488189</td>\n",
       "    </tr>\n",
       "  </tbody>\n",
       "</table>\n",
       "</div>"
      ],
      "text/plain": [
       "col_0 ESTU_GENERO  Freq. Abs.  Freq. Rel.\n",
       "0               M         195    0.511811\n",
       "1               F         186    0.488189"
      ]
     },
     "execution_count": 57,
     "metadata": {},
     "output_type": "execute_result"
    }
   ],
   "source": [
    "## Realizamos la tabla de frecuencia:\n",
    "tabla_freq=(pd.crosstab(index=base[\"ESTU_GENERO\"],columns=\"count\")).reset_index()\n",
    "tabla_freq['Freq. Rel.']=tabla_freq['count']/sum(tabla_freq['count'])\n",
    "tabla_freq.rename(columns={'count':'Freq. Abs.'},inplace=True)\n",
    "tabla_freq=tabla_freq.sort_values(by='Freq. Abs.',ascending=False).reset_index(drop=True)\n",
    "tabla_freq"
   ]
  },
  {
   "cell_type": "code",
   "execution_count": 60,
   "id": "fbf570ee",
   "metadata": {},
   "outputs": [
    {
     "data": {
      "image/png": "[encoded data removed]",
      "text/plain": [
       "<Figure size 432x288 with 1 Axes>"
      ]
     },
     "metadata": {},
     "output_type": "display_data"
    }
   ],
   "source": [
    "## Realizamos la gráfica\n",
    "fig_torta = plt.figure() \n",
    "ax = fig_torta.add_axes([0,0,1,1])\n",
    "plt.pie(tabla_freq[\"Freq. Rel.\"], labels=tabla_freq[\"ESTU_GENERO\"],autopct='%1.1f%%',startangle=90)\n",
    "plt.legend(labels=[\"Masculino\",\"Femenino\"],loc=\"best\")\n",
    "plt.show()"
   ]
  },
  {
   "cell_type": "markdown",
   "id": "c9b783f9",
   "metadata": {},
   "source": [
    "Teniendo en cuenta esta información, podríamos comentar que en la muestra ninguno de los géneros es la categoría mayoritaria, sino que más bien que están balanceados."
   ]
  },
  {
   "cell_type": "markdown",
   "id": "c3f48ad7",
   "metadata": {},
   "source": [
    "7. ¿Cuál es la estimación de la proporción de mujeres poblacional?"
   ]
  },
  {
   "cell_type": "markdown",
   "id": "220b0757",
   "metadata": {},
   "source": [
    "Recordando que si la muestra tiene un tamaño óptimo y es representativa, la proporción muestral es un estimador puntual de la proporción poblacional. Por tanto, podríamos decir que el 48.8% de los estudiantes que presentan la prueba Saber TyT pertenecen al género femenino."
   ]
  },
  {
   "cell_type": "markdown",
   "id": "8a0326b0",
   "metadata": {},
   "source": [
    "8. Construya intervalos de confianza para la proporción de mujeres, con niveles de confianza del 90%, 95% y 99%. ¿Qué concluye sobre la proporción de mujeres?"
   ]
  },
  {
   "cell_type": "code",
   "execution_count": 61,
   "id": "197340e5",
   "metadata": {},
   "outputs": [
    {
     "name": "stdout",
     "output_type": "stream",
     "text": [
      "IC 90%\n",
      "(0.4460665314580613, 0.5303114212978443)\n",
      "IC 95%\n",
      "(0.43799698747935933, 0.5383809652765462)\n",
      "IC 99%\n",
      "(0.4222255215246037, 0.5541524312313019)\n"
     ]
    }
   ],
   "source": [
    "#intervalo de confianza (numero de fumadoras,total muestra,nivel de significancia)\n",
    "print(\"IC 90%\")\n",
    "print(sm.proportion.proportion_confint(186,381,0.1))\n",
    "print(\"IC 95%\")\n",
    "print(sm.proportion.proportion_confint(186,381,0.05))\n",
    "print(\"IC 99%\")\n",
    "print(sm.proportion.proportion_confint(186,381,0.01))"
   ]
  },
  {
   "cell_type": "markdown",
   "id": "9318ca6c",
   "metadata": {},
   "source": [
    "Con un 95% de confianza, se puede esperar que la proporción de mujeres esté entre 43.8% y 53.8%."
   ]
  },
  {
   "cell_type": "markdown",
   "id": "252f89f4",
   "metadata": {},
   "source": [
    "9. Un asesor del Icfes considera que 2 de cada 3 estudiantes que presentan el Saber TYT son mujeres ¿Qué puede decir sobre tal afirmación?"
   ]
  },
  {
   "cell_type": "markdown",
   "id": "0aa97154",
   "metadata": {},
   "source": [
    "Teniendo en cuenta la afirmación del asesor, podemos deducir que se trata de una prueba de dos colas, donde las hipótesis son:  \n",
    "  - Ho: La proporción de mujeres es igual a 66.6% \n",
    "  - Ha: La proporción de mujeres NO es igual a 66.6%"
   ]
  },
  {
   "cell_type": "code",
   "execution_count": 63,
   "id": "bbd5d14e",
   "metadata": {},
   "outputs": [
    {
     "name": "stdout",
     "output_type": "stream",
     "text": [
      "Estadístico Z= -6.943402921480564, Valor-p= 3.827656758282525e-12\n"
     ]
    }
   ],
   "source": [
    "## Realizamos la prueba z de proporciones\n",
    "z,vp = sm.proportion.proportions_ztest(186,381,value=0.666)\n",
    "print(f'Estadístico Z= {z}, Valor-p= {vp}')"
   ]
  },
  {
   "cell_type": "markdown",
   "id": "dc24c742",
   "metadata": {},
   "source": [
    "Dado que el p-valor es menor que un nivel de significancia de 0.05, es posible rechazar la hipótesis nula. Por tanto, con un 95% de confianza (incluso con un 99%) es posible rechazar la hipótesis nula de que la proporción de mujeres es igual a 66.6%. Es decir, la afirmación del asesor no es cierta."
   ]
  }
 ],
 "metadata": {
  "kernelspec": {
   "display_name": "Python 3 (ipykernel)",
   "language": "python",
   "name": "python3"
  },
  "language_info": {
   "codemirror_mode": {
    "name": "ipython",
    "version": 3
   },
   "file_extension": ".py",
   "mimetype": "text/x-python",
   "name": "python",
   "nbconvert_exporter": "python",
   "pygments_lexer": "ipython3",
   "version": "3.9.12"
  }
 },
 "nbformat": 4,
 "nbformat_minor": 5
}
